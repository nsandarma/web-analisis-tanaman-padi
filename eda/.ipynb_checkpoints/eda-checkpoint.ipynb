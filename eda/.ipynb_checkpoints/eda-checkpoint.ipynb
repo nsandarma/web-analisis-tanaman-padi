{
 "cells": [
  {
   "cell_type": "markdown",
   "id": "ace82ae2-daac-4aac-b170-679a83afb684",
   "metadata": {},
   "source": [
    "# Import Library"
   ]
  },
  {
   "cell_type": "code",
   "execution_count": 1,
   "id": "1b07dabb-9882-4b31-b7d5-733ad48c8b0e",
   "metadata": {},
   "outputs": [],
   "source": [
    "import pandas as pd\n",
    "import numpy as np\n",
    "import matplotlib.pyplot as plt\n",
    "import warnings\n",
    "import seaborn as sns\n",
    "import plotly.express as px\n",
    "%matplotlib inline\n",
    "warnings.filterwarnings('ignore')"
   ]
  },
  {
   "cell_type": "markdown",
   "id": "e161d3b4-2871-42c8-b3ff-d9ce8c08ae7d",
   "metadata": {},
   "source": [
    "# Open Dataset"
   ]
  },
  {
   "cell_type": "code",
   "execution_count": 3,
   "id": "3736ff21-4dbc-48d8-9b06-5d27ce7eb004",
   "metadata": {},
   "outputs": [
    {
     "data": {
      "text/html": [
       "<div>\n",
       "<style scoped>\n",
       "    .dataframe tbody tr th:only-of-type {\n",
       "        vertical-align: middle;\n",
       "    }\n",
       "\n",
       "    .dataframe tbody tr th {\n",
       "        vertical-align: top;\n",
       "    }\n",
       "\n",
       "    .dataframe thead th {\n",
       "        text-align: right;\n",
       "    }\n",
       "</style>\n",
       "<table border=\"1\" class=\"dataframe\">\n",
       "  <thead>\n",
       "    <tr style=\"text-align: right;\">\n",
       "      <th></th>\n",
       "      <th>Provinsi</th>\n",
       "      <th>Tahun</th>\n",
       "      <th>Produksi</th>\n",
       "      <th>Luas Panen</th>\n",
       "      <th>Curah hujan</th>\n",
       "      <th>Kelembapan</th>\n",
       "      <th>Suhu rata-rata</th>\n",
       "    </tr>\n",
       "  </thead>\n",
       "  <tbody>\n",
       "    <tr>\n",
       "      <th>0</th>\n",
       "      <td>Aceh</td>\n",
       "      <td>1993</td>\n",
       "      <td>1329536.00</td>\n",
       "      <td>323589.00</td>\n",
       "      <td>1627.0</td>\n",
       "      <td>82.00</td>\n",
       "      <td>26.06</td>\n",
       "    </tr>\n",
       "    <tr>\n",
       "      <th>1</th>\n",
       "      <td>Aceh</td>\n",
       "      <td>1994</td>\n",
       "      <td>1299699.00</td>\n",
       "      <td>329041.00</td>\n",
       "      <td>1521.0</td>\n",
       "      <td>82.12</td>\n",
       "      <td>26.92</td>\n",
       "    </tr>\n",
       "    <tr>\n",
       "      <th>2</th>\n",
       "      <td>Aceh</td>\n",
       "      <td>1995</td>\n",
       "      <td>1382905.00</td>\n",
       "      <td>339253.00</td>\n",
       "      <td>1476.0</td>\n",
       "      <td>82.72</td>\n",
       "      <td>26.27</td>\n",
       "    </tr>\n",
       "    <tr>\n",
       "      <th>3</th>\n",
       "      <td>Aceh</td>\n",
       "      <td>1996</td>\n",
       "      <td>1419128.00</td>\n",
       "      <td>348223.00</td>\n",
       "      <td>1557.0</td>\n",
       "      <td>83.00</td>\n",
       "      <td>26.08</td>\n",
       "    </tr>\n",
       "    <tr>\n",
       "      <th>4</th>\n",
       "      <td>Aceh</td>\n",
       "      <td>1997</td>\n",
       "      <td>1368074.00</td>\n",
       "      <td>337561.00</td>\n",
       "      <td>1339.0</td>\n",
       "      <td>82.46</td>\n",
       "      <td>26.31</td>\n",
       "    </tr>\n",
       "    <tr>\n",
       "      <th>...</th>\n",
       "      <td>...</td>\n",
       "      <td>...</td>\n",
       "      <td>...</td>\n",
       "      <td>...</td>\n",
       "      <td>...</td>\n",
       "      <td>...</td>\n",
       "      <td>...</td>\n",
       "    </tr>\n",
       "    <tr>\n",
       "      <th>275</th>\n",
       "      <td>Bangka Belitung</td>\n",
       "      <td>2016</td>\n",
       "      <td>20199.46</td>\n",
       "      <td>11726.10</td>\n",
       "      <td>1936.7</td>\n",
       "      <td>76.50</td>\n",
       "      <td>27.74</td>\n",
       "    </tr>\n",
       "    <tr>\n",
       "      <th>276</th>\n",
       "      <td>Bangka Belitung</td>\n",
       "      <td>2017</td>\n",
       "      <td>28974.54</td>\n",
       "      <td>15275.46</td>\n",
       "      <td>2068.1</td>\n",
       "      <td>75.12</td>\n",
       "      <td>27.50</td>\n",
       "    </tr>\n",
       "    <tr>\n",
       "      <th>277</th>\n",
       "      <td>Bangka Belitung</td>\n",
       "      <td>2018</td>\n",
       "      <td>18951.00</td>\n",
       "      <td>8618.00</td>\n",
       "      <td>1889.8</td>\n",
       "      <td>72.24</td>\n",
       "      <td>27.97</td>\n",
       "    </tr>\n",
       "    <tr>\n",
       "      <th>278</th>\n",
       "      <td>Bangka Belitung</td>\n",
       "      <td>2019</td>\n",
       "      <td>57324.00</td>\n",
       "      <td>17841.00</td>\n",
       "      <td>2182.5</td>\n",
       "      <td>81.12</td>\n",
       "      <td>26.03</td>\n",
       "    </tr>\n",
       "    <tr>\n",
       "      <th>279</th>\n",
       "      <td>Bangka Belitung</td>\n",
       "      <td>2020</td>\n",
       "      <td>48806.00</td>\n",
       "      <td>17087.00</td>\n",
       "      <td>1795.3</td>\n",
       "      <td>81.37</td>\n",
       "      <td>25.72</td>\n",
       "    </tr>\n",
       "  </tbody>\n",
       "</table>\n",
       "<p>280 rows × 7 columns</p>\n",
       "</div>"
      ],
      "text/plain": [
       "            Provinsi  Tahun    Produksi  Luas Panen  Curah hujan  Kelembapan   \n",
       "0               Aceh   1993  1329536.00   323589.00       1627.0       82.00  \\\n",
       "1               Aceh   1994  1299699.00   329041.00       1521.0       82.12   \n",
       "2               Aceh   1995  1382905.00   339253.00       1476.0       82.72   \n",
       "3               Aceh   1996  1419128.00   348223.00       1557.0       83.00   \n",
       "4               Aceh   1997  1368074.00   337561.00       1339.0       82.46   \n",
       "..               ...    ...         ...         ...          ...         ...   \n",
       "275  Bangka Belitung   2016    20199.46    11726.10       1936.7       76.50   \n",
       "276  Bangka Belitung   2017    28974.54    15275.46       2068.1       75.12   \n",
       "277  Bangka Belitung   2018    18951.00     8618.00       1889.8       72.24   \n",
       "278  Bangka Belitung   2019    57324.00    17841.00       2182.5       81.12   \n",
       "279  Bangka Belitung   2020    48806.00    17087.00       1795.3       81.37   \n",
       "\n",
       "     Suhu rata-rata  \n",
       "0             26.06  \n",
       "1             26.92  \n",
       "2             26.27  \n",
       "3             26.08  \n",
       "4             26.31  \n",
       "..              ...  \n",
       "275           27.74  \n",
       "276           27.50  \n",
       "277           27.97  \n",
       "278           26.03  \n",
       "279           25.72  \n",
       "\n",
       "[280 rows x 7 columns]"
      ]
     },
     "execution_count": 3,
     "metadata": {},
     "output_type": "execute_result"
    }
   ],
   "source": [
    "df = pd.read_csv('../data-tanaman-padi-lengkap.csv')\n",
    "df"
   ]
  },
  {
   "cell_type": "markdown",
   "id": "794f87cd-27bf-464a-9701-43b7001af331",
   "metadata": {},
   "source": [
    "# Deskripsi Data"
   ]
  },
  {
   "cell_type": "code",
   "execution_count": 4,
   "id": "f8c51c94-72cd-4971-86f3-3934974b6023",
   "metadata": {},
   "outputs": [
    {
     "data": {
      "text/html": [
       "<div>\n",
       "<style scoped>\n",
       "    .dataframe tbody tr th:only-of-type {\n",
       "        vertical-align: middle;\n",
       "    }\n",
       "\n",
       "    .dataframe tbody tr th {\n",
       "        vertical-align: top;\n",
       "    }\n",
       "\n",
       "    .dataframe thead th {\n",
       "        text-align: right;\n",
       "    }\n",
       "</style>\n",
       "<table border=\"1\" class=\"dataframe\">\n",
       "  <thead>\n",
       "    <tr style=\"text-align: right;\">\n",
       "      <th></th>\n",
       "      <th>Produksi</th>\n",
       "      <th>Luas Panen</th>\n",
       "      <th>Curah hujan</th>\n",
       "      <th>Kelembapan</th>\n",
       "      <th>Suhu rata-rata</th>\n",
       "    </tr>\n",
       "  </thead>\n",
       "  <tbody>\n",
       "    <tr>\n",
       "      <th>count</th>\n",
       "      <td>2.800000e+02</td>\n",
       "      <td>280.000000</td>\n",
       "      <td>280.000000</td>\n",
       "      <td>280.000000</td>\n",
       "      <td>280.000000</td>\n",
       "    </tr>\n",
       "    <tr>\n",
       "      <th>mean</th>\n",
       "      <td>1.347046e+06</td>\n",
       "      <td>300759.722179</td>\n",
       "      <td>2363.109750</td>\n",
       "      <td>80.041893</td>\n",
       "      <td>26.824321</td>\n",
       "    </tr>\n",
       "    <tr>\n",
       "      <th>std</th>\n",
       "      <td>1.233844e+06</td>\n",
       "      <td>255044.364808</td>\n",
       "      <td>973.260455</td>\n",
       "      <td>5.083455</td>\n",
       "      <td>1.187681</td>\n",
       "    </tr>\n",
       "    <tr>\n",
       "      <th>min</th>\n",
       "      <td>7.154900e+02</td>\n",
       "      <td>200.120000</td>\n",
       "      <td>222.500000</td>\n",
       "      <td>54.200000</td>\n",
       "      <td>22.190000</td>\n",
       "    </tr>\n",
       "    <tr>\n",
       "      <th>25%</th>\n",
       "      <td>3.683378e+05</td>\n",
       "      <td>97414.500000</td>\n",
       "      <td>1684.375000</td>\n",
       "      <td>77.392500</td>\n",
       "      <td>26.115000</td>\n",
       "    </tr>\n",
       "    <tr>\n",
       "      <th>50%</th>\n",
       "      <td>9.803155e+05</td>\n",
       "      <td>218998.000000</td>\n",
       "      <td>2232.500000</td>\n",
       "      <td>81.340000</td>\n",
       "      <td>26.730000</td>\n",
       "    </tr>\n",
       "    <tr>\n",
       "      <th>75%</th>\n",
       "      <td>2.106414e+06</td>\n",
       "      <td>479629.250000</td>\n",
       "      <td>2837.725000</td>\n",
       "      <td>83.800000</td>\n",
       "      <td>27.377500</td>\n",
       "    </tr>\n",
       "    <tr>\n",
       "      <th>max</th>\n",
       "      <td>4.881089e+06</td>\n",
       "      <td>872737.000000</td>\n",
       "      <td>5522.000000</td>\n",
       "      <td>90.600000</td>\n",
       "      <td>29.850000</td>\n",
       "    </tr>\n",
       "  </tbody>\n",
       "</table>\n",
       "</div>"
      ],
      "text/plain": [
       "           Produksi     Luas Panen  Curah hujan  Kelembapan  Suhu rata-rata\n",
       "count  2.800000e+02     280.000000   280.000000  280.000000      280.000000\n",
       "mean   1.347046e+06  300759.722179  2363.109750   80.041893       26.824321\n",
       "std    1.233844e+06  255044.364808   973.260455    5.083455        1.187681\n",
       "min    7.154900e+02     200.120000   222.500000   54.200000       22.190000\n",
       "25%    3.683378e+05   97414.500000  1684.375000   77.392500       26.115000\n",
       "50%    9.803155e+05  218998.000000  2232.500000   81.340000       26.730000\n",
       "75%    2.106414e+06  479629.250000  2837.725000   83.800000       27.377500\n",
       "max    4.881089e+06  872737.000000  5522.000000   90.600000       29.850000"
      ]
     },
     "execution_count": 4,
     "metadata": {},
     "output_type": "execute_result"
    }
   ],
   "source": [
    "df[[\"Produksi\",'Luas Panen',\"Curah hujan\",\"Kelembapan\",\"Suhu rata-rata\"]].describe()"
   ]
  },
  {
   "cell_type": "markdown",
   "id": "331ba78b-24fb-4b95-9ea5-6b755cf8f970",
   "metadata": {},
   "source": [
    "## Cek Data Null"
   ]
  },
  {
   "cell_type": "code",
   "execution_count": 4,
   "id": "c78c2631-d16e-4f0b-aeb7-2d146aee8115",
   "metadata": {},
   "outputs": [
    {
     "data": {
      "text/plain": [
       "Provinsi          0\n",
       "Tahun             0\n",
       "Produksi          0\n",
       "Luas Panen        0\n",
       "Curah hujan       0\n",
       "Kelembapan        0\n",
       "Suhu rata-rata    0\n",
       "dtype: int64"
      ]
     },
     "execution_count": 4,
     "metadata": {},
     "output_type": "execute_result"
    }
   ],
   "source": [
    "df.isna().sum()"
   ]
  },
  {
   "cell_type": "markdown",
   "id": "bcfdc708-68c3-460b-9e77-fd9ab5da1195",
   "metadata": {},
   "source": [
    "## Info Tipe Data"
   ]
  },
  {
   "cell_type": "code",
   "execution_count": 6,
   "id": "b0e3ae34-192e-470f-9c2c-4ef7fd83c6dc",
   "metadata": {},
   "outputs": [
    {
     "name": "stdout",
     "output_type": "stream",
     "text": [
      "<class 'pandas.core.frame.DataFrame'>\n",
      "RangeIndex: 280 entries, 0 to 279\n",
      "Data columns (total 7 columns):\n",
      " #   Column          Non-Null Count  Dtype  \n",
      "---  ------          --------------  -----  \n",
      " 0   Provinsi        280 non-null    object \n",
      " 1   Tahun           280 non-null    int64  \n",
      " 2   Produksi        280 non-null    float64\n",
      " 3   Luas Panen      280 non-null    float64\n",
      " 4   Curah hujan     280 non-null    float64\n",
      " 5   Kelembapan      280 non-null    float64\n",
      " 6   Suhu rata-rata  280 non-null    float64\n",
      "dtypes: float64(5), int64(1), object(1)\n",
      "memory usage: 15.4+ KB\n"
     ]
    }
   ],
   "source": [
    "df.info()"
   ]
  },
  {
   "cell_type": "markdown",
   "id": "cb407da0-d33e-47d0-aebb-1d7613e88a1c",
   "metadata": {},
   "source": [
    "## Range"
   ]
  },
  {
   "cell_type": "code",
   "execution_count": 5,
   "id": "d551c088-438e-4664-bd63-a0946489c6e1",
   "metadata": {},
   "outputs": [
    {
     "data": {
      "text/plain": [
       "Tahun                  27.00\n",
       "Produksi          4838151.00\n",
       "Luas Panen         809594.96\n",
       "Curah hujan          5299.50\n",
       "Kelembapan             36.40\n",
       "Suhu rata-rata          7.66\n",
       "dtype: float64"
      ]
     },
     "execution_count": 5,
     "metadata": {},
     "output_type": "execute_result"
    }
   ],
   "source": [
    "Range = df_num.max()-df_num.min()\n",
    "Range"
   ]
  },
  {
   "cell_type": "markdown",
   "id": "9fed89a1-cce7-4a91-a745-a106ac351db5",
   "metadata": {},
   "source": [
    "## Standar Deviasi"
   ]
  },
  {
   "cell_type": "code",
   "execution_count": 8,
   "id": "a73e4091-1f4a-467e-833f-5f484d429201",
   "metadata": {},
   "outputs": [
    {
     "data": {
      "text/plain": [
       "Tahun             8.095838e+00\n",
       "Produksi          1.161387e+06\n",
       "Luas Panen        2.327512e+05\n",
       "Curah hujan       1.031973e+03\n",
       "Kelembapan        4.878680e+00\n",
       "Suhu rata-rata    1.197041e+00\n",
       "dtype: float64"
      ]
     },
     "execution_count": 8,
     "metadata": {},
     "output_type": "execute_result"
    }
   ],
   "source": [
    "df_num.std()"
   ]
  },
  {
   "cell_type": "markdown",
   "id": "c6c9b4b4-74ac-4f42-acbd-284139beeb27",
   "metadata": {},
   "source": [
    "## Korelasi Antar Variabel"
   ]
  },
  {
   "cell_type": "code",
   "execution_count": 18,
   "id": "b8d72c48-d06d-4219-8ff7-09b02e828804",
   "metadata": {},
   "outputs": [
    {
     "data": {
      "text/plain": [
       "<AxesSubplot:>"
      ]
     },
     "execution_count": 18,
     "metadata": {},
     "output_type": "execute_result"
    },
    {
     "data": {
      "image/png": "[encoded data removed]",
      "text/plain": [
       "<Figure size 1080x432 with 2 Axes>"
      ]
     },
     "metadata": {
      "needs_background": "light"
     },
     "output_type": "display_data"
    }
   ],
   "source": [
    "plt.figure(figsize=(15,6))\n",
    "sns.heatmap(df[[\"Luas Panen\",\"Curah hujan\",\"Kelembapan\",\"Suhu rata-rata\",\"Produksi\"]].corr(),annot=True)"
   ]
  },
  {
   "cell_type": "markdown",
   "id": "aa634115-b33e-47fa-94ec-46538f4abb93",
   "metadata": {},
   "source": [
    "# Grafik Produksi Padi dari Tahun 1993-2020"
   ]
  },
  {
   "cell_type": "code",
   "execution_count": 21,
   "id": "92d40560-0269-4ac2-9d46-c428d29e61ee",
   "metadata": {},
   "outputs": [
    {
     "data": {
      "application/vnd.plotly.v1+json": {
       "config": {
        "plotlyServerURL": "https://plot.ly"
       },
       "data": [
        {
         "hovertemplate": "color=Aceh<br>x=%{x}<br>y=%{y}<extra></extra>",
         "legendgroup": "Aceh",
         "line": {
          "color": "#636efa",
          "dash": "solid"
         },
         "marker": {
          "symbol": "circle"
         },
         "mode": "markers+lines",
         "name": "Aceh",
         "orientation": "v",
         "showlegend": true,
         "type": "scatter",
         "x": [
          1993,
          1994,
          1995,
          1996,
          1997,
          1998,
          1999,
          2000,
          2001,
          2002,
          2003,
          2004,
          2005,
          2006,
          2007,
          2008,
          2009,
          2010,
          2011,
          2012,
          2013,
          2014,
          2015,
          2016,
          2017,
          2018,
          2019,
          2020
         ],
         "xaxis": "x",
         "y": [
          1329536,
          1299699,
          1382905,
          1419128,
          1368074,
          1404580,
          1478712,
          1486909,
          1547499,
          1314165,
          1246614,
          1350748,
          1411650,
          1552078,
          1556858,
          1402287,
          1533369,
          1788738,
          1772962,
          1582393,
          2331046,
          1820062,
          1956940,
          2180754,
          2478922,
          1751996.94,
          1714437.6,
          1861567.1
         ],
         "yaxis": "y"
        },
        {
         "hovertemplate": "color=Bangka Belitung<br>x=%{x}<br>y=%{y}<extra></extra>",
         "legendgroup": "Bangka Belitung",
         "line": {
          "color": "#EF553B",
          "dash": "solid"
         },
         "marker": {
          "symbol": "circle"
         },
         "mode": "markers+lines",
         "name": "Bangka Belitung",
         "orientation": "v",
         "showlegend": true,
         "type": "scatter",
         "x": [
          1993,
          1994,
          1995,
          1996,
          1997,
          1998,
          1999,
          2000,
          2001,
          2002,
          2003,
          2004,
          2005,
          2006,
          2007,
          2008,
          2009,
          2010,
          2011,
          2012,
          2013,
          2014,
          2015,
          2016,
          2017,
          2018,
          2019,
          2020
         ],
         "xaxis": "x",
         "y": [
          39600.5,
          39435.05,
          32949.91,
          27389.84,
          32316.17,
          39941.85,
          24299.68,
          22549.36,
          26653.1,
          30508.13,
          25497.83,
          41543.69,
          27896.1,
          25419.29,
          40353.3,
          41598.9,
          33638.42,
          26489.71,
          22148.62,
          35672.93,
          38883.64,
          18995.13,
          26998.15,
          20199.46,
          28974.54,
          18951,
          57324,
          48806
         ],
         "yaxis": "y"
        },
        {
         "hovertemplate": "color=Bengkulu<br>x=%{x}<br>y=%{y}<extra></extra>",
         "legendgroup": "Bengkulu",
         "line": {
          "color": "#00cc96",
          "dash": "solid"
         },
         "marker": {
          "symbol": "circle"
         },
         "mode": "markers+lines",
         "name": "Bengkulu",
         "orientation": "v",
         "showlegend": true,
         "type": "scatter",
         "x": [
          1993,
          1994,
          1995,
          1996,
          1997,
          1998,
          1999,
          2000,
          2001,
          2002,
          2003,
          2004,
          2005,
          2006,
          2007,
          2008,
          2009,
          2010,
          2011,
          2012,
          2013,
          2014,
          2015,
          2016,
          2017,
          2018,
          2019,
          2020
         ],
         "xaxis": "x",
         "y": [
          356709,
          334232,
          377337,
          396977,
          382123,
          375533,
          381577,
          362979,
          376973,
          379818,
          413375,
          414741,
          441276,
          378377,
          470469,
          484900,
          510160,
          516869,
          502552,
          581910,
          622832,
          593194,
          578654,
          629224,
          714017,
          288810.52,
          296472.07,
          296925.16
         ],
         "yaxis": "y"
        },
        {
         "hovertemplate": "color=Jambi<br>x=%{x}<br>y=%{y}<extra></extra>",
         "legendgroup": "Jambi",
         "line": {
          "color": "#ab63fa",
          "dash": "solid"
         },
         "marker": {
          "symbol": "circle"
         },
         "mode": "markers+lines",
         "name": "Jambi",
         "orientation": "v",
         "showlegend": true,
         "type": "scatter",
         "x": [
          1993,
          1994,
          1995,
          1996,
          1997,
          1998,
          1999,
          2000,
          2001,
          2002,
          2003,
          2004,
          2005,
          2006,
          2007,
          2008,
          2009,
          2010,
          2011,
          2012,
          2013,
          2014,
          2015,
          2016,
          2017,
          2018,
          2019,
          2020
         ],
         "xaxis": "x",
         "y": [
          607529,
          564722,
          593502,
          657650,
          572269,
          550277,
          553641,
          536779,
          556564,
          561007,
          578346,
          579404,
          579635,
          544597,
          58663,
          581704,
          644947,
          628828,
          646641,
          625164,
          664535,
          664720,
          541486,
          642095,
          678127,
          383045.74,
          309932.68,
          374376.27
         ],
         "yaxis": "y"
        },
        {
         "hovertemplate": "color=Kepulauan Riau<br>x=%{x}<br>y=%{y}<extra></extra>",
         "legendgroup": "Kepulauan Riau",
         "line": {
          "color": "#FFA15A",
          "dash": "solid"
         },
         "marker": {
          "symbol": "circle"
         },
         "mode": "markers+lines",
         "name": "Kepulauan Riau",
         "orientation": "v",
         "showlegend": true,
         "type": "scatter",
         "x": [
          1993,
          1994,
          1995,
          1996,
          1997,
          1998,
          1999,
          2000,
          2001,
          2002,
          2003,
          2004,
          2005,
          2006,
          2007,
          2008,
          2009,
          2010,
          2011,
          2012,
          2013,
          2014,
          2015,
          2016,
          2017,
          2018,
          2019,
          2020
         ],
         "xaxis": "x",
         "y": [
          886.3,
          849.8,
          804.34,
          997,
          721.29,
          770.7,
          950.98,
          750.32,
          766.51,
          841.2,
          905.9,
          972.53,
          983.09,
          977.84,
          987.1,
          813.21,
          770.99,
          869.45,
          953.05,
          831.21,
          911.49,
          931.09,
          715.49,
          792.16,
          963.38,
          1097,
          1150,
          852
         ],
         "yaxis": "y"
        },
        {
         "hovertemplate": "color=Lampung<br>x=%{x}<br>y=%{y}<extra></extra>",
         "legendgroup": "Lampung",
         "line": {
          "color": "#19d3f3",
          "dash": "solid"
         },
         "marker": {
          "symbol": "circle"
         },
         "mode": "markers+lines",
         "name": "Lampung",
         "orientation": "v",
         "showlegend": true,
         "type": "scatter",
         "x": [
          1993,
          1994,
          1995,
          1996,
          1997,
          1998,
          1999,
          2000,
          2001,
          2002,
          2003,
          2004,
          2005,
          2006,
          2007,
          2008,
          2009,
          2010,
          2011,
          2012,
          2013,
          2014,
          2015,
          2016,
          2017,
          2018,
          2019,
          2020
         ],
         "xaxis": "x",
         "y": [
          1646900,
          1615751,
          1943709,
          1971740,
          1753656,
          1975700,
          1801422,
          1946406,
          1992726,
          1951109,
          1966293,
          2091996,
          2124144,
          2129914,
          2308404,
          2341075,
          2673844,
          2807676,
          2940795,
          3101455,
          3207002,
          3320064,
          3641895,
          3831923,
          4090654,
          2488641.91,
          2164089.33,
          2604913.29
         ],
         "yaxis": "y"
        },
        {
         "hovertemplate": "color=Riau<br>x=%{x}<br>y=%{y}<extra></extra>",
         "legendgroup": "Riau",
         "line": {
          "color": "#FF6692",
          "dash": "solid"
         },
         "marker": {
          "symbol": "circle"
         },
         "mode": "markers+lines",
         "name": "Riau",
         "orientation": "v",
         "showlegend": true,
         "type": "scatter",
         "x": [
          1993,
          1994,
          1995,
          1996,
          1997,
          1998,
          1999,
          2000,
          2001,
          2002,
          2003,
          2004,
          2005,
          2006,
          2007,
          2008,
          2009,
          2010,
          2011,
          2012,
          2013,
          2014,
          2015,
          2016,
          2017,
          2018,
          2019,
          2020
         ],
         "xaxis": "x",
         "y": [
          436297,
          445361,
          458756,
          461905,
          416135,
          370124,
          461630,
          431351,
          413391,
          396644,
          414237,
          454186,
          424095,
          42938,
          490087,
          494260,
          531429,
          574864,
          535788,
          512152,
          434144,
          385475,
          393917,
          325826,
          337421,
          266375.53,
          230873.97,
          269344.05
         ],
         "yaxis": "y"
        },
        {
         "hovertemplate": "color=Sumatera Barat<br>x=%{x}<br>y=%{y}<extra></extra>",
         "legendgroup": "Sumatera Barat",
         "line": {
          "color": "#B6E880",
          "dash": "solid"
         },
         "marker": {
          "symbol": "circle"
         },
         "mode": "markers+lines",
         "name": "Sumatera Barat",
         "orientation": "v",
         "showlegend": true,
         "type": "scatter",
         "x": [
          1993,
          1994,
          1995,
          1996,
          1997,
          1998,
          1999,
          2000,
          2001,
          2002,
          2003,
          2004,
          2005,
          2006,
          2007,
          2008,
          2009,
          2010,
          2011,
          2012,
          2013,
          2014,
          2015,
          2016,
          2017,
          2018,
          2019,
          2020
         ],
         "xaxis": "x",
         "y": [
          1806424,
          1747543,
          1829192,
          1971180,
          1787719,
          1807622,
          1897678,
          1759059,
          1668955,
          1875834,
          1823739,
          1875188,
          1907390,
          1889489,
          1938120,
          1965634,
          2105790,
          2211248,
          2279602,
          2368390,
          2430384,
          2519020,
          2550609,
          2487929,
          2810425,
          1483076.48,
          1482996.01,
          1450839.74
         ],
         "yaxis": "y"
        },
        {
         "hovertemplate": "color=Sumatera Selatan<br>x=%{x}<br>y=%{y}<extra></extra>",
         "legendgroup": "Sumatera Selatan",
         "line": {
          "color": "#FF97FF",
          "dash": "solid"
         },
         "marker": {
          "symbol": "circle"
         },
         "mode": "markers+lines",
         "name": "Sumatera Selatan",
         "orientation": "v",
         "showlegend": true,
         "type": "scatter",
         "x": [
          1993,
          1994,
          1995,
          1996,
          1997,
          1998,
          1999,
          2000,
          2001,
          2002,
          2003,
          2004,
          2005,
          2006,
          2007,
          2008,
          2009,
          2010,
          2011,
          2012,
          2013,
          2014,
          2015,
          2016,
          2017,
          2018,
          2019,
          2020
         ],
         "xaxis": "x",
         "y": [
          1409559,
          1347611,
          1557944,
          1666591,
          1577398,
          1931505,
          1789961,
          1863643,
          1723433,
          1899849,
          1977345,
          2260794,
          2320110,
          2456251,
          2753044,
          2971286,
          3125236,
          3272451,
          3384670,
          3295247,
          3676723,
          3670435,
          4247922,
          4881089,
          4807430,
          2994191.84,
          2603396.24,
          2696877.46
         ],
         "yaxis": "y"
        },
        {
         "hovertemplate": "color=Sumatera Utara<br>x=%{x}<br>y=%{y}<extra></extra>",
         "legendgroup": "Sumatera Utara",
         "line": {
          "color": "#FECB52",
          "dash": "solid"
         },
         "marker": {
          "symbol": "circle"
         },
         "mode": "markers+lines",
         "name": "Sumatera Utara",
         "orientation": "v",
         "showlegend": true,
         "type": "scatter",
         "x": [
          1993,
          1994,
          1995,
          1996,
          1997,
          1998,
          1999,
          2000,
          2001,
          2002,
          2003,
          2004,
          2005,
          2006,
          2007,
          2008,
          2009,
          2010,
          2011,
          2012,
          2013,
          2014,
          2015,
          2016,
          2017,
          2018,
          2019,
          2020
         ],
         "xaxis": "x",
         "y": [
          2918152,
          3079960,
          3134533,
          3136760,
          3212208,
          3321049,
          3451430,
          3514253,
          3291515,
          3153305,
          3403075,
          3418782,
          3447394,
          3007636,
          3265834,
          3340794,
          3527899,
          3582302,
          3607403,
          3715514,
          3727249,
          3631039,
          4044829,
          4387035.9,
          4669777.5,
          2108284.72,
          2078901.59,
          2076280.01
         ],
         "yaxis": "y"
        }
       ],
       "layout": {
        "autosize": true,
        "legend": {
         "title": {
          "text": "color"
         },
         "tracegroupgap": 0
        },
        "margin": {
         "t": 60
        },
        "template": {
         "data": {
          "bar": [
           {
            "error_x": {
             "color": "#f2f5fa"
            },
            "error_y": {
             "color": "#f2f5fa"
            },
            "marker": {
             "line": {
              "color": "rgb(17,17,17)",
              "width": 0.5
             },
             "pattern": {
              "fillmode": "overlay",
              "size": 10,
              "solidity": 0.2
             }
            },
            "type": "bar"
           }
          ],
          "barpolar": [
           {
            "marker": {
             "line": {
              "color": "rgb(17,17,17)",
              "width": 0.5
             },
             "pattern": {
              "fillmode": "overlay",
              "size": 10,
              "solidity": 0.2
             }
            },
            "type": "barpolar"
           }
          ],
          "carpet": [
           {
            "aaxis": {
             "endlinecolor": "#A2B1C6",
             "gridcolor": "#506784",
             "linecolor": "#506784",
             "minorgridcolor": "#506784",
             "startlinecolor": "#A2B1C6"
            },
            "baxis": {
             "endlinecolor": "#A2B1C6",
             "gridcolor": "#506784",
             "linecolor": "#506784",
             "minorgridcolor": "#506784",
             "startlinecolor": "#A2B1C6"
            },
            "type": "carpet"
           }
          ],
          "choropleth": [
           {
            "colorbar": {
             "outlinewidth": 0,
             "ticks": ""
            },
            "type": "choropleth"
           }
          ],
          "contour": [
           {
            "colorbar": {
             "outlinewidth": 0,
             "ticks": ""
            },
            "colorscale": [
             [
              0,
              "#0d0887"
             ],
             [
              0.1111111111111111,
              "#46039f"
             ],
             [
              0.2222222222222222,
              "#7201a8"
             ],
             [
              0.3333333333333333,
              "#9c179e"
             ],
             [
              0.4444444444444444,
              "#bd3786"
             ],
             [
              0.5555555555555556,
              "#d8576b"
             ],
             [
              0.6666666666666666,
              "#ed7953"
             ],
             [
              0.7777777777777778,
              "#fb9f3a"
             ],
             [
              0.8888888888888888,
              "#fdca26"
             ],
             [
              1,
              "#f0f921"
             ]
            ],
            "type": "contour"
           }
          ],
          "contourcarpet": [
           {
            "colorbar": {
             "outlinewidth": 0,
             "ticks": ""
            },
            "type": "contourcarpet"
           }
          ],
          "heatmap": [
           {
            "colorbar": {
             "outlinewidth": 0,
             "ticks": ""
            },
            "colorscale": [
             [
              0,
              "#0d0887"
             ],
             [
              0.1111111111111111,
              "#46039f"
             ],
             [
              0.2222222222222222,
              "#7201a8"
             ],
             [
              0.3333333333333333,
              "#9c179e"
             ],
             [
              0.4444444444444444,
              "#bd3786"
             ],
             [
              0.5555555555555556,
              "#d8576b"
             ],
             [
              0.6666666666666666,
              "#ed7953"
             ],
             [
              0.7777777777777778,
              "#fb9f3a"
             ],
             [
              0.8888888888888888,
              "#fdca26"
             ],
             [
              1,
              "#f0f921"
             ]
            ],
            "type": "heatmap"
           }
          ],
          "heatmapgl": [
           {
            "colorbar": {
             "outlinewidth": 0,
             "ticks": ""
            },
            "colorscale": [
             [
              0,
              "#0d0887"
             ],
             [
              0.1111111111111111,
              "#46039f"
             ],
             [
              0.2222222222222222,
              "#7201a8"
             ],
             [
              0.3333333333333333,
              "#9c179e"
             ],
             [
              0.4444444444444444,
              "#bd3786"
             ],
             [
              0.5555555555555556,
              "#d8576b"
             ],
             [
              0.6666666666666666,
              "#ed7953"
             ],
             [
              0.7777777777777778,
              "#fb9f3a"
             ],
             [
              0.8888888888888888,
              "#fdca26"
             ],
             [
              1,
              "#f0f921"
             ]
            ],
            "type": "heatmapgl"
           }
          ],
          "histogram": [
           {
            "marker": {
             "pattern": {
              "fillmode": "overlay",
              "size": 10,
              "solidity": 0.2
             }
            },
            "type": "histogram"
           }
          ],
          "histogram2d": [
           {
            "colorbar": {
             "outlinewidth": 0,
             "ticks": ""
            },
            "colorscale": [
             [
              0,
              "#0d0887"
             ],
             [
              0.1111111111111111,
              "#46039f"
             ],
             [
              0.2222222222222222,
              "#7201a8"
             ],
             [
              0.3333333333333333,
              "#9c179e"
             ],
             [
              0.4444444444444444,
              "#bd3786"
             ],
             [
              0.5555555555555556,
              "#d8576b"
             ],
             [
              0.6666666666666666,
              "#ed7953"
             ],
             [
              0.7777777777777778,
              "#fb9f3a"
             ],
             [
              0.8888888888888888,
              "#fdca26"
             ],
             [
              1,
              "#f0f921"
             ]
            ],
            "type": "histogram2d"
           }
          ],
          "histogram2dcontour": [
           {
            "colorbar": {
             "outlinewidth": 0,
             "ticks": ""
            },
            "colorscale": [
             [
              0,
              "#0d0887"
             ],
             [
              0.1111111111111111,
              "#46039f"
             ],
             [
              0.2222222222222222,
              "#7201a8"
             ],
             [
              0.3333333333333333,
              "#9c179e"
             ],
             [
              0.4444444444444444,
              "#bd3786"
             ],
             [
              0.5555555555555556,
              "#d8576b"
             ],
             [
              0.6666666666666666,
              "#ed7953"
             ],
             [
              0.7777777777777778,
              "#fb9f3a"
             ],
             [
              0.8888888888888888,
              "#fdca26"
             ],
             [
              1,
              "#f0f921"
             ]
            ],
            "type": "histogram2dcontour"
           }
          ],
          "mesh3d": [
           {
            "colorbar": {
             "outlinewidth": 0,
             "ticks": ""
            },
            "type": "mesh3d"
           }
          ],
          "parcoords": [
           {
            "line": {
             "colorbar": {
              "outlinewidth": 0,
              "ticks": ""
             }
            },
            "type": "parcoords"
           }
          ],
          "pie": [
           {
            "automargin": true,
            "type": "pie"
           }
          ],
          "scatter": [
           {
            "marker": {
             "line": {
              "color": "#283442"
             }
            },
            "type": "scatter"
           }
          ],
          "scatter3d": [
           {
            "line": {
             "colorbar": {
              "outlinewidth": 0,
              "ticks": ""
             }
            },
            "marker": {
             "colorbar": {
              "outlinewidth": 0,
              "ticks": ""
             }
            },
            "type": "scatter3d"
           }
          ],
          "scattercarpet": [
           {
            "marker": {
             "colorbar": {
              "outlinewidth": 0,
              "ticks": ""
             }
            },
            "type": "scattercarpet"
           }
          ],
          "scattergeo": [
           {
            "marker": {
             "colorbar": {
              "outlinewidth": 0,
              "ticks": ""
             }
            },
            "type": "scattergeo"
           }
          ],
          "scattergl": [
           {
            "marker": {
             "line": {
              "color": "#283442"
             }
            },
            "type": "scattergl"
           }
          ],
          "scattermapbox": [
           {
            "marker": {
             "colorbar": {
              "outlinewidth": 0,
              "ticks": ""
             }
            },
            "type": "scattermapbox"
           }
          ],
          "scatterpolar": [
           {
            "marker": {
             "colorbar": {
              "outlinewidth": 0,
              "ticks": ""
             }
            },
            "type": "scatterpolar"
           }
          ],
          "scatterpolargl": [
           {
            "marker": {
             "colorbar": {
              "outlinewidth": 0,
              "ticks": ""
             }
            },
            "type": "scatterpolargl"
           }
          ],
          "scatterternary": [
           {
            "marker": {
             "colorbar": {
              "outlinewidth": 0,
              "ticks": ""
             }
            },
            "type": "scatterternary"
           }
          ],
          "surface": [
           {
            "colorbar": {
             "outlinewidth": 0,
             "ticks": ""
            },
            "colorscale": [
             [
              0,
              "#0d0887"
             ],
             [
              0.1111111111111111,
              "#46039f"
             ],
             [
              0.2222222222222222,
              "#7201a8"
             ],
             [
              0.3333333333333333,
              "#9c179e"
             ],
             [
              0.4444444444444444,
              "#bd3786"
             ],
             [
              0.5555555555555556,
              "#d8576b"
             ],
             [
              0.6666666666666666,
              "#ed7953"
             ],
             [
              0.7777777777777778,
              "#fb9f3a"
             ],
             [
              0.8888888888888888,
              "#fdca26"
             ],
             [
              1,
              "#f0f921"
             ]
            ],
            "type": "surface"
           }
          ],
          "table": [
           {
            "cells": {
             "fill": {
              "color": "#506784"
             },
             "line": {
              "color": "rgb(17,17,17)"
             }
            },
            "header": {
             "fill": {
              "color": "#2a3f5f"
             },
             "line": {
              "color": "rgb(17,17,17)"
             }
            },
            "type": "table"
           }
          ]
         },
         "layout": {
          "annotationdefaults": {
           "arrowcolor": "#f2f5fa",
           "arrowhead": 0,
           "arrowwidth": 1
          },
          "autotypenumbers": "strict",
          "coloraxis": {
           "colorbar": {
            "outlinewidth": 0,
            "ticks": ""
           }
          },
          "colorscale": {
           "diverging": [
            [
             0,
             "#8e0152"
            ],
            [
             0.1,
             "#c51b7d"
            ],
            [
             0.2,
             "#de77ae"
            ],
            [
             0.3,
             "#f1b6da"
            ],
            [
             0.4,
             "#fde0ef"
            ],
            [
             0.5,
             "#f7f7f7"
            ],
            [
             0.6,
             "#e6f5d0"
            ],
            [
             0.7,
             "#b8e186"
            ],
            [
             0.8,
             "#7fbc41"
            ],
            [
             0.9,
             "#4d9221"
            ],
            [
             1,
             "#276419"
            ]
           ],
           "sequential": [
            [
             0,
             "#0d0887"
            ],
            [
             0.1111111111111111,
             "#46039f"
            ],
            [
             0.2222222222222222,
             "#7201a8"
            ],
            [
             0.3333333333333333,
             "#9c179e"
            ],
            [
             0.4444444444444444,
             "#bd3786"
            ],
            [
             0.5555555555555556,
             "#d8576b"
            ],
            [
             0.6666666666666666,
             "#ed7953"
            ],
            [
             0.7777777777777778,
             "#fb9f3a"
            ],
            [
             0.8888888888888888,
             "#fdca26"
            ],
            [
             1,
             "#f0f921"
            ]
           ],
           "sequentialminus": [
            [
             0,
             "#0d0887"
            ],
            [
             0.1111111111111111,
             "#46039f"
            ],
            [
             0.2222222222222222,
             "#7201a8"
            ],
            [
             0.3333333333333333,
             "#9c179e"
            ],
            [
             0.4444444444444444,
             "#bd3786"
            ],
            [
             0.5555555555555556,
             "#d8576b"
            ],
            [
             0.6666666666666666,
             "#ed7953"
            ],
            [
             0.7777777777777778,
             "#fb9f3a"
            ],
            [
             0.8888888888888888,
             "#fdca26"
            ],
            [
             1,
             "#f0f921"
            ]
           ]
          },
          "colorway": [
           "#636efa",
           "#EF553B",
           "#00cc96",
           "#ab63fa",
           "#FFA15A",
           "#19d3f3",
           "#FF6692",
           "#B6E880",
           "#FF97FF",
           "#FECB52"
          ],
          "font": {
           "color": "#f2f5fa"
          },
          "geo": {
           "bgcolor": "rgb(17,17,17)",
           "lakecolor": "rgb(17,17,17)",
           "landcolor": "rgb(17,17,17)",
           "showlakes": true,
           "showland": true,
           "subunitcolor": "#506784"
          },
          "hoverlabel": {
           "align": "left"
          },
          "hovermode": "closest",
          "mapbox": {
           "style": "dark"
          },
          "paper_bgcolor": "rgb(17,17,17)",
          "plot_bgcolor": "rgb(17,17,17)",
          "polar": {
           "angularaxis": {
            "gridcolor": "#506784",
            "linecolor": "#506784",
            "ticks": ""
           },
           "bgcolor": "rgb(17,17,17)",
           "radialaxis": {
            "gridcolor": "#506784",
            "linecolor": "#506784",
            "ticks": ""
           }
          },
          "scene": {
           "xaxis": {
            "backgroundcolor": "rgb(17,17,17)",
            "gridcolor": "#506784",
            "gridwidth": 2,
            "linecolor": "#506784",
            "showbackground": true,
            "ticks": "",
            "zerolinecolor": "#C8D4E3"
           },
           "yaxis": {
            "backgroundcolor": "rgb(17,17,17)",
            "gridcolor": "#506784",
            "gridwidth": 2,
            "linecolor": "#506784",
            "showbackground": true,
            "ticks": "",
            "zerolinecolor": "#C8D4E3"
           },
           "zaxis": {
            "backgroundcolor": "rgb(17,17,17)",
            "gridcolor": "#506784",
            "gridwidth": 2,
            "linecolor": "#506784",
            "showbackground": true,
            "ticks": "",
            "zerolinecolor": "#C8D4E3"
           }
          },
          "shapedefaults": {
           "line": {
            "color": "#f2f5fa"
           }
          },
          "sliderdefaults": {
           "bgcolor": "#C8D4E3",
           "bordercolor": "rgb(17,17,17)",
           "borderwidth": 1,
           "tickwidth": 0
          },
          "ternary": {
           "aaxis": {
            "gridcolor": "#506784",
            "linecolor": "#506784",
            "ticks": ""
           },
           "baxis": {
            "gridcolor": "#506784",
            "linecolor": "#506784",
            "ticks": ""
           },
           "bgcolor": "rgb(17,17,17)",
           "caxis": {
            "gridcolor": "#506784",
            "linecolor": "#506784",
            "ticks": ""
           }
          },
          "title": {
           "x": 0.05
          },
          "updatemenudefaults": {
           "bgcolor": "#506784",
           "borderwidth": 0
          },
          "xaxis": {
           "automargin": true,
           "gridcolor": "#283442",
           "linecolor": "#506784",
           "ticks": "",
           "title": {
            "standoff": 15
           },
           "zerolinecolor": "#283442",
           "zerolinewidth": 2
          },
          "yaxis": {
           "automargin": true,
           "gridcolor": "#283442",
           "linecolor": "#506784",
           "ticks": "",
           "title": {
            "standoff": 15
           },
           "zerolinecolor": "#283442",
           "zerolinewidth": 2
          }
         }
        },
        "title": {
         "text": "Produksi Padi (1993-2020) Berdasarkan Provinsi"
        },
        "xaxis": {
         "anchor": "y",
         "autorange": true,
         "domain": [
          0,
          1
         ],
         "range": [
          1991.3197981739547,
          2021.6802018260453
         ],
         "title": {
          "text": "Tahun"
         },
         "type": "linear"
        },
        "yaxis": {
         "anchor": "x",
         "autorange": true,
         "domain": [
          0,
          1
         ],
         "range": [
          -377161.19909448817,
          5258965.6890944885
         ],
         "title": {
          "text": "Jumlah Produksi"
         },
         "type": "linear"
        }
       }
      },
      "image/png": "[encoded data removed]",
      "text/html": [
       "<div>                            <div id=\"d3541d41-a712-4898-b6c3-2b405835ed96\" class=\"plotly-graph-div\" style=\"height:525px; width:100%;\"></div>            <script type=\"text/javascript\">                require([\"plotly\"], function(Plotly) {                    window.PLOTLYENV=window.PLOTLYENV || {};                                    if (document.getElementById(\"d3541d41-a712-4898-b6c3-2b405835ed96\")) {                    Plotly.newPlot(                        \"d3541d41-a712-4898-b6c3-2b405835ed96\",                        [{\"hovertemplate\":\"color=Aceh<br>x=%{x}<br>y=%{y}<extra></extra>\",\"legendgroup\":\"Aceh\",\"line\":{\"color\":\"#636efa\",\"dash\":\"solid\"},\"marker\":{\"symbol\":\"circle\"},\"mode\":\"markers+lines\",\"name\":\"Aceh\",\"orientation\":\"v\",\"showlegend\":true,\"x\":[1993,1994,1995,1996,1997,1998,1999,2000,2001,2002,2003,2004,2005,2006,2007,2008,2009,2010,2011,2012,2013,2014,2015,2016,2017,2018,2019,2020],\"xaxis\":\"x\",\"y\":[1329536.0,1299699.0,1382905.0,1419128.0,1368074.0,1404580.0,1478712.0,1486909.0,1547499.0,1314165.0,1246614.0,1350748.0,1411650.0,1552078.0,1556858.0,1402287.0,1533369.0,1788738.0,1772962.0,1582393.0,2331046.0,1820062.0,1956940.0,2180754.0,2478922.0,1751996.94,1714437.6,1861567.1],\"yaxis\":\"y\",\"type\":\"scatter\"},{\"hovertemplate\":\"color=Bangka Belitung<br>x=%{x}<br>y=%{y}<extra></extra>\",\"legendgroup\":\"Bangka Belitung\",\"line\":{\"color\":\"#EF553B\",\"dash\":\"solid\"},\"marker\":{\"symbol\":\"circle\"},\"mode\":\"markers+lines\",\"name\":\"Bangka Belitung\",\"orientation\":\"v\",\"showlegend\":true,\"x\":[1993,1994,1995,1996,1997,1998,1999,2000,2001,2002,2003,2004,2005,2006,2007,2008,2009,2010,2011,2012,2013,2014,2015,2016,2017,2018,2019,2020],\"xaxis\":\"x\",\"y\":[39600.5,39435.05,32949.91,27389.84,32316.17,39941.85,24299.68,22549.36,26653.1,30508.13,25497.83,41543.69,27896.1,25419.29,40353.3,41598.9,33638.42,26489.71,22148.62,35672.93,38883.64,18995.13,26998.15,20199.46,28974.54,18951.0,57324.0,48806.0],\"yaxis\":\"y\",\"type\":\"scatter\"},{\"hovertemplate\":\"color=Bengkulu<br>x=%{x}<br>y=%{y}<extra></extra>\",\"legendgroup\":\"Bengkulu\",\"line\":{\"color\":\"#00cc96\",\"dash\":\"solid\"},\"marker\":{\"symbol\":\"circle\"},\"mode\":\"markers+lines\",\"name\":\"Bengkulu\",\"orientation\":\"v\",\"showlegend\":true,\"x\":[1993,1994,1995,1996,1997,1998,1999,2000,2001,2002,2003,2004,2005,2006,2007,2008,2009,2010,2011,2012,2013,2014,2015,2016,2017,2018,2019,2020],\"xaxis\":\"x\",\"y\":[356709.0,334232.0,377337.0,396977.0,382123.0,375533.0,381577.0,362979.0,376973.0,379818.0,413375.0,414741.0,441276.0,378377.0,470469.0,484900.0,510160.0,516869.0,502552.0,581910.0,622832.0,593194.0,578654.0,629224.0,714017.0,288810.52,296472.07,296925.16],\"yaxis\":\"y\",\"type\":\"scatter\"},{\"hovertemplate\":\"color=Jambi<br>x=%{x}<br>y=%{y}<extra></extra>\",\"legendgroup\":\"Jambi\",\"line\":{\"color\":\"#ab63fa\",\"dash\":\"solid\"},\"marker\":{\"symbol\":\"circle\"},\"mode\":\"markers+lines\",\"name\":\"Jambi\",\"orientation\":\"v\",\"showlegend\":true,\"x\":[1993,1994,1995,1996,1997,1998,1999,2000,2001,2002,2003,2004,2005,2006,2007,2008,2009,2010,2011,2012,2013,2014,2015,2016,2017,2018,2019,2020],\"xaxis\":\"x\",\"y\":[607529.0,564722.0,593502.0,657650.0,572269.0,550277.0,553641.0,536779.0,556564.0,561007.0,578346.0,579404.0,579635.0,544597.0,58663.0,581704.0,644947.0,628828.0,646641.0,625164.0,664535.0,664720.0,541486.0,642095.0,678127.0,383045.74,309932.68,374376.27],\"yaxis\":\"y\",\"type\":\"scatter\"},{\"hovertemplate\":\"color=Kepulauan Riau<br>x=%{x}<br>y=%{y}<extra></extra>\",\"legendgroup\":\"Kepulauan Riau\",\"line\":{\"color\":\"#FFA15A\",\"dash\":\"solid\"},\"marker\":{\"symbol\":\"circle\"},\"mode\":\"markers+lines\",\"name\":\"Kepulauan Riau\",\"orientation\":\"v\",\"showlegend\":true,\"x\":[1993,1994,1995,1996,1997,1998,1999,2000,2001,2002,2003,2004,2005,2006,2007,2008,2009,2010,2011,2012,2013,2014,2015,2016,2017,2018,2019,2020],\"xaxis\":\"x\",\"y\":[886.3,849.8,804.34,997.0,721.29,770.7,950.98,750.32,766.51,841.2,905.9,972.53,983.09,977.84,987.1,813.21,770.99,869.45,953.05,831.21,911.49,931.09,715.49,792.16,963.38,1097.0,1150.0,852.0],\"yaxis\":\"y\",\"type\":\"scatter\"},{\"hovertemplate\":\"color=Lampung<br>x=%{x}<br>y=%{y}<extra></extra>\",\"legendgroup\":\"Lampung\",\"line\":{\"color\":\"#19d3f3\",\"dash\":\"solid\"},\"marker\":{\"symbol\":\"circle\"},\"mode\":\"markers+lines\",\"name\":\"Lampung\",\"orientation\":\"v\",\"showlegend\":true,\"x\":[1993,1994,1995,1996,1997,1998,1999,2000,2001,2002,2003,2004,2005,2006,2007,2008,2009,2010,2011,2012,2013,2014,2015,2016,2017,2018,2019,2020],\"xaxis\":\"x\",\"y\":[1646900.0,1615751.0,1943709.0,1971740.0,1753656.0,1975700.0,1801422.0,1946406.0,1992726.0,1951109.0,1966293.0,2091996.0,2124144.0,2129914.0,2308404.0,2341075.0,2673844.0,2807676.0,2940795.0,3101455.0,3207002.0,3320064.0,3641895.0,3831923.0,4090654.0,2488641.91,2164089.33,2604913.29],\"yaxis\":\"y\",\"type\":\"scatter\"},{\"hovertemplate\":\"color=Riau<br>x=%{x}<br>y=%{y}<extra></extra>\",\"legendgroup\":\"Riau\",\"line\":{\"color\":\"#FF6692\",\"dash\":\"solid\"},\"marker\":{\"symbol\":\"circle\"},\"mode\":\"markers+lines\",\"name\":\"Riau\",\"orientation\":\"v\",\"showlegend\":true,\"x\":[1993,1994,1995,1996,1997,1998,1999,2000,2001,2002,2003,2004,2005,2006,2007,2008,2009,2010,2011,2012,2013,2014,2015,2016,2017,2018,2019,2020],\"xaxis\":\"x\",\"y\":[436297.0,445361.0,458756.0,461905.0,416135.0,370124.0,461630.0,431351.0,413391.0,396644.0,414237.0,454186.0,424095.0,42938.0,490087.0,494260.0,531429.0,574864.0,535788.0,512152.0,434144.0,385475.0,393917.0,325826.0,337421.0,266375.53,230873.97,269344.05],\"yaxis\":\"y\",\"type\":\"scatter\"},{\"hovertemplate\":\"color=Sumatera Barat<br>x=%{x}<br>y=%{y}<extra></extra>\",\"legendgroup\":\"Sumatera Barat\",\"line\":{\"color\":\"#B6E880\",\"dash\":\"solid\"},\"marker\":{\"symbol\":\"circle\"},\"mode\":\"markers+lines\",\"name\":\"Sumatera Barat\",\"orientation\":\"v\",\"showlegend\":true,\"x\":[1993,1994,1995,1996,1997,1998,1999,2000,2001,2002,2003,2004,2005,2006,2007,2008,2009,2010,2011,2012,2013,2014,2015,2016,2017,2018,2019,2020],\"xaxis\":\"x\",\"y\":[1806424.0,1747543.0,1829192.0,1971180.0,1787719.0,1807622.0,1897678.0,1759059.0,1668955.0,1875834.0,1823739.0,1875188.0,1907390.0,1889489.0,1938120.0,1965634.0,2105790.0,2211248.0,2279602.0,2368390.0,2430384.0,2519020.0,2550609.0,2487929.0,2810425.0,1483076.48,1482996.01,1450839.74],\"yaxis\":\"y\",\"type\":\"scatter\"},{\"hovertemplate\":\"color=Sumatera Selatan<br>x=%{x}<br>y=%{y}<extra></extra>\",\"legendgroup\":\"Sumatera Selatan\",\"line\":{\"color\":\"#FF97FF\",\"dash\":\"solid\"},\"marker\":{\"symbol\":\"circle\"},\"mode\":\"markers+lines\",\"name\":\"Sumatera Selatan\",\"orientation\":\"v\",\"showlegend\":true,\"x\":[1993,1994,1995,1996,1997,1998,1999,2000,2001,2002,2003,2004,2005,2006,2007,2008,2009,2010,2011,2012,2013,2014,2015,2016,2017,2018,2019,2020],\"xaxis\":\"x\",\"y\":[1409559.0,1347611.0,1557944.0,1666591.0,1577398.0,1931505.0,1789961.0,1863643.0,1723433.0,1899849.0,1977345.0,2260794.0,2320110.0,2456251.0,2753044.0,2971286.0,3125236.0,3272451.0,3384670.0,3295247.0,3676723.0,3670435.0,4247922.0,4881089.0,4807430.0,2994191.84,2603396.24,2696877.46],\"yaxis\":\"y\",\"type\":\"scatter\"},{\"hovertemplate\":\"color=Sumatera Utara<br>x=%{x}<br>y=%{y}<extra></extra>\",\"legendgroup\":\"Sumatera Utara\",\"line\":{\"color\":\"#FECB52\",\"dash\":\"solid\"},\"marker\":{\"symbol\":\"circle\"},\"mode\":\"markers+lines\",\"name\":\"Sumatera Utara\",\"orientation\":\"v\",\"showlegend\":true,\"x\":[1993,1994,1995,1996,1997,1998,1999,2000,2001,2002,2003,2004,2005,2006,2007,2008,2009,2010,2011,2012,2013,2014,2015,2016,2017,2018,2019,2020],\"xaxis\":\"x\",\"y\":[2918152.0,3079960.0,3134533.0,3136760.0,3212208.0,3321049.0,3451430.0,3514253.0,3291515.0,3153305.0,3403075.0,3418782.0,3447394.0,3007636.0,3265834.0,3340794.0,3527899.0,3582302.0,3607403.0,3715514.0,3727249.0,3631039.0,4044829.0,4387035.9,4669777.5,2108284.72,2078901.59,2076280.01],\"yaxis\":\"y\",\"type\":\"scatter\"}],                        {\"template\":{\"data\":{\"barpolar\":[{\"marker\":{\"line\":{\"color\":\"rgb(17,17,17)\",\"width\":0.5},\"pattern\":{\"fillmode\":\"overlay\",\"size\":10,\"solidity\":0.2}},\"type\":\"barpolar\"}],\"bar\":[{\"error_x\":{\"color\":\"#f2f5fa\"},\"error_y\":{\"color\":\"#f2f5fa\"},\"marker\":{\"line\":{\"color\":\"rgb(17,17,17)\",\"width\":0.5},\"pattern\":{\"fillmode\":\"overlay\",\"size\":10,\"solidity\":0.2}},\"type\":\"bar\"}],\"carpet\":[{\"aaxis\":{\"endlinecolor\":\"#A2B1C6\",\"gridcolor\":\"#506784\",\"linecolor\":\"#506784\",\"minorgridcolor\":\"#506784\",\"startlinecolor\":\"#A2B1C6\"},\"baxis\":{\"endlinecolor\":\"#A2B1C6\",\"gridcolor\":\"#506784\",\"linecolor\":\"#506784\",\"minorgridcolor\":\"#506784\",\"startlinecolor\":\"#A2B1C6\"},\"type\":\"carpet\"}],\"choropleth\":[{\"colorbar\":{\"outlinewidth\":0,\"ticks\":\"\"},\"type\":\"choropleth\"}],\"contourcarpet\":[{\"colorbar\":{\"outlinewidth\":0,\"ticks\":\"\"},\"type\":\"contourcarpet\"}],\"contour\":[{\"colorbar\":{\"outlinewidth\":0,\"ticks\":\"\"},\"colorscale\":[[0.0,\"#0d0887\"],[0.1111111111111111,\"#46039f\"],[0.2222222222222222,\"#7201a8\"],[0.3333333333333333,\"#9c179e\"],[0.4444444444444444,\"#bd3786\"],[0.5555555555555556,\"#d8576b\"],[0.6666666666666666,\"#ed7953\"],[0.7777777777777778,\"#fb9f3a\"],[0.8888888888888888,\"#fdca26\"],[1.0,\"#f0f921\"]],\"type\":\"contour\"}],\"heatmapgl\":[{\"colorbar\":{\"outlinewidth\":0,\"ticks\":\"\"},\"colorscale\":[[0.0,\"#0d0887\"],[0.1111111111111111,\"#46039f\"],[0.2222222222222222,\"#7201a8\"],[0.3333333333333333,\"#9c179e\"],[0.4444444444444444,\"#bd3786\"],[0.5555555555555556,\"#d8576b\"],[0.6666666666666666,\"#ed7953\"],[0.7777777777777778,\"#fb9f3a\"],[0.8888888888888888,\"#fdca26\"],[1.0,\"#f0f921\"]],\"type\":\"heatmapgl\"}],\"heatmap\":[{\"colorbar\":{\"outlinewidth\":0,\"ticks\":\"\"},\"colorscale\":[[0.0,\"#0d0887\"],[0.1111111111111111,\"#46039f\"],[0.2222222222222222,\"#7201a8\"],[0.3333333333333333,\"#9c179e\"],[0.4444444444444444,\"#bd3786\"],[0.5555555555555556,\"#d8576b\"],[0.6666666666666666,\"#ed7953\"],[0.7777777777777778,\"#fb9f3a\"],[0.8888888888888888,\"#fdca26\"],[1.0,\"#f0f921\"]],\"type\":\"heatmap\"}],\"histogram2dcontour\":[{\"colorbar\":{\"outlinewidth\":0,\"ticks\":\"\"},\"colorscale\":[[0.0,\"#0d0887\"],[0.1111111111111111,\"#46039f\"],[0.2222222222222222,\"#7201a8\"],[0.3333333333333333,\"#9c179e\"],[0.4444444444444444,\"#bd3786\"],[0.5555555555555556,\"#d8576b\"],[0.6666666666666666,\"#ed7953\"],[0.7777777777777778,\"#fb9f3a\"],[0.8888888888888888,\"#fdca26\"],[1.0,\"#f0f921\"]],\"type\":\"histogram2dcontour\"}],\"histogram2d\":[{\"colorbar\":{\"outlinewidth\":0,\"ticks\":\"\"},\"colorscale\":[[0.0,\"#0d0887\"],[0.1111111111111111,\"#46039f\"],[0.2222222222222222,\"#7201a8\"],[0.3333333333333333,\"#9c179e\"],[0.4444444444444444,\"#bd3786\"],[0.5555555555555556,\"#d8576b\"],[0.6666666666666666,\"#ed7953\"],[0.7777777777777778,\"#fb9f3a\"],[0.8888888888888888,\"#fdca26\"],[1.0,\"#f0f921\"]],\"type\":\"histogram2d\"}],\"histogram\":[{\"marker\":{\"pattern\":{\"fillmode\":\"overlay\",\"size\":10,\"solidity\":0.2}},\"type\":\"histogram\"}],\"mesh3d\":[{\"colorbar\":{\"outlinewidth\":0,\"ticks\":\"\"},\"type\":\"mesh3d\"}],\"parcoords\":[{\"line\":{\"colorbar\":{\"outlinewidth\":0,\"ticks\":\"\"}},\"type\":\"parcoords\"}],\"pie\":[{\"automargin\":true,\"type\":\"pie\"}],\"scatter3d\":[{\"line\":{\"colorbar\":{\"outlinewidth\":0,\"ticks\":\"\"}},\"marker\":{\"colorbar\":{\"outlinewidth\":0,\"ticks\":\"\"}},\"type\":\"scatter3d\"}],\"scattercarpet\":[{\"marker\":{\"colorbar\":{\"outlinewidth\":0,\"ticks\":\"\"}},\"type\":\"scattercarpet\"}],\"scattergeo\":[{\"marker\":{\"colorbar\":{\"outlinewidth\":0,\"ticks\":\"\"}},\"type\":\"scattergeo\"}],\"scattergl\":[{\"marker\":{\"line\":{\"color\":\"#283442\"}},\"type\":\"scattergl\"}],\"scattermapbox\":[{\"marker\":{\"colorbar\":{\"outlinewidth\":0,\"ticks\":\"\"}},\"type\":\"scattermapbox\"}],\"scatterpolargl\":[{\"marker\":{\"colorbar\":{\"outlinewidth\":0,\"ticks\":\"\"}},\"type\":\"scatterpolargl\"}],\"scatterpolar\":[{\"marker\":{\"colorbar\":{\"outlinewidth\":0,\"ticks\":\"\"}},\"type\":\"scatterpolar\"}],\"scatter\":[{\"marker\":{\"line\":{\"color\":\"#283442\"}},\"type\":\"scatter\"}],\"scatterternary\":[{\"marker\":{\"colorbar\":{\"outlinewidth\":0,\"ticks\":\"\"}},\"type\":\"scatterternary\"}],\"surface\":[{\"colorbar\":{\"outlinewidth\":0,\"ticks\":\"\"},\"colorscale\":[[0.0,\"#0d0887\"],[0.1111111111111111,\"#46039f\"],[0.2222222222222222,\"#7201a8\"],[0.3333333333333333,\"#9c179e\"],[0.4444444444444444,\"#bd3786\"],[0.5555555555555556,\"#d8576b\"],[0.6666666666666666,\"#ed7953\"],[0.7777777777777778,\"#fb9f3a\"],[0.8888888888888888,\"#fdca26\"],[1.0,\"#f0f921\"]],\"type\":\"surface\"}],\"table\":[{\"cells\":{\"fill\":{\"color\":\"#506784\"},\"line\":{\"color\":\"rgb(17,17,17)\"}},\"header\":{\"fill\":{\"color\":\"#2a3f5f\"},\"line\":{\"color\":\"rgb(17,17,17)\"}},\"type\":\"table\"}]},\"layout\":{\"annotationdefaults\":{\"arrowcolor\":\"#f2f5fa\",\"arrowhead\":0,\"arrowwidth\":1},\"autotypenumbers\":\"strict\",\"coloraxis\":{\"colorbar\":{\"outlinewidth\":0,\"ticks\":\"\"}},\"colorscale\":{\"diverging\":[[0,\"#8e0152\"],[0.1,\"#c51b7d\"],[0.2,\"#de77ae\"],[0.3,\"#f1b6da\"],[0.4,\"#fde0ef\"],[0.5,\"#f7f7f7\"],[0.6,\"#e6f5d0\"],[0.7,\"#b8e186\"],[0.8,\"#7fbc41\"],[0.9,\"#4d9221\"],[1,\"#276419\"]],\"sequential\":[[0.0,\"#0d0887\"],[0.1111111111111111,\"#46039f\"],[0.2222222222222222,\"#7201a8\"],[0.3333333333333333,\"#9c179e\"],[0.4444444444444444,\"#bd3786\"],[0.5555555555555556,\"#d8576b\"],[0.6666666666666666,\"#ed7953\"],[0.7777777777777778,\"#fb9f3a\"],[0.8888888888888888,\"#fdca26\"],[1.0,\"#f0f921\"]],\"sequentialminus\":[[0.0,\"#0d0887\"],[0.1111111111111111,\"#46039f\"],[0.2222222222222222,\"#7201a8\"],[0.3333333333333333,\"#9c179e\"],[0.4444444444444444,\"#bd3786\"],[0.5555555555555556,\"#d8576b\"],[0.6666666666666666,\"#ed7953\"],[0.7777777777777778,\"#fb9f3a\"],[0.8888888888888888,\"#fdca26\"],[1.0,\"#f0f921\"]]},\"colorway\":[\"#636efa\",\"#EF553B\",\"#00cc96\",\"#ab63fa\",\"#FFA15A\",\"#19d3f3\",\"#FF6692\",\"#B6E880\",\"#FF97FF\",\"#FECB52\"],\"font\":{\"color\":\"#f2f5fa\"},\"geo\":{\"bgcolor\":\"rgb(17,17,17)\",\"lakecolor\":\"rgb(17,17,17)\",\"landcolor\":\"rgb(17,17,17)\",\"showlakes\":true,\"showland\":true,\"subunitcolor\":\"#506784\"},\"hoverlabel\":{\"align\":\"left\"},\"hovermode\":\"closest\",\"mapbox\":{\"style\":\"dark\"},\"paper_bgcolor\":\"rgb(17,17,17)\",\"plot_bgcolor\":\"rgb(17,17,17)\",\"polar\":{\"angularaxis\":{\"gridcolor\":\"#506784\",\"linecolor\":\"#506784\",\"ticks\":\"\"},\"bgcolor\":\"rgb(17,17,17)\",\"radialaxis\":{\"gridcolor\":\"#506784\",\"linecolor\":\"#506784\",\"ticks\":\"\"}},\"scene\":{\"xaxis\":{\"backgroundcolor\":\"rgb(17,17,17)\",\"gridcolor\":\"#506784\",\"gridwidth\":2,\"linecolor\":\"#506784\",\"showbackground\":true,\"ticks\":\"\",\"zerolinecolor\":\"#C8D4E3\"},\"yaxis\":{\"backgroundcolor\":\"rgb(17,17,17)\",\"gridcolor\":\"#506784\",\"gridwidth\":2,\"linecolor\":\"#506784\",\"showbackground\":true,\"ticks\":\"\",\"zerolinecolor\":\"#C8D4E3\"},\"zaxis\":{\"backgroundcolor\":\"rgb(17,17,17)\",\"gridcolor\":\"#506784\",\"gridwidth\":2,\"linecolor\":\"#506784\",\"showbackground\":true,\"ticks\":\"\",\"zerolinecolor\":\"#C8D4E3\"}},\"shapedefaults\":{\"line\":{\"color\":\"#f2f5fa\"}},\"sliderdefaults\":{\"bgcolor\":\"#C8D4E3\",\"bordercolor\":\"rgb(17,17,17)\",\"borderwidth\":1,\"tickwidth\":0},\"ternary\":{\"aaxis\":{\"gridcolor\":\"#506784\",\"linecolor\":\"#506784\",\"ticks\":\"\"},\"baxis\":{\"gridcolor\":\"#506784\",\"linecolor\":\"#506784\",\"ticks\":\"\"},\"bgcolor\":\"rgb(17,17,17)\",\"caxis\":{\"gridcolor\":\"#506784\",\"linecolor\":\"#506784\",\"ticks\":\"\"}},\"title\":{\"x\":0.05},\"updatemenudefaults\":{\"bgcolor\":\"#506784\",\"borderwidth\":0},\"xaxis\":{\"automargin\":true,\"gridcolor\":\"#283442\",\"linecolor\":\"#506784\",\"ticks\":\"\",\"title\":{\"standoff\":15},\"zerolinecolor\":\"#283442\",\"zerolinewidth\":2},\"yaxis\":{\"automargin\":true,\"gridcolor\":\"#283442\",\"linecolor\":\"#506784\",\"ticks\":\"\",\"title\":{\"standoff\":15},\"zerolinecolor\":\"#283442\",\"zerolinewidth\":2}}},\"xaxis\":{\"anchor\":\"y\",\"domain\":[0.0,1.0],\"title\":{\"text\":\"Tahun\"}},\"yaxis\":{\"anchor\":\"x\",\"domain\":[0.0,1.0],\"title\":{\"text\":\"Jumlah Produksi\"}},\"legend\":{\"title\":{\"text\":\"color\"},\"tracegroupgap\":0},\"margin\":{\"t\":60},\"title\":{\"text\":\"Produksi Padi (1993-2020) Berdasarkan Provinsi\"}},                        {\"responsive\": true}                    ).then(function(){\n",
       "                            \n",
       "var gd = document.getElementById('d3541d41-a712-4898-b6c3-2b405835ed96');\n",
       "var x = new MutationObserver(function (mutations, observer) {{\n",
       "        var display = window.getComputedStyle(gd).display;\n",
       "        if (!display || display === 'none') {{\n",
       "            console.log([gd, 'removed!']);\n",
       "            Plotly.purge(gd);\n",
       "            observer.disconnect();\n",
       "        }}\n",
       "}});\n",
       "\n",
       "// Listen for the removal of the full notebook cells\n",
       "var notebookContainer = gd.closest('#notebook-container');\n",
       "if (notebookContainer) {{\n",
       "    x.observe(notebookContainer, {childList: true});\n",
       "}}\n",
       "\n",
       "// Listen for the clearing of the current output cell\n",
       "var outputEl = gd.closest('.output');\n",
       "if (outputEl) {{\n",
       "    x.observe(outputEl, {childList: true});\n",
       "}}\n",
       "\n",
       "                        })                };                });            </script>        </div>"
      ]
     },
     "metadata": {},
     "output_type": "display_data"
    }
   ],
   "source": [
    "timeline_prov = df.groupby(['Provinsi','Tahun'] )['Produksi'].sum().reset_index()\n",
    "\n",
    "fig = px.line(x = timeline_prov['Tahun'], y = timeline_prov['Produksi'],color =timeline_prov['Provinsi'], template='plotly_dark', markers=True)\n",
    "fig.update_layout(title='Produksi Padi (1993-2020) Berdasarkan Provinsi',\n",
    "                   xaxis_title='Tahun',\n",
    "                   yaxis_title='Jumlah Produksi')\n",
    "fig.show()"
   ]
  },
  {
   "cell_type": "code",
   "execution_count": 24,
   "id": "b5842250-1b70-4543-9132-5164e4be6f48",
   "metadata": {},
   "outputs": [
    {
     "data": {
      "application/vnd.plotly.v1+json": {
       "config": {
        "plotlyServerURL": "https://plot.ly"
       },
       "data": [
        {
         "alignmentgroup": "True",
         "hovertemplate": "color=Sumatera Utara<br>x=%{x}<br>y=%{y}<extra></extra>",
         "legendgroup": "Sumatera Utara",
         "marker": {
          "color": "#636efa",
          "pattern": {
           "shape": ""
          }
         },
         "name": "Sumatera Utara",
         "offsetgroup": "Sumatera Utara",
         "orientation": "v",
         "showlegend": true,
         "textposition": "auto",
         "texttemplate": "%{y:.2s}",
         "type": "bar",
         "x": [
          "Sumatera Utara"
         ],
         "xaxis": "x",
         "y": [
          93253194.72
         ],
         "yaxis": "y"
        },
        {
         "alignmentgroup": "True",
         "hovertemplate": "color=Sumatera Selatan<br>x=%{x}<br>y=%{y}<extra></extra>",
         "legendgroup": "Sumatera Selatan",
         "marker": {
          "color": "#EF553B",
          "pattern": {
           "shape": ""
          }
         },
         "name": "Sumatera Selatan",
         "offsetgroup": "Sumatera Selatan",
         "orientation": "v",
         "showlegend": true,
         "textposition": "auto",
         "texttemplate": "%{y:.2s}",
         "type": "bar",
         "x": [
          "Sumatera Selatan"
         ],
         "xaxis": "x",
         "y": [
          74161992.54
         ],
         "yaxis": "y"
        },
        {
         "alignmentgroup": "True",
         "hovertemplate": "color=Lampung<br>x=%{x}<br>y=%{y}<extra></extra>",
         "legendgroup": "Lampung",
         "marker": {
          "color": "#00cc96",
          "pattern": {
           "shape": ""
          }
         },
         "name": "Lampung",
         "offsetgroup": "Lampung",
         "orientation": "v",
         "showlegend": true,
         "textposition": "auto",
         "texttemplate": "%{y:.2s}",
         "type": "bar",
         "x": [
          "Lampung"
         ],
         "xaxis": "x",
         "y": [
          68433897.53
         ],
         "yaxis": "y"
        },
        {
         "alignmentgroup": "True",
         "hovertemplate": "color=Sumatera Barat<br>x=%{x}<br>y=%{y}<extra></extra>",
         "legendgroup": "Sumatera Barat",
         "marker": {
          "color": "#ab63fa",
          "pattern": {
           "shape": ""
          }
         },
         "name": "Sumatera Barat",
         "offsetgroup": "Sumatera Barat",
         "orientation": "v",
         "showlegend": true,
         "textposition": "auto",
         "texttemplate": "%{y:.2s}",
         "type": "bar",
         "x": [
          "Sumatera Barat"
         ],
         "xaxis": "x",
         "y": [
          55731075.23
         ],
         "yaxis": "y"
        },
        {
         "alignmentgroup": "True",
         "hovertemplate": "color=Aceh<br>x=%{x}<br>y=%{y}<extra></extra>",
         "legendgroup": "Aceh",
         "marker": {
          "color": "#FFA15A",
          "pattern": {
           "shape": ""
          }
         },
         "name": "Aceh",
         "offsetgroup": "Aceh",
         "orientation": "v",
         "showlegend": true,
         "textposition": "auto",
         "texttemplate": "%{y:.2s}",
         "type": "bar",
         "x": [
          "Aceh"
         ],
         "xaxis": "x",
         "y": [
          45324629.64
         ],
         "yaxis": "y"
        },
        {
         "alignmentgroup": "True",
         "hovertemplate": "color=Jambi<br>x=%{x}<br>y=%{y}<extra></extra>",
         "legendgroup": "Jambi",
         "marker": {
          "color": "#19d3f3",
          "pattern": {
           "shape": ""
          }
         },
         "name": "Jambi",
         "offsetgroup": "Jambi",
         "orientation": "v",
         "showlegend": true,
         "textposition": "auto",
         "texttemplate": "%{y:.2s}",
         "type": "bar",
         "x": [
          "Jambi"
         ],
         "xaxis": "x",
         "y": [
          15480186.69
         ],
         "yaxis": "y"
        },
        {
         "alignmentgroup": "True",
         "hovertemplate": "color=Bengkulu<br>x=%{x}<br>y=%{y}<extra></extra>",
         "legendgroup": "Bengkulu",
         "marker": {
          "color": "#FF6692",
          "pattern": {
           "shape": ""
          }
         },
         "name": "Bengkulu",
         "offsetgroup": "Bengkulu",
         "orientation": "v",
         "showlegend": true,
         "textposition": "auto",
         "texttemplate": "%{y:.2s}",
         "type": "bar",
         "x": [
          "Bengkulu"
         ],
         "xaxis": "x",
         "y": [
          12459015.75
         ],
         "yaxis": "y"
        },
        {
         "alignmentgroup": "True",
         "hovertemplate": "color=Riau<br>x=%{x}<br>y=%{y}<extra></extra>",
         "legendgroup": "Riau",
         "marker": {
          "color": "#B6E880",
          "pattern": {
           "shape": ""
          }
         },
         "name": "Riau",
         "offsetgroup": "Riau",
         "orientation": "v",
         "showlegend": true,
         "textposition": "auto",
         "texttemplate": "%{y:.2s}",
         "type": "bar",
         "x": [
          "Riau"
         ],
         "xaxis": "x",
         "y": [
          11409006.55
         ],
         "yaxis": "y"
        },
        {
         "alignmentgroup": "True",
         "hovertemplate": "color=Bangka Belitung<br>x=%{x}<br>y=%{y}<extra></extra>",
         "legendgroup": "Bangka Belitung",
         "marker": {
          "color": "#FF97FF",
          "pattern": {
           "shape": ""
          }
         },
         "name": "Bangka Belitung",
         "offsetgroup": "Bangka Belitung",
         "orientation": "v",
         "showlegend": true,
         "textposition": "auto",
         "texttemplate": "%{y:.2s}",
         "type": "bar",
         "x": [
          "Bangka Belitung"
         ],
         "xaxis": "x",
         "y": [
          895034.3
         ],
         "yaxis": "y"
        },
        {
         "alignmentgroup": "True",
         "hovertemplate": "color=Kepulauan Riau<br>x=%{x}<br>y=%{y}<extra></extra>",
         "legendgroup": "Kepulauan Riau",
         "marker": {
          "color": "#FECB52",
          "pattern": {
           "shape": ""
          }
         },
         "name": "Kepulauan Riau",
         "offsetgroup": "Kepulauan Riau",
         "orientation": "v",
         "showlegend": true,
         "textposition": "auto",
         "texttemplate": "%{y:.2s}",
         "type": "bar",
         "x": [
          "Kepulauan Riau"
         ],
         "xaxis": "x",
         "y": [
          24815.420000000002
         ],
         "yaxis": "y"
        }
       ],
       "layout": {
        "autosize": true,
        "barmode": "relative",
        "legend": {
         "title": {
          "text": "color"
         },
         "tracegroupgap": 0
        },
        "margin": {
         "t": 60
        },
        "template": {
         "data": {
          "bar": [
           {
            "error_x": {
             "color": "#f2f5fa"
            },
            "error_y": {
             "color": "#f2f5fa"
            },
            "marker": {
             "line": {
              "color": "rgb(17,17,17)",
              "width": 0.5
             },
             "pattern": {
              "fillmode": "overlay",
              "size": 10,
              "solidity": 0.2
             }
            },
            "type": "bar"
           }
          ],
          "barpolar": [
           {
            "marker": {
             "line": {
              "color": "rgb(17,17,17)",
              "width": 0.5
             },
             "pattern": {
              "fillmode": "overlay",
              "size": 10,
              "solidity": 0.2
             }
            },
            "type": "barpolar"
           }
          ],
          "carpet": [
           {
            "aaxis": {
             "endlinecolor": "#A2B1C6",
             "gridcolor": "#506784",
             "linecolor": "#506784",
             "minorgridcolor": "#506784",
             "startlinecolor": "#A2B1C6"
            },
            "baxis": {
             "endlinecolor": "#A2B1C6",
             "gridcolor": "#506784",
             "linecolor": "#506784",
             "minorgridcolor": "#506784",
             "startlinecolor": "#A2B1C6"
            },
            "type": "carpet"
           }
          ],
          "choropleth": [
           {
            "colorbar": {
             "outlinewidth": 0,
             "ticks": ""
            },
            "type": "choropleth"
           }
          ],
          "contour": [
           {
            "colorbar": {
             "outlinewidth": 0,
             "ticks": ""
            },
            "colorscale": [
             [
              0,
              "#0d0887"
             ],
             [
              0.1111111111111111,
              "#46039f"
             ],
             [
              0.2222222222222222,
              "#7201a8"
             ],
             [
              0.3333333333333333,
              "#9c179e"
             ],
             [
              0.4444444444444444,
              "#bd3786"
             ],
             [
              0.5555555555555556,
              "#d8576b"
             ],
             [
              0.6666666666666666,
              "#ed7953"
             ],
             [
              0.7777777777777778,
              "#fb9f3a"
             ],
             [
              0.8888888888888888,
              "#fdca26"
             ],
             [
              1,
              "#f0f921"
             ]
            ],
            "type": "contour"
           }
          ],
          "contourcarpet": [
           {
            "colorbar": {
             "outlinewidth": 0,
             "ticks": ""
            },
            "type": "contourcarpet"
           }
          ],
          "heatmap": [
           {
            "colorbar": {
             "outlinewidth": 0,
             "ticks": ""
            },
            "colorscale": [
             [
              0,
              "#0d0887"
             ],
             [
              0.1111111111111111,
              "#46039f"
             ],
             [
              0.2222222222222222,
              "#7201a8"
             ],
             [
              0.3333333333333333,
              "#9c179e"
             ],
             [
              0.4444444444444444,
              "#bd3786"
             ],
             [
              0.5555555555555556,
              "#d8576b"
             ],
             [
              0.6666666666666666,
              "#ed7953"
             ],
             [
              0.7777777777777778,
              "#fb9f3a"
             ],
             [
              0.8888888888888888,
              "#fdca26"
             ],
             [
              1,
              "#f0f921"
             ]
            ],
            "type": "heatmap"
           }
          ],
          "heatmapgl": [
           {
            "colorbar": {
             "outlinewidth": 0,
             "ticks": ""
            },
            "colorscale": [
             [
              0,
              "#0d0887"
             ],
             [
              0.1111111111111111,
              "#46039f"
             ],
             [
              0.2222222222222222,
              "#7201a8"
             ],
             [
              0.3333333333333333,
              "#9c179e"
             ],
             [
              0.4444444444444444,
              "#bd3786"
             ],
             [
              0.5555555555555556,
              "#d8576b"
             ],
             [
              0.6666666666666666,
              "#ed7953"
             ],
             [
              0.7777777777777778,
              "#fb9f3a"
             ],
             [
              0.8888888888888888,
              "#fdca26"
             ],
             [
              1,
              "#f0f921"
             ]
            ],
            "type": "heatmapgl"
           }
          ],
          "histogram": [
           {
            "marker": {
             "pattern": {
              "fillmode": "overlay",
              "size": 10,
              "solidity": 0.2
             }
            },
            "type": "histogram"
           }
          ],
          "histogram2d": [
           {
            "colorbar": {
             "outlinewidth": 0,
             "ticks": ""
            },
            "colorscale": [
             [
              0,
              "#0d0887"
             ],
             [
              0.1111111111111111,
              "#46039f"
             ],
             [
              0.2222222222222222,
              "#7201a8"
             ],
             [
              0.3333333333333333,
              "#9c179e"
             ],
             [
              0.4444444444444444,
              "#bd3786"
             ],
             [
              0.5555555555555556,
              "#d8576b"
             ],
             [
              0.6666666666666666,
              "#ed7953"
             ],
             [
              0.7777777777777778,
              "#fb9f3a"
             ],
             [
              0.8888888888888888,
              "#fdca26"
             ],
             [
              1,
              "#f0f921"
             ]
            ],
            "type": "histogram2d"
           }
          ],
          "histogram2dcontour": [
           {
            "colorbar": {
             "outlinewidth": 0,
             "ticks": ""
            },
            "colorscale": [
             [
              0,
              "#0d0887"
             ],
             [
              0.1111111111111111,
              "#46039f"
             ],
             [
              0.2222222222222222,
              "#7201a8"
             ],
             [
              0.3333333333333333,
              "#9c179e"
             ],
             [
              0.4444444444444444,
              "#bd3786"
             ],
             [
              0.5555555555555556,
              "#d8576b"
             ],
             [
              0.6666666666666666,
              "#ed7953"
             ],
             [
              0.7777777777777778,
              "#fb9f3a"
             ],
             [
              0.8888888888888888,
              "#fdca26"
             ],
             [
              1,
              "#f0f921"
             ]
            ],
            "type": "histogram2dcontour"
           }
          ],
          "mesh3d": [
           {
            "colorbar": {
             "outlinewidth": 0,
             "ticks": ""
            },
            "type": "mesh3d"
           }
          ],
          "parcoords": [
           {
            "line": {
             "colorbar": {
              "outlinewidth": 0,
              "ticks": ""
             }
            },
            "type": "parcoords"
           }
          ],
          "pie": [
           {
            "automargin": true,
            "type": "pie"
           }
          ],
          "scatter": [
           {
            "marker": {
             "line": {
              "color": "#283442"
             }
            },
            "type": "scatter"
           }
          ],
          "scatter3d": [
           {
            "line": {
             "colorbar": {
              "outlinewidth": 0,
              "ticks": ""
             }
            },
            "marker": {
             "colorbar": {
              "outlinewidth": 0,
              "ticks": ""
             }
            },
            "type": "scatter3d"
           }
          ],
          "scattercarpet": [
           {
            "marker": {
             "colorbar": {
              "outlinewidth": 0,
              "ticks": ""
             }
            },
            "type": "scattercarpet"
           }
          ],
          "scattergeo": [
           {
            "marker": {
             "colorbar": {
              "outlinewidth": 0,
              "ticks": ""
             }
            },
            "type": "scattergeo"
           }
          ],
          "scattergl": [
           {
            "marker": {
             "line": {
              "color": "#283442"
             }
            },
            "type": "scattergl"
           }
          ],
          "scattermapbox": [
           {
            "marker": {
             "colorbar": {
              "outlinewidth": 0,
              "ticks": ""
             }
            },
            "type": "scattermapbox"
           }
          ],
          "scatterpolar": [
           {
            "marker": {
             "colorbar": {
              "outlinewidth": 0,
              "ticks": ""
             }
            },
            "type": "scatterpolar"
           }
          ],
          "scatterpolargl": [
           {
            "marker": {
             "colorbar": {
              "outlinewidth": 0,
              "ticks": ""
             }
            },
            "type": "scatterpolargl"
           }
          ],
          "scatterternary": [
           {
            "marker": {
             "colorbar": {
              "outlinewidth": 0,
              "ticks": ""
             }
            },
            "type": "scatterternary"
           }
          ],
          "surface": [
           {
            "colorbar": {
             "outlinewidth": 0,
             "ticks": ""
            },
            "colorscale": [
             [
              0,
              "#0d0887"
             ],
             [
              0.1111111111111111,
              "#46039f"
             ],
             [
              0.2222222222222222,
              "#7201a8"
             ],
             [
              0.3333333333333333,
              "#9c179e"
             ],
             [
              0.4444444444444444,
              "#bd3786"
             ],
             [
              0.5555555555555556,
              "#d8576b"
             ],
             [
              0.6666666666666666,
              "#ed7953"
             ],
             [
              0.7777777777777778,
              "#fb9f3a"
             ],
             [
              0.8888888888888888,
              "#fdca26"
             ],
             [
              1,
              "#f0f921"
             ]
            ],
            "type": "surface"
           }
          ],
          "table": [
           {
            "cells": {
             "fill": {
              "color": "#506784"
             },
             "line": {
              "color": "rgb(17,17,17)"
             }
            },
            "header": {
             "fill": {
              "color": "#2a3f5f"
             },
             "line": {
              "color": "rgb(17,17,17)"
             }
            },
            "type": "table"
           }
          ]
         },
         "layout": {
          "annotationdefaults": {
           "arrowcolor": "#f2f5fa",
           "arrowhead": 0,
           "arrowwidth": 1
          },
          "autotypenumbers": "strict",
          "coloraxis": {
           "colorbar": {
            "outlinewidth": 0,
            "ticks": ""
           }
          },
          "colorscale": {
           "diverging": [
            [
             0,
             "#8e0152"
            ],
            [
             0.1,
             "#c51b7d"
            ],
            [
             0.2,
             "#de77ae"
            ],
            [
             0.3,
             "#f1b6da"
            ],
            [
             0.4,
             "#fde0ef"
            ],
            [
             0.5,
             "#f7f7f7"
            ],
            [
             0.6,
             "#e6f5d0"
            ],
            [
             0.7,
             "#b8e186"
            ],
            [
             0.8,
             "#7fbc41"
            ],
            [
             0.9,
             "#4d9221"
            ],
            [
             1,
             "#276419"
            ]
           ],
           "sequential": [
            [
             0,
             "#0d0887"
            ],
            [
             0.1111111111111111,
             "#46039f"
            ],
            [
             0.2222222222222222,
             "#7201a8"
            ],
            [
             0.3333333333333333,
             "#9c179e"
            ],
            [
             0.4444444444444444,
             "#bd3786"
            ],
            [
             0.5555555555555556,
             "#d8576b"
            ],
            [
             0.6666666666666666,
             "#ed7953"
            ],
            [
             0.7777777777777778,
             "#fb9f3a"
            ],
            [
             0.8888888888888888,
             "#fdca26"
            ],
            [
             1,
             "#f0f921"
            ]
           ],
           "sequentialminus": [
            [
             0,
             "#0d0887"
            ],
            [
             0.1111111111111111,
             "#46039f"
            ],
            [
             0.2222222222222222,
             "#7201a8"
            ],
            [
             0.3333333333333333,
             "#9c179e"
            ],
            [
             0.4444444444444444,
             "#bd3786"
            ],
            [
             0.5555555555555556,
             "#d8576b"
            ],
            [
             0.6666666666666666,
             "#ed7953"
            ],
            [
             0.7777777777777778,
             "#fb9f3a"
            ],
            [
             0.8888888888888888,
             "#fdca26"
            ],
            [
             1,
             "#f0f921"
            ]
           ]
          },
          "colorway": [
           "#636efa",
           "#EF553B",
           "#00cc96",
           "#ab63fa",
           "#FFA15A",
           "#19d3f3",
           "#FF6692",
           "#B6E880",
           "#FF97FF",
           "#FECB52"
          ],
          "font": {
           "color": "#f2f5fa"
          },
          "geo": {
           "bgcolor": "rgb(17,17,17)",
           "lakecolor": "rgb(17,17,17)",
           "landcolor": "rgb(17,17,17)",
           "showlakes": true,
           "showland": true,
           "subunitcolor": "#506784"
          },
          "hoverlabel": {
           "align": "left"
          },
          "hovermode": "closest",
          "mapbox": {
           "style": "dark"
          },
          "paper_bgcolor": "rgb(17,17,17)",
          "plot_bgcolor": "rgb(17,17,17)",
          "polar": {
           "angularaxis": {
            "gridcolor": "#506784",
            "linecolor": "#506784",
            "ticks": ""
           },
           "bgcolor": "rgb(17,17,17)",
           "radialaxis": {
            "gridcolor": "#506784",
            "linecolor": "#506784",
            "ticks": ""
           }
          },
          "scene": {
           "xaxis": {
            "backgroundcolor": "rgb(17,17,17)",
            "gridcolor": "#506784",
            "gridwidth": 2,
            "linecolor": "#506784",
            "showbackground": true,
            "ticks": "",
            "zerolinecolor": "#C8D4E3"
           },
           "yaxis": {
            "backgroundcolor": "rgb(17,17,17)",
            "gridcolor": "#506784",
            "gridwidth": 2,
            "linecolor": "#506784",
            "showbackground": true,
            "ticks": "",
            "zerolinecolor": "#C8D4E3"
           },
           "zaxis": {
            "backgroundcolor": "rgb(17,17,17)",
            "gridcolor": "#506784",
            "gridwidth": 2,
            "linecolor": "#506784",
            "showbackground": true,
            "ticks": "",
            "zerolinecolor": "#C8D4E3"
           }
          },
          "shapedefaults": {
           "line": {
            "color": "#f2f5fa"
           }
          },
          "sliderdefaults": {
           "bgcolor": "#C8D4E3",
           "bordercolor": "rgb(17,17,17)",
           "borderwidth": 1,
           "tickwidth": 0
          },
          "ternary": {
           "aaxis": {
            "gridcolor": "#506784",
            "linecolor": "#506784",
            "ticks": ""
           },
           "baxis": {
            "gridcolor": "#506784",
            "linecolor": "#506784",
            "ticks": ""
           },
           "bgcolor": "rgb(17,17,17)",
           "caxis": {
            "gridcolor": "#506784",
            "linecolor": "#506784",
            "ticks": ""
           }
          },
          "title": {
           "x": 0.05
          },
          "updatemenudefaults": {
           "bgcolor": "#506784",
           "borderwidth": 0
          },
          "xaxis": {
           "automargin": true,
           "gridcolor": "#283442",
           "linecolor": "#506784",
           "ticks": "",
           "title": {
            "standoff": 15
           },
           "zerolinecolor": "#283442",
           "zerolinewidth": 2
          },
          "yaxis": {
           "automargin": true,
           "gridcolor": "#283442",
           "linecolor": "#506784",
           "ticks": "",
           "title": {
            "standoff": 15
           },
           "zerolinecolor": "#283442",
           "zerolinewidth": 2
          }
         }
        },
        "title": {
         "text": "Distribusi Produksi Padi"
        },
        "xaxis": {
         "anchor": "y",
         "autorange": true,
         "domain": [
          0,
          1
         ],
         "range": [
          -0.5,
          9.5
         ],
         "title": {
          "text": "Provinsi"
         },
         "type": "category"
        },
        "yaxis": {
         "anchor": "x",
         "autorange": true,
         "domain": [
          0,
          1
         ],
         "range": [
          0,
          98161257.6
         ],
         "title": {
          "text": "Jumlah Produksi"
         },
         "type": "linear"
        }
       }
      },
      "image/png": "[encoded data removed]",
      "text/html": [
       "<div>                            <div id=\"b27f0adf-417e-4009-98c1-89fea7bd284a\" class=\"plotly-graph-div\" style=\"height:525px; width:100%;\"></div>            <script type=\"text/javascript\">                require([\"plotly\"], function(Plotly) {                    window.PLOTLYENV=window.PLOTLYENV || {};                                    if (document.getElementById(\"b27f0adf-417e-4009-98c1-89fea7bd284a\")) {                    Plotly.newPlot(                        \"b27f0adf-417e-4009-98c1-89fea7bd284a\",                        [{\"alignmentgroup\":\"True\",\"hovertemplate\":\"color=Sumatera Utara<br>x=%{x}<br>y=%{y}<extra></extra>\",\"legendgroup\":\"Sumatera Utara\",\"marker\":{\"color\":\"#636efa\",\"pattern\":{\"shape\":\"\"}},\"name\":\"Sumatera Utara\",\"offsetgroup\":\"Sumatera Utara\",\"orientation\":\"v\",\"showlegend\":true,\"textposition\":\"auto\",\"texttemplate\":\"%{y:.2s}\",\"x\":[\"Sumatera Utara\"],\"xaxis\":\"x\",\"y\":[93253194.72],\"yaxis\":\"y\",\"type\":\"bar\"},{\"alignmentgroup\":\"True\",\"hovertemplate\":\"color=Sumatera Selatan<br>x=%{x}<br>y=%{y}<extra></extra>\",\"legendgroup\":\"Sumatera Selatan\",\"marker\":{\"color\":\"#EF553B\",\"pattern\":{\"shape\":\"\"}},\"name\":\"Sumatera Selatan\",\"offsetgroup\":\"Sumatera Selatan\",\"orientation\":\"v\",\"showlegend\":true,\"textposition\":\"auto\",\"texttemplate\":\"%{y:.2s}\",\"x\":[\"Sumatera Selatan\"],\"xaxis\":\"x\",\"y\":[74161992.54],\"yaxis\":\"y\",\"type\":\"bar\"},{\"alignmentgroup\":\"True\",\"hovertemplate\":\"color=Lampung<br>x=%{x}<br>y=%{y}<extra></extra>\",\"legendgroup\":\"Lampung\",\"marker\":{\"color\":\"#00cc96\",\"pattern\":{\"shape\":\"\"}},\"name\":\"Lampung\",\"offsetgroup\":\"Lampung\",\"orientation\":\"v\",\"showlegend\":true,\"textposition\":\"auto\",\"texttemplate\":\"%{y:.2s}\",\"x\":[\"Lampung\"],\"xaxis\":\"x\",\"y\":[68433897.53],\"yaxis\":\"y\",\"type\":\"bar\"},{\"alignmentgroup\":\"True\",\"hovertemplate\":\"color=Sumatera Barat<br>x=%{x}<br>y=%{y}<extra></extra>\",\"legendgroup\":\"Sumatera Barat\",\"marker\":{\"color\":\"#ab63fa\",\"pattern\":{\"shape\":\"\"}},\"name\":\"Sumatera Barat\",\"offsetgroup\":\"Sumatera Barat\",\"orientation\":\"v\",\"showlegend\":true,\"textposition\":\"auto\",\"texttemplate\":\"%{y:.2s}\",\"x\":[\"Sumatera Barat\"],\"xaxis\":\"x\",\"y\":[55731075.23],\"yaxis\":\"y\",\"type\":\"bar\"},{\"alignmentgroup\":\"True\",\"hovertemplate\":\"color=Aceh<br>x=%{x}<br>y=%{y}<extra></extra>\",\"legendgroup\":\"Aceh\",\"marker\":{\"color\":\"#FFA15A\",\"pattern\":{\"shape\":\"\"}},\"name\":\"Aceh\",\"offsetgroup\":\"Aceh\",\"orientation\":\"v\",\"showlegend\":true,\"textposition\":\"auto\",\"texttemplate\":\"%{y:.2s}\",\"x\":[\"Aceh\"],\"xaxis\":\"x\",\"y\":[45324629.64],\"yaxis\":\"y\",\"type\":\"bar\"},{\"alignmentgroup\":\"True\",\"hovertemplate\":\"color=Jambi<br>x=%{x}<br>y=%{y}<extra></extra>\",\"legendgroup\":\"Jambi\",\"marker\":{\"color\":\"#19d3f3\",\"pattern\":{\"shape\":\"\"}},\"name\":\"Jambi\",\"offsetgroup\":\"Jambi\",\"orientation\":\"v\",\"showlegend\":true,\"textposition\":\"auto\",\"texttemplate\":\"%{y:.2s}\",\"x\":[\"Jambi\"],\"xaxis\":\"x\",\"y\":[15480186.69],\"yaxis\":\"y\",\"type\":\"bar\"},{\"alignmentgroup\":\"True\",\"hovertemplate\":\"color=Bengkulu<br>x=%{x}<br>y=%{y}<extra></extra>\",\"legendgroup\":\"Bengkulu\",\"marker\":{\"color\":\"#FF6692\",\"pattern\":{\"shape\":\"\"}},\"name\":\"Bengkulu\",\"offsetgroup\":\"Bengkulu\",\"orientation\":\"v\",\"showlegend\":true,\"textposition\":\"auto\",\"texttemplate\":\"%{y:.2s}\",\"x\":[\"Bengkulu\"],\"xaxis\":\"x\",\"y\":[12459015.75],\"yaxis\":\"y\",\"type\":\"bar\"},{\"alignmentgroup\":\"True\",\"hovertemplate\":\"color=Riau<br>x=%{x}<br>y=%{y}<extra></extra>\",\"legendgroup\":\"Riau\",\"marker\":{\"color\":\"#B6E880\",\"pattern\":{\"shape\":\"\"}},\"name\":\"Riau\",\"offsetgroup\":\"Riau\",\"orientation\":\"v\",\"showlegend\":true,\"textposition\":\"auto\",\"texttemplate\":\"%{y:.2s}\",\"x\":[\"Riau\"],\"xaxis\":\"x\",\"y\":[11409006.55],\"yaxis\":\"y\",\"type\":\"bar\"},{\"alignmentgroup\":\"True\",\"hovertemplate\":\"color=Bangka Belitung<br>x=%{x}<br>y=%{y}<extra></extra>\",\"legendgroup\":\"Bangka Belitung\",\"marker\":{\"color\":\"#FF97FF\",\"pattern\":{\"shape\":\"\"}},\"name\":\"Bangka Belitung\",\"offsetgroup\":\"Bangka Belitung\",\"orientation\":\"v\",\"showlegend\":true,\"textposition\":\"auto\",\"texttemplate\":\"%{y:.2s}\",\"x\":[\"Bangka Belitung\"],\"xaxis\":\"x\",\"y\":[895034.3],\"yaxis\":\"y\",\"type\":\"bar\"},{\"alignmentgroup\":\"True\",\"hovertemplate\":\"color=Kepulauan Riau<br>x=%{x}<br>y=%{y}<extra></extra>\",\"legendgroup\":\"Kepulauan Riau\",\"marker\":{\"color\":\"#FECB52\",\"pattern\":{\"shape\":\"\"}},\"name\":\"Kepulauan Riau\",\"offsetgroup\":\"Kepulauan Riau\",\"orientation\":\"v\",\"showlegend\":true,\"textposition\":\"auto\",\"texttemplate\":\"%{y:.2s}\",\"x\":[\"Kepulauan Riau\"],\"xaxis\":\"x\",\"y\":[24815.420000000002],\"yaxis\":\"y\",\"type\":\"bar\"}],                        {\"template\":{\"data\":{\"barpolar\":[{\"marker\":{\"line\":{\"color\":\"rgb(17,17,17)\",\"width\":0.5},\"pattern\":{\"fillmode\":\"overlay\",\"size\":10,\"solidity\":0.2}},\"type\":\"barpolar\"}],\"bar\":[{\"error_x\":{\"color\":\"#f2f5fa\"},\"error_y\":{\"color\":\"#f2f5fa\"},\"marker\":{\"line\":{\"color\":\"rgb(17,17,17)\",\"width\":0.5},\"pattern\":{\"fillmode\":\"overlay\",\"size\":10,\"solidity\":0.2}},\"type\":\"bar\"}],\"carpet\":[{\"aaxis\":{\"endlinecolor\":\"#A2B1C6\",\"gridcolor\":\"#506784\",\"linecolor\":\"#506784\",\"minorgridcolor\":\"#506784\",\"startlinecolor\":\"#A2B1C6\"},\"baxis\":{\"endlinecolor\":\"#A2B1C6\",\"gridcolor\":\"#506784\",\"linecolor\":\"#506784\",\"minorgridcolor\":\"#506784\",\"startlinecolor\":\"#A2B1C6\"},\"type\":\"carpet\"}],\"choropleth\":[{\"colorbar\":{\"outlinewidth\":0,\"ticks\":\"\"},\"type\":\"choropleth\"}],\"contourcarpet\":[{\"colorbar\":{\"outlinewidth\":0,\"ticks\":\"\"},\"type\":\"contourcarpet\"}],\"contour\":[{\"colorbar\":{\"outlinewidth\":0,\"ticks\":\"\"},\"colorscale\":[[0.0,\"#0d0887\"],[0.1111111111111111,\"#46039f\"],[0.2222222222222222,\"#7201a8\"],[0.3333333333333333,\"#9c179e\"],[0.4444444444444444,\"#bd3786\"],[0.5555555555555556,\"#d8576b\"],[0.6666666666666666,\"#ed7953\"],[0.7777777777777778,\"#fb9f3a\"],[0.8888888888888888,\"#fdca26\"],[1.0,\"#f0f921\"]],\"type\":\"contour\"}],\"heatmapgl\":[{\"colorbar\":{\"outlinewidth\":0,\"ticks\":\"\"},\"colorscale\":[[0.0,\"#0d0887\"],[0.1111111111111111,\"#46039f\"],[0.2222222222222222,\"#7201a8\"],[0.3333333333333333,\"#9c179e\"],[0.4444444444444444,\"#bd3786\"],[0.5555555555555556,\"#d8576b\"],[0.6666666666666666,\"#ed7953\"],[0.7777777777777778,\"#fb9f3a\"],[0.8888888888888888,\"#fdca26\"],[1.0,\"#f0f921\"]],\"type\":\"heatmapgl\"}],\"heatmap\":[{\"colorbar\":{\"outlinewidth\":0,\"ticks\":\"\"},\"colorscale\":[[0.0,\"#0d0887\"],[0.1111111111111111,\"#46039f\"],[0.2222222222222222,\"#7201a8\"],[0.3333333333333333,\"#9c179e\"],[0.4444444444444444,\"#bd3786\"],[0.5555555555555556,\"#d8576b\"],[0.6666666666666666,\"#ed7953\"],[0.7777777777777778,\"#fb9f3a\"],[0.8888888888888888,\"#fdca26\"],[1.0,\"#f0f921\"]],\"type\":\"heatmap\"}],\"histogram2dcontour\":[{\"colorbar\":{\"outlinewidth\":0,\"ticks\":\"\"},\"colorscale\":[[0.0,\"#0d0887\"],[0.1111111111111111,\"#46039f\"],[0.2222222222222222,\"#7201a8\"],[0.3333333333333333,\"#9c179e\"],[0.4444444444444444,\"#bd3786\"],[0.5555555555555556,\"#d8576b\"],[0.6666666666666666,\"#ed7953\"],[0.7777777777777778,\"#fb9f3a\"],[0.8888888888888888,\"#fdca26\"],[1.0,\"#f0f921\"]],\"type\":\"histogram2dcontour\"}],\"histogram2d\":[{\"colorbar\":{\"outlinewidth\":0,\"ticks\":\"\"},\"colorscale\":[[0.0,\"#0d0887\"],[0.1111111111111111,\"#46039f\"],[0.2222222222222222,\"#7201a8\"],[0.3333333333333333,\"#9c179e\"],[0.4444444444444444,\"#bd3786\"],[0.5555555555555556,\"#d8576b\"],[0.6666666666666666,\"#ed7953\"],[0.7777777777777778,\"#fb9f3a\"],[0.8888888888888888,\"#fdca26\"],[1.0,\"#f0f921\"]],\"type\":\"histogram2d\"}],\"histogram\":[{\"marker\":{\"pattern\":{\"fillmode\":\"overlay\",\"size\":10,\"solidity\":0.2}},\"type\":\"histogram\"}],\"mesh3d\":[{\"colorbar\":{\"outlinewidth\":0,\"ticks\":\"\"},\"type\":\"mesh3d\"}],\"parcoords\":[{\"line\":{\"colorbar\":{\"outlinewidth\":0,\"ticks\":\"\"}},\"type\":\"parcoords\"}],\"pie\":[{\"automargin\":true,\"type\":\"pie\"}],\"scatter3d\":[{\"line\":{\"colorbar\":{\"outlinewidth\":0,\"ticks\":\"\"}},\"marker\":{\"colorbar\":{\"outlinewidth\":0,\"ticks\":\"\"}},\"type\":\"scatter3d\"}],\"scattercarpet\":[{\"marker\":{\"colorbar\":{\"outlinewidth\":0,\"ticks\":\"\"}},\"type\":\"scattercarpet\"}],\"scattergeo\":[{\"marker\":{\"colorbar\":{\"outlinewidth\":0,\"ticks\":\"\"}},\"type\":\"scattergeo\"}],\"scattergl\":[{\"marker\":{\"line\":{\"color\":\"#283442\"}},\"type\":\"scattergl\"}],\"scattermapbox\":[{\"marker\":{\"colorbar\":{\"outlinewidth\":0,\"ticks\":\"\"}},\"type\":\"scattermapbox\"}],\"scatterpolargl\":[{\"marker\":{\"colorbar\":{\"outlinewidth\":0,\"ticks\":\"\"}},\"type\":\"scatterpolargl\"}],\"scatterpolar\":[{\"marker\":{\"colorbar\":{\"outlinewidth\":0,\"ticks\":\"\"}},\"type\":\"scatterpolar\"}],\"scatter\":[{\"marker\":{\"line\":{\"color\":\"#283442\"}},\"type\":\"scatter\"}],\"scatterternary\":[{\"marker\":{\"colorbar\":{\"outlinewidth\":0,\"ticks\":\"\"}},\"type\":\"scatterternary\"}],\"surface\":[{\"colorbar\":{\"outlinewidth\":0,\"ticks\":\"\"},\"colorscale\":[[0.0,\"#0d0887\"],[0.1111111111111111,\"#46039f\"],[0.2222222222222222,\"#7201a8\"],[0.3333333333333333,\"#9c179e\"],[0.4444444444444444,\"#bd3786\"],[0.5555555555555556,\"#d8576b\"],[0.6666666666666666,\"#ed7953\"],[0.7777777777777778,\"#fb9f3a\"],[0.8888888888888888,\"#fdca26\"],[1.0,\"#f0f921\"]],\"type\":\"surface\"}],\"table\":[{\"cells\":{\"fill\":{\"color\":\"#506784\"},\"line\":{\"color\":\"rgb(17,17,17)\"}},\"header\":{\"fill\":{\"color\":\"#2a3f5f\"},\"line\":{\"color\":\"rgb(17,17,17)\"}},\"type\":\"table\"}]},\"layout\":{\"annotationdefaults\":{\"arrowcolor\":\"#f2f5fa\",\"arrowhead\":0,\"arrowwidth\":1},\"autotypenumbers\":\"strict\",\"coloraxis\":{\"colorbar\":{\"outlinewidth\":0,\"ticks\":\"\"}},\"colorscale\":{\"diverging\":[[0,\"#8e0152\"],[0.1,\"#c51b7d\"],[0.2,\"#de77ae\"],[0.3,\"#f1b6da\"],[0.4,\"#fde0ef\"],[0.5,\"#f7f7f7\"],[0.6,\"#e6f5d0\"],[0.7,\"#b8e186\"],[0.8,\"#7fbc41\"],[0.9,\"#4d9221\"],[1,\"#276419\"]],\"sequential\":[[0.0,\"#0d0887\"],[0.1111111111111111,\"#46039f\"],[0.2222222222222222,\"#7201a8\"],[0.3333333333333333,\"#9c179e\"],[0.4444444444444444,\"#bd3786\"],[0.5555555555555556,\"#d8576b\"],[0.6666666666666666,\"#ed7953\"],[0.7777777777777778,\"#fb9f3a\"],[0.8888888888888888,\"#fdca26\"],[1.0,\"#f0f921\"]],\"sequentialminus\":[[0.0,\"#0d0887\"],[0.1111111111111111,\"#46039f\"],[0.2222222222222222,\"#7201a8\"],[0.3333333333333333,\"#9c179e\"],[0.4444444444444444,\"#bd3786\"],[0.5555555555555556,\"#d8576b\"],[0.6666666666666666,\"#ed7953\"],[0.7777777777777778,\"#fb9f3a\"],[0.8888888888888888,\"#fdca26\"],[1.0,\"#f0f921\"]]},\"colorway\":[\"#636efa\",\"#EF553B\",\"#00cc96\",\"#ab63fa\",\"#FFA15A\",\"#19d3f3\",\"#FF6692\",\"#B6E880\",\"#FF97FF\",\"#FECB52\"],\"font\":{\"color\":\"#f2f5fa\"},\"geo\":{\"bgcolor\":\"rgb(17,17,17)\",\"lakecolor\":\"rgb(17,17,17)\",\"landcolor\":\"rgb(17,17,17)\",\"showlakes\":true,\"showland\":true,\"subunitcolor\":\"#506784\"},\"hoverlabel\":{\"align\":\"left\"},\"hovermode\":\"closest\",\"mapbox\":{\"style\":\"dark\"},\"paper_bgcolor\":\"rgb(17,17,17)\",\"plot_bgcolor\":\"rgb(17,17,17)\",\"polar\":{\"angularaxis\":{\"gridcolor\":\"#506784\",\"linecolor\":\"#506784\",\"ticks\":\"\"},\"bgcolor\":\"rgb(17,17,17)\",\"radialaxis\":{\"gridcolor\":\"#506784\",\"linecolor\":\"#506784\",\"ticks\":\"\"}},\"scene\":{\"xaxis\":{\"backgroundcolor\":\"rgb(17,17,17)\",\"gridcolor\":\"#506784\",\"gridwidth\":2,\"linecolor\":\"#506784\",\"showbackground\":true,\"ticks\":\"\",\"zerolinecolor\":\"#C8D4E3\"},\"yaxis\":{\"backgroundcolor\":\"rgb(17,17,17)\",\"gridcolor\":\"#506784\",\"gridwidth\":2,\"linecolor\":\"#506784\",\"showbackground\":true,\"ticks\":\"\",\"zerolinecolor\":\"#C8D4E3\"},\"zaxis\":{\"backgroundcolor\":\"rgb(17,17,17)\",\"gridcolor\":\"#506784\",\"gridwidth\":2,\"linecolor\":\"#506784\",\"showbackground\":true,\"ticks\":\"\",\"zerolinecolor\":\"#C8D4E3\"}},\"shapedefaults\":{\"line\":{\"color\":\"#f2f5fa\"}},\"sliderdefaults\":{\"bgcolor\":\"#C8D4E3\",\"bordercolor\":\"rgb(17,17,17)\",\"borderwidth\":1,\"tickwidth\":0},\"ternary\":{\"aaxis\":{\"gridcolor\":\"#506784\",\"linecolor\":\"#506784\",\"ticks\":\"\"},\"baxis\":{\"gridcolor\":\"#506784\",\"linecolor\":\"#506784\",\"ticks\":\"\"},\"bgcolor\":\"rgb(17,17,17)\",\"caxis\":{\"gridcolor\":\"#506784\",\"linecolor\":\"#506784\",\"ticks\":\"\"}},\"title\":{\"x\":0.05},\"updatemenudefaults\":{\"bgcolor\":\"#506784\",\"borderwidth\":0},\"xaxis\":{\"automargin\":true,\"gridcolor\":\"#283442\",\"linecolor\":\"#506784\",\"ticks\":\"\",\"title\":{\"standoff\":15},\"zerolinecolor\":\"#283442\",\"zerolinewidth\":2},\"yaxis\":{\"automargin\":true,\"gridcolor\":\"#283442\",\"linecolor\":\"#506784\",\"ticks\":\"\",\"title\":{\"standoff\":15},\"zerolinecolor\":\"#283442\",\"zerolinewidth\":2}}},\"xaxis\":{\"anchor\":\"y\",\"domain\":[0.0,1.0],\"title\":{\"text\":\"Provinsi\"}},\"yaxis\":{\"anchor\":\"x\",\"domain\":[0.0,1.0],\"title\":{\"text\":\"Jumlah Produksi\"}},\"legend\":{\"title\":{\"text\":\"color\"},\"tracegroupgap\":0},\"margin\":{\"t\":60},\"barmode\":\"relative\",\"title\":{\"text\":\"Distribusi Produksi Padi\"}},                        {\"responsive\": true}                    ).then(function(){\n",
       "                            \n",
       "var gd = document.getElementById('b27f0adf-417e-4009-98c1-89fea7bd284a');\n",
       "var x = new MutationObserver(function (mutations, observer) {{\n",
       "        var display = window.getComputedStyle(gd).display;\n",
       "        if (!display || display === 'none') {{\n",
       "            console.log([gd, 'removed!']);\n",
       "            Plotly.purge(gd);\n",
       "            observer.disconnect();\n",
       "        }}\n",
       "}});\n",
       "\n",
       "// Listen for the removal of the full notebook cells\n",
       "var notebookContainer = gd.closest('#notebook-container');\n",
       "if (notebookContainer) {{\n",
       "    x.observe(notebookContainer, {childList: true});\n",
       "}}\n",
       "\n",
       "// Listen for the clearing of the current output cell\n",
       "var outputEl = gd.closest('.output');\n",
       "if (outputEl) {{\n",
       "    x.observe(outputEl, {childList: true});\n",
       "}}\n",
       "\n",
       "                        })                };                });            </script>        </div>"
      ]
     },
     "metadata": {},
     "output_type": "display_data"
    }
   ],
   "source": [
    "total_produksi_prov = df.groupby(['Provinsi'])['Produksi'].sum().sort_values(ascending = False).reset_index()\n",
    "\n",
    "fig = px.bar(df, y=total_produksi_prov['Produksi'], x=total_produksi_prov['Provinsi'], text_auto='.2s',template='plotly_dark',\n",
    "             color = total_produksi_prov['Provinsi'])\n",
    "fig.update_layout(title='Distribusi Produksi Padi',\n",
    "                   xaxis_title='Provinsi',\n",
    "                   yaxis_title='Jumlah Produksi'\n",
    "                 )\n",
    "fig.show()"
   ]
  },
  {
   "cell_type": "code",
   "execution_count": 23,
   "id": "7ea02b3f-40d2-4df7-b9e2-d6dcaba1d7d1",
   "metadata": {},
   "outputs": [
    {
     "data": {
      "text/plain": [
       "377172848.37"
      ]
     },
     "execution_count": 23,
     "metadata": {},
     "output_type": "execute_result"
    }
   ],
   "source": [
    "sum(df[\"Produksi\"])"
   ]
  },
  {
   "cell_type": "code",
   "execution_count": 27,
   "id": "cd459f1c-b2e4-4097-8a81-034609ce08c4",
   "metadata": {},
   "outputs": [
    {
     "data": {
      "application/vnd.plotly.v1+json": {
       "config": {
        "plotlyServerURL": "https://plot.ly"
       },
       "data": [
        {
         "domain": {
          "x": [
           0,
           1
          ],
          "y": [
           0,
           1
          ]
         },
         "hovertemplate": "Provinsi=%{label}<br>Produksi=%{value}<extra></extra>",
         "labels": [
          "Aceh",
          "Aceh",
          "Aceh",
          "Aceh",
          "Aceh",
          "Aceh",
          "Aceh",
          "Aceh",
          "Aceh",
          "Aceh",
          "Aceh",
          "Aceh",
          "Aceh",
          "Aceh",
          "Aceh",
          "Aceh",
          "Aceh",
          "Aceh",
          "Aceh",
          "Aceh",
          "Aceh",
          "Aceh",
          "Aceh",
          "Aceh",
          "Aceh",
          "Aceh",
          "Aceh",
          "Aceh",
          "Sumatera Utara",
          "Sumatera Utara",
          "Sumatera Utara",
          "Sumatera Utara",
          "Sumatera Utara",
          "Sumatera Utara",
          "Sumatera Utara",
          "Sumatera Utara",
          "Sumatera Utara",
          "Sumatera Utara",
          "Sumatera Utara",
          "Sumatera Utara",
          "Sumatera Utara",
          "Sumatera Utara",
          "Sumatera Utara",
          "Sumatera Utara",
          "Sumatera Utara",
          "Sumatera Utara",
          "Sumatera Utara",
          "Sumatera Utara",
          "Sumatera Utara",
          "Sumatera Utara",
          "Sumatera Utara",
          "Sumatera Utara",
          "Sumatera Utara",
          "Sumatera Utara",
          "Sumatera Utara",
          "Sumatera Utara",
          "Sumatera Barat",
          "Sumatera Barat",
          "Sumatera Barat",
          "Sumatera Barat",
          "Sumatera Barat",
          "Sumatera Barat",
          "Sumatera Barat",
          "Sumatera Barat",
          "Sumatera Barat",
          "Sumatera Barat",
          "Sumatera Barat",
          "Sumatera Barat",
          "Sumatera Barat",
          "Sumatera Barat",
          "Sumatera Barat",
          "Sumatera Barat",
          "Sumatera Barat",
          "Sumatera Barat",
          "Sumatera Barat",
          "Sumatera Barat",
          "Sumatera Barat",
          "Sumatera Barat",
          "Sumatera Barat",
          "Sumatera Barat",
          "Sumatera Barat",
          "Sumatera Barat",
          "Sumatera Barat",
          "Sumatera Barat",
          "Riau",
          "Riau",
          "Riau",
          "Riau",
          "Riau",
          "Riau",
          "Riau",
          "Riau",
          "Riau",
          "Riau",
          "Riau",
          "Riau",
          "Riau",
          "Riau",
          "Riau",
          "Riau",
          "Riau",
          "Riau",
          "Riau",
          "Riau",
          "Riau",
          "Riau",
          "Riau",
          "Riau",
          "Riau",
          "Riau",
          "Riau",
          "Riau",
          "Jambi",
          "Jambi",
          "Jambi",
          "Jambi",
          "Jambi",
          "Jambi",
          "Jambi",
          "Jambi",
          "Jambi",
          "Jambi",
          "Jambi",
          "Jambi",
          "Jambi",
          "Jambi",
          "Jambi",
          "Jambi",
          "Jambi",
          "Jambi",
          "Jambi",
          "Jambi",
          "Jambi",
          "Jambi",
          "Jambi",
          "Jambi",
          "Jambi",
          "Jambi",
          "Jambi",
          "Jambi",
          "Sumatera Selatan",
          "Sumatera Selatan",
          "Sumatera Selatan",
          "Sumatera Selatan",
          "Sumatera Selatan",
          "Sumatera Selatan",
          "Sumatera Selatan",
          "Sumatera Selatan",
          "Sumatera Selatan",
          "Sumatera Selatan",
          "Sumatera Selatan",
          "Sumatera Selatan",
          "Sumatera Selatan",
          "Sumatera Selatan",
          "Sumatera Selatan",
          "Sumatera Selatan",
          "Sumatera Selatan",
          "Sumatera Selatan",
          "Sumatera Selatan",
          "Sumatera Selatan",
          "Sumatera Selatan",
          "Sumatera Selatan",
          "Sumatera Selatan",
          "Sumatera Selatan",
          "Sumatera Selatan",
          "Sumatera Selatan",
          "Sumatera Selatan",
          "Sumatera Selatan",
          "Bengkulu",
          "Bengkulu",
          "Bengkulu",
          "Bengkulu",
          "Bengkulu",
          "Bengkulu",
          "Bengkulu",
          "Bengkulu",
          "Bengkulu",
          "Bengkulu",
          "Bengkulu",
          "Bengkulu",
          "Bengkulu",
          "Bengkulu",
          "Bengkulu",
          "Bengkulu",
          "Bengkulu",
          "Bengkulu",
          "Bengkulu",
          "Bengkulu",
          "Bengkulu",
          "Bengkulu",
          "Bengkulu",
          "Bengkulu",
          "Bengkulu",
          "Bengkulu",
          "Bengkulu",
          "Bengkulu",
          "Lampung",
          "Lampung",
          "Lampung",
          "Lampung",
          "Lampung",
          "Lampung",
          "Lampung",
          "Lampung",
          "Lampung",
          "Lampung",
          "Lampung",
          "Lampung",
          "Lampung",
          "Lampung",
          "Lampung",
          "Lampung",
          "Lampung",
          "Lampung",
          "Lampung",
          "Lampung",
          "Lampung",
          "Lampung",
          "Lampung",
          "Lampung",
          "Lampung",
          "Lampung",
          "Lampung",
          "Lampung",
          "Kepulauan Riau",
          "Kepulauan Riau",
          "Kepulauan Riau",
          "Kepulauan Riau",
          "Kepulauan Riau",
          "Kepulauan Riau",
          "Kepulauan Riau",
          "Kepulauan Riau",
          "Kepulauan Riau",
          "Kepulauan Riau",
          "Kepulauan Riau",
          "Kepulauan Riau",
          "Kepulauan Riau",
          "Kepulauan Riau",
          "Kepulauan Riau",
          "Kepulauan Riau",
          "Kepulauan Riau",
          "Kepulauan Riau",
          "Kepulauan Riau",
          "Kepulauan Riau",
          "Kepulauan Riau",
          "Kepulauan Riau",
          "Kepulauan Riau",
          "Kepulauan Riau",
          "Kepulauan Riau",
          "Kepulauan Riau",
          "Kepulauan Riau",
          "Kepulauan Riau",
          "Bangka Belitung",
          "Bangka Belitung",
          "Bangka Belitung",
          "Bangka Belitung",
          "Bangka Belitung",
          "Bangka Belitung",
          "Bangka Belitung",
          "Bangka Belitung",
          "Bangka Belitung",
          "Bangka Belitung",
          "Bangka Belitung",
          "Bangka Belitung",
          "Bangka Belitung",
          "Bangka Belitung",
          "Bangka Belitung",
          "Bangka Belitung",
          "Bangka Belitung",
          "Bangka Belitung",
          "Bangka Belitung",
          "Bangka Belitung",
          "Bangka Belitung",
          "Bangka Belitung",
          "Bangka Belitung",
          "Bangka Belitung",
          "Bangka Belitung",
          "Bangka Belitung",
          "Bangka Belitung",
          "Bangka Belitung"
         ],
         "legendgroup": "",
         "name": "",
         "showlegend": true,
         "type": "pie",
         "values": [
          1329536,
          1299699,
          1382905,
          1419128,
          1368074,
          1404580,
          1478712,
          1486909,
          1547499,
          1314165,
          1246614,
          1350748,
          1411650,
          1552078,
          1556858,
          1402287,
          1533369,
          1788738,
          1772962,
          1582393,
          2331046,
          1820062,
          1956940,
          2180754,
          2478922,
          1751996.94,
          1714437.6,
          1861567.1,
          2918152,
          3079960,
          3134533,
          3136760,
          3212208,
          3321049,
          3451430,
          3514253,
          3291515,
          3153305,
          3403075,
          3418782,
          3447394,
          3007636,
          3265834,
          3340794,
          3527899,
          3582302,
          3607403,
          3715514,
          3727249,
          3631039,
          4044829,
          4387035.9,
          4669777.5,
          2108284.72,
          2078901.59,
          2076280.01,
          1806424,
          1747543,
          1829192,
          1971180,
          1787719,
          1807622,
          1897678,
          1759059,
          1668955,
          1875834,
          1823739,
          1875188,
          1907390,
          1889489,
          1938120,
          1965634,
          2105790,
          2211248,
          2279602,
          2368390,
          2430384,
          2519020,
          2550609,
          2487929,
          2810425,
          1483076.48,
          1482996.01,
          1450839.74,
          436297,
          445361,
          458756,
          461905,
          416135,
          370124,
          461630,
          431351,
          413391,
          396644,
          414237,
          454186,
          424095,
          42938,
          490087,
          494260,
          531429,
          574864,
          535788,
          512152,
          434144,
          385475,
          393917,
          325826,
          337421,
          266375.53,
          230873.97,
          269344.05,
          607529,
          564722,
          593502,
          657650,
          572269,
          550277,
          553641,
          536779,
          556564,
          561007,
          578346,
          579404,
          579635,
          544597,
          58663,
          581704,
          644947,
          628828,
          646641,
          625164,
          664535,
          664720,
          541486,
          642095,
          678127,
          383045.74,
          309932.68,
          374376.27,
          1409559,
          1347611,
          1557944,
          1666591,
          1577398,
          1931505,
          1789961,
          1863643,
          1723433,
          1899849,
          1977345,
          2260794,
          2320110,
          2456251,
          2753044,
          2971286,
          3125236,
          3272451,
          3384670,
          3295247,
          3676723,
          3670435,
          4247922,
          4881089,
          4807430,
          2994191.84,
          2603396.24,
          2696877.46,
          356709,
          334232,
          377337,
          396977,
          382123,
          375533,
          381577,
          362979,
          376973,
          379818,
          413375,
          414741,
          441276,
          378377,
          470469,
          484900,
          510160,
          516869,
          502552,
          581910,
          622832,
          593194,
          578654,
          629224,
          714017,
          288810.52,
          296472.07,
          296925.16,
          1646900,
          1615751,
          1943709,
          1971740,
          1753656,
          1975700,
          1801422,
          1946406,
          1992726,
          1951109,
          1966293,
          2091996,
          2124144,
          2129914,
          2308404,
          2341075,
          2673844,
          2807676,
          2940795,
          3101455,
          3207002,
          3320064,
          3641895,
          3831923,
          4090654,
          2488641.91,
          2164089.33,
          2604913.29,
          852,
          1150,
          1097,
          963.38,
          792.16,
          715.49,
          931.09,
          911.49,
          831.21,
          953.05,
          869.45,
          770.99,
          813.21,
          987.1,
          977.84,
          983.09,
          972.53,
          905.9,
          841.2,
          766.51,
          750.32,
          950.98,
          770.7,
          721.29,
          997,
          804.34,
          849.8,
          886.3,
          39600.5,
          39435.05,
          32949.91,
          27389.84,
          32316.17,
          39941.85,
          24299.68,
          22549.36,
          26653.1,
          30508.13,
          25497.83,
          41543.69,
          27896.1,
          25419.29,
          40353.3,
          41598.9,
          33638.42,
          26489.71,
          22148.62,
          35672.93,
          38883.64,
          18995.13,
          26998.15,
          20199.46,
          28974.54,
          18951,
          57324,
          48806
         ]
        }
       ],
       "layout": {
        "autosize": true,
        "hiddenlabels": [
         "Bangka Belitung",
         "Riau",
         "Bengkulu",
         "Jambi",
         "Aceh",
         "Sumatera Barat"
        ],
        "legend": {
         "tracegroupgap": 0
        },
        "margin": {
         "t": 60
        },
        "template": {
         "data": {
          "bar": [
           {
            "error_x": {
             "color": "#f2f5fa"
            },
            "error_y": {
             "color": "#f2f5fa"
            },
            "marker": {
             "line": {
              "color": "rgb(17,17,17)",
              "width": 0.5
             },
             "pattern": {
              "fillmode": "overlay",
              "size": 10,
              "solidity": 0.2
             }
            },
            "type": "bar"
           }
          ],
          "barpolar": [
           {
            "marker": {
             "line": {
              "color": "rgb(17,17,17)",
              "width": 0.5
             },
             "pattern": {
              "fillmode": "overlay",
              "size": 10,
              "solidity": 0.2
             }
            },
            "type": "barpolar"
           }
          ],
          "carpet": [
           {
            "aaxis": {
             "endlinecolor": "#A2B1C6",
             "gridcolor": "#506784",
             "linecolor": "#506784",
             "minorgridcolor": "#506784",
             "startlinecolor": "#A2B1C6"
            },
            "baxis": {
             "endlinecolor": "#A2B1C6",
             "gridcolor": "#506784",
             "linecolor": "#506784",
             "minorgridcolor": "#506784",
             "startlinecolor": "#A2B1C6"
            },
            "type": "carpet"
           }
          ],
          "choropleth": [
           {
            "colorbar": {
             "outlinewidth": 0,
             "ticks": ""
            },
            "type": "choropleth"
           }
          ],
          "contour": [
           {
            "colorbar": {
             "outlinewidth": 0,
             "ticks": ""
            },
            "colorscale": [
             [
              0,
              "#0d0887"
             ],
             [
              0.1111111111111111,
              "#46039f"
             ],
             [
              0.2222222222222222,
              "#7201a8"
             ],
             [
              0.3333333333333333,
              "#9c179e"
             ],
             [
              0.4444444444444444,
              "#bd3786"
             ],
             [
              0.5555555555555556,
              "#d8576b"
             ],
             [
              0.6666666666666666,
              "#ed7953"
             ],
             [
              0.7777777777777778,
              "#fb9f3a"
             ],
             [
              0.8888888888888888,
              "#fdca26"
             ],
             [
              1,
              "#f0f921"
             ]
            ],
            "type": "contour"
           }
          ],
          "contourcarpet": [
           {
            "colorbar": {
             "outlinewidth": 0,
             "ticks": ""
            },
            "type": "contourcarpet"
           }
          ],
          "heatmap": [
           {
            "colorbar": {
             "outlinewidth": 0,
             "ticks": ""
            },
            "colorscale": [
             [
              0,
              "#0d0887"
             ],
             [
              0.1111111111111111,
              "#46039f"
             ],
             [
              0.2222222222222222,
              "#7201a8"
             ],
             [
              0.3333333333333333,
              "#9c179e"
             ],
             [
              0.4444444444444444,
              "#bd3786"
             ],
             [
              0.5555555555555556,
              "#d8576b"
             ],
             [
              0.6666666666666666,
              "#ed7953"
             ],
             [
              0.7777777777777778,
              "#fb9f3a"
             ],
             [
              0.8888888888888888,
              "#fdca26"
             ],
             [
              1,
              "#f0f921"
             ]
            ],
            "type": "heatmap"
           }
          ],
          "heatmapgl": [
           {
            "colorbar": {
             "outlinewidth": 0,
             "ticks": ""
            },
            "colorscale": [
             [
              0,
              "#0d0887"
             ],
             [
              0.1111111111111111,
              "#46039f"
             ],
             [
              0.2222222222222222,
              "#7201a8"
             ],
             [
              0.3333333333333333,
              "#9c179e"
             ],
             [
              0.4444444444444444,
              "#bd3786"
             ],
             [
              0.5555555555555556,
              "#d8576b"
             ],
             [
              0.6666666666666666,
              "#ed7953"
             ],
             [
              0.7777777777777778,
              "#fb9f3a"
             ],
             [
              0.8888888888888888,
              "#fdca26"
             ],
             [
              1,
              "#f0f921"
             ]
            ],
            "type": "heatmapgl"
           }
          ],
          "histogram": [
           {
            "marker": {
             "pattern": {
              "fillmode": "overlay",
              "size": 10,
              "solidity": 0.2
             }
            },
            "type": "histogram"
           }
          ],
          "histogram2d": [
           {
            "colorbar": {
             "outlinewidth": 0,
             "ticks": ""
            },
            "colorscale": [
             [
              0,
              "#0d0887"
             ],
             [
              0.1111111111111111,
              "#46039f"
             ],
             [
              0.2222222222222222,
              "#7201a8"
             ],
             [
              0.3333333333333333,
              "#9c179e"
             ],
             [
              0.4444444444444444,
              "#bd3786"
             ],
             [
              0.5555555555555556,
              "#d8576b"
             ],
             [
              0.6666666666666666,
              "#ed7953"
             ],
             [
              0.7777777777777778,
              "#fb9f3a"
             ],
             [
              0.8888888888888888,
              "#fdca26"
             ],
             [
              1,
              "#f0f921"
             ]
            ],
            "type": "histogram2d"
           }
          ],
          "histogram2dcontour": [
           {
            "colorbar": {
             "outlinewidth": 0,
             "ticks": ""
            },
            "colorscale": [
             [
              0,
              "#0d0887"
             ],
             [
              0.1111111111111111,
              "#46039f"
             ],
             [
              0.2222222222222222,
              "#7201a8"
             ],
             [
              0.3333333333333333,
              "#9c179e"
             ],
             [
              0.4444444444444444,
              "#bd3786"
             ],
             [
              0.5555555555555556,
              "#d8576b"
             ],
             [
              0.6666666666666666,
              "#ed7953"
             ],
             [
              0.7777777777777778,
              "#fb9f3a"
             ],
             [
              0.8888888888888888,
              "#fdca26"
             ],
             [
              1,
              "#f0f921"
             ]
            ],
            "type": "histogram2dcontour"
           }
          ],
          "mesh3d": [
           {
            "colorbar": {
             "outlinewidth": 0,
             "ticks": ""
            },
            "type": "mesh3d"
           }
          ],
          "parcoords": [
           {
            "line": {
             "colorbar": {
              "outlinewidth": 0,
              "ticks": ""
             }
            },
            "type": "parcoords"
           }
          ],
          "pie": [
           {
            "automargin": true,
            "type": "pie"
           }
          ],
          "scatter": [
           {
            "marker": {
             "line": {
              "color": "#283442"
             }
            },
            "type": "scatter"
           }
          ],
          "scatter3d": [
           {
            "line": {
             "colorbar": {
              "outlinewidth": 0,
              "ticks": ""
             }
            },
            "marker": {
             "colorbar": {
              "outlinewidth": 0,
              "ticks": ""
             }
            },
            "type": "scatter3d"
           }
          ],
          "scattercarpet": [
           {
            "marker": {
             "colorbar": {
              "outlinewidth": 0,
              "ticks": ""
             }
            },
            "type": "scattercarpet"
           }
          ],
          "scattergeo": [
           {
            "marker": {
             "colorbar": {
              "outlinewidth": 0,
              "ticks": ""
             }
            },
            "type": "scattergeo"
           }
          ],
          "scattergl": [
           {
            "marker": {
             "line": {
              "color": "#283442"
             }
            },
            "type": "scattergl"
           }
          ],
          "scattermapbox": [
           {
            "marker": {
             "colorbar": {
              "outlinewidth": 0,
              "ticks": ""
             }
            },
            "type": "scattermapbox"
           }
          ],
          "scatterpolar": [
           {
            "marker": {
             "colorbar": {
              "outlinewidth": 0,
              "ticks": ""
             }
            },
            "type": "scatterpolar"
           }
          ],
          "scatterpolargl": [
           {
            "marker": {
             "colorbar": {
              "outlinewidth": 0,
              "ticks": ""
             }
            },
            "type": "scatterpolargl"
           }
          ],
          "scatterternary": [
           {
            "marker": {
             "colorbar": {
              "outlinewidth": 0,
              "ticks": ""
             }
            },
            "type": "scatterternary"
           }
          ],
          "surface": [
           {
            "colorbar": {
             "outlinewidth": 0,
             "ticks": ""
            },
            "colorscale": [
             [
              0,
              "#0d0887"
             ],
             [
              0.1111111111111111,
              "#46039f"
             ],
             [
              0.2222222222222222,
              "#7201a8"
             ],
             [
              0.3333333333333333,
              "#9c179e"
             ],
             [
              0.4444444444444444,
              "#bd3786"
             ],
             [
              0.5555555555555556,
              "#d8576b"
             ],
             [
              0.6666666666666666,
              "#ed7953"
             ],
             [
              0.7777777777777778,
              "#fb9f3a"
             ],
             [
              0.8888888888888888,
              "#fdca26"
             ],
             [
              1,
              "#f0f921"
             ]
            ],
            "type": "surface"
           }
          ],
          "table": [
           {
            "cells": {
             "fill": {
              "color": "#506784"
             },
             "line": {
              "color": "rgb(17,17,17)"
             }
            },
            "header": {
             "fill": {
              "color": "#2a3f5f"
             },
             "line": {
              "color": "rgb(17,17,17)"
             }
            },
            "type": "table"
           }
          ]
         },
         "layout": {
          "annotationdefaults": {
           "arrowcolor": "#f2f5fa",
           "arrowhead": 0,
           "arrowwidth": 1
          },
          "autotypenumbers": "strict",
          "coloraxis": {
           "colorbar": {
            "outlinewidth": 0,
            "ticks": ""
           }
          },
          "colorscale": {
           "diverging": [
            [
             0,
             "#8e0152"
            ],
            [
             0.1,
             "#c51b7d"
            ],
            [
             0.2,
             "#de77ae"
            ],
            [
             0.3,
             "#f1b6da"
            ],
            [
             0.4,
             "#fde0ef"
            ],
            [
             0.5,
             "#f7f7f7"
            ],
            [
             0.6,
             "#e6f5d0"
            ],
            [
             0.7,
             "#b8e186"
            ],
            [
             0.8,
             "#7fbc41"
            ],
            [
             0.9,
             "#4d9221"
            ],
            [
             1,
             "#276419"
            ]
           ],
           "sequential": [
            [
             0,
             "#0d0887"
            ],
            [
             0.1111111111111111,
             "#46039f"
            ],
            [
             0.2222222222222222,
             "#7201a8"
            ],
            [
             0.3333333333333333,
             "#9c179e"
            ],
            [
             0.4444444444444444,
             "#bd3786"
            ],
            [
             0.5555555555555556,
             "#d8576b"
            ],
            [
             0.6666666666666666,
             "#ed7953"
            ],
            [
             0.7777777777777778,
             "#fb9f3a"
            ],
            [
             0.8888888888888888,
             "#fdca26"
            ],
            [
             1,
             "#f0f921"
            ]
           ],
           "sequentialminus": [
            [
             0,
             "#0d0887"
            ],
            [
             0.1111111111111111,
             "#46039f"
            ],
            [
             0.2222222222222222,
             "#7201a8"
            ],
            [
             0.3333333333333333,
             "#9c179e"
            ],
            [
             0.4444444444444444,
             "#bd3786"
            ],
            [
             0.5555555555555556,
             "#d8576b"
            ],
            [
             0.6666666666666666,
             "#ed7953"
            ],
            [
             0.7777777777777778,
             "#fb9f3a"
            ],
            [
             0.8888888888888888,
             "#fdca26"
            ],
            [
             1,
             "#f0f921"
            ]
           ]
          },
          "colorway": [
           "#636efa",
           "#EF553B",
           "#00cc96",
           "#ab63fa",
           "#FFA15A",
           "#19d3f3",
           "#FF6692",
           "#B6E880",
           "#FF97FF",
           "#FECB52"
          ],
          "font": {
           "color": "#f2f5fa"
          },
          "geo": {
           "bgcolor": "rgb(17,17,17)",
           "lakecolor": "rgb(17,17,17)",
           "landcolor": "rgb(17,17,17)",
           "showlakes": true,
           "showland": true,
           "subunitcolor": "#506784"
          },
          "hoverlabel": {
           "align": "left"
          },
          "hovermode": "closest",
          "mapbox": {
           "style": "dark"
          },
          "paper_bgcolor": "rgb(17,17,17)",
          "plot_bgcolor": "rgb(17,17,17)",
          "polar": {
           "angularaxis": {
            "gridcolor": "#506784",
            "linecolor": "#506784",
            "ticks": ""
           },
           "bgcolor": "rgb(17,17,17)",
           "radialaxis": {
            "gridcolor": "#506784",
            "linecolor": "#506784",
            "ticks": ""
           }
          },
          "scene": {
           "xaxis": {
            "backgroundcolor": "rgb(17,17,17)",
            "gridcolor": "#506784",
            "gridwidth": 2,
            "linecolor": "#506784",
            "showbackground": true,
            "ticks": "",
            "zerolinecolor": "#C8D4E3"
           },
           "yaxis": {
            "backgroundcolor": "rgb(17,17,17)",
            "gridcolor": "#506784",
            "gridwidth": 2,
            "linecolor": "#506784",
            "showbackground": true,
            "ticks": "",
            "zerolinecolor": "#C8D4E3"
           },
           "zaxis": {
            "backgroundcolor": "rgb(17,17,17)",
            "gridcolor": "#506784",
            "gridwidth": 2,
            "linecolor": "#506784",
            "showbackground": true,
            "ticks": "",
            "zerolinecolor": "#C8D4E3"
           }
          },
          "shapedefaults": {
           "line": {
            "color": "#f2f5fa"
           }
          },
          "sliderdefaults": {
           "bgcolor": "#C8D4E3",
           "bordercolor": "rgb(17,17,17)",
           "borderwidth": 1,
           "tickwidth": 0
          },
          "ternary": {
           "aaxis": {
            "gridcolor": "#506784",
            "linecolor": "#506784",
            "ticks": ""
           },
           "baxis": {
            "gridcolor": "#506784",
            "linecolor": "#506784",
            "ticks": ""
           },
           "bgcolor": "rgb(17,17,17)",
           "caxis": {
            "gridcolor": "#506784",
            "linecolor": "#506784",
            "ticks": ""
           }
          },
          "title": {
           "x": 0.05
          },
          "updatemenudefaults": {
           "bgcolor": "#506784",
           "borderwidth": 0
          },
          "xaxis": {
           "automargin": true,
           "gridcolor": "#283442",
           "linecolor": "#506784",
           "ticks": "",
           "title": {
            "standoff": 15
           },
           "zerolinecolor": "#283442",
           "zerolinewidth": 2
          },
          "yaxis": {
           "automargin": true,
           "gridcolor": "#283442",
           "linecolor": "#506784",
           "ticks": "",
           "title": {
            "standoff": 15
           },
           "zerolinecolor": "#283442",
           "zerolinewidth": 2
          }
         }
        }
       }
      },
      "image/png": "[encoded data removed]",
      "text/html": [
       "<div>                            <div id=\"6e259129-87f7-4815-bb8c-e92f2092c710\" class=\"plotly-graph-div\" style=\"height:525px; width:100%;\"></div>            <script type=\"text/javascript\">                require([\"plotly\"], function(Plotly) {                    window.PLOTLYENV=window.PLOTLYENV || {};                                    if (document.getElementById(\"6e259129-87f7-4815-bb8c-e92f2092c710\")) {                    Plotly.newPlot(                        \"6e259129-87f7-4815-bb8c-e92f2092c710\",                        [{\"domain\":{\"x\":[0.0,1.0],\"y\":[0.0,1.0]},\"hovertemplate\":\"Provinsi=%{label}<br>Produksi=%{value}<extra></extra>\",\"labels\":[\"Aceh\",\"Aceh\",\"Aceh\",\"Aceh\",\"Aceh\",\"Aceh\",\"Aceh\",\"Aceh\",\"Aceh\",\"Aceh\",\"Aceh\",\"Aceh\",\"Aceh\",\"Aceh\",\"Aceh\",\"Aceh\",\"Aceh\",\"Aceh\",\"Aceh\",\"Aceh\",\"Aceh\",\"Aceh\",\"Aceh\",\"Aceh\",\"Aceh\",\"Aceh\",\"Aceh\",\"Aceh\",\"Sumatera Utara\",\"Sumatera Utara\",\"Sumatera Utara\",\"Sumatera Utara\",\"Sumatera Utara\",\"Sumatera Utara\",\"Sumatera Utara\",\"Sumatera Utara\",\"Sumatera Utara\",\"Sumatera Utara\",\"Sumatera Utara\",\"Sumatera Utara\",\"Sumatera Utara\",\"Sumatera Utara\",\"Sumatera Utara\",\"Sumatera Utara\",\"Sumatera Utara\",\"Sumatera Utara\",\"Sumatera Utara\",\"Sumatera Utara\",\"Sumatera Utara\",\"Sumatera Utara\",\"Sumatera Utara\",\"Sumatera Utara\",\"Sumatera Utara\",\"Sumatera Utara\",\"Sumatera Utara\",\"Sumatera Utara\",\"Sumatera Barat\",\"Sumatera Barat\",\"Sumatera Barat\",\"Sumatera Barat\",\"Sumatera Barat\",\"Sumatera Barat\",\"Sumatera Barat\",\"Sumatera Barat\",\"Sumatera Barat\",\"Sumatera Barat\",\"Sumatera Barat\",\"Sumatera Barat\",\"Sumatera Barat\",\"Sumatera Barat\",\"Sumatera Barat\",\"Sumatera Barat\",\"Sumatera Barat\",\"Sumatera Barat\",\"Sumatera Barat\",\"Sumatera Barat\",\"Sumatera Barat\",\"Sumatera Barat\",\"Sumatera Barat\",\"Sumatera Barat\",\"Sumatera Barat\",\"Sumatera Barat\",\"Sumatera Barat\",\"Sumatera Barat\",\"Riau\",\"Riau\",\"Riau\",\"Riau\",\"Riau\",\"Riau\",\"Riau\",\"Riau\",\"Riau\",\"Riau\",\"Riau\",\"Riau\",\"Riau\",\"Riau\",\"Riau\",\"Riau\",\"Riau\",\"Riau\",\"Riau\",\"Riau\",\"Riau\",\"Riau\",\"Riau\",\"Riau\",\"Riau\",\"Riau\",\"Riau\",\"Riau\",\"Jambi\",\"Jambi\",\"Jambi\",\"Jambi\",\"Jambi\",\"Jambi\",\"Jambi\",\"Jambi\",\"Jambi\",\"Jambi\",\"Jambi\",\"Jambi\",\"Jambi\",\"Jambi\",\"Jambi\",\"Jambi\",\"Jambi\",\"Jambi\",\"Jambi\",\"Jambi\",\"Jambi\",\"Jambi\",\"Jambi\",\"Jambi\",\"Jambi\",\"Jambi\",\"Jambi\",\"Jambi\",\"Sumatera Selatan\",\"Sumatera Selatan\",\"Sumatera Selatan\",\"Sumatera Selatan\",\"Sumatera Selatan\",\"Sumatera Selatan\",\"Sumatera Selatan\",\"Sumatera Selatan\",\"Sumatera Selatan\",\"Sumatera Selatan\",\"Sumatera Selatan\",\"Sumatera Selatan\",\"Sumatera Selatan\",\"Sumatera Selatan\",\"Sumatera Selatan\",\"Sumatera Selatan\",\"Sumatera Selatan\",\"Sumatera Selatan\",\"Sumatera Selatan\",\"Sumatera Selatan\",\"Sumatera Selatan\",\"Sumatera Selatan\",\"Sumatera Selatan\",\"Sumatera Selatan\",\"Sumatera Selatan\",\"Sumatera Selatan\",\"Sumatera Selatan\",\"Sumatera Selatan\",\"Bengkulu\",\"Bengkulu\",\"Bengkulu\",\"Bengkulu\",\"Bengkulu\",\"Bengkulu\",\"Bengkulu\",\"Bengkulu\",\"Bengkulu\",\"Bengkulu\",\"Bengkulu\",\"Bengkulu\",\"Bengkulu\",\"Bengkulu\",\"Bengkulu\",\"Bengkulu\",\"Bengkulu\",\"Bengkulu\",\"Bengkulu\",\"Bengkulu\",\"Bengkulu\",\"Bengkulu\",\"Bengkulu\",\"Bengkulu\",\"Bengkulu\",\"Bengkulu\",\"Bengkulu\",\"Bengkulu\",\"Lampung\",\"Lampung\",\"Lampung\",\"Lampung\",\"Lampung\",\"Lampung\",\"Lampung\",\"Lampung\",\"Lampung\",\"Lampung\",\"Lampung\",\"Lampung\",\"Lampung\",\"Lampung\",\"Lampung\",\"Lampung\",\"Lampung\",\"Lampung\",\"Lampung\",\"Lampung\",\"Lampung\",\"Lampung\",\"Lampung\",\"Lampung\",\"Lampung\",\"Lampung\",\"Lampung\",\"Lampung\",\"Kepulauan Riau\",\"Kepulauan Riau\",\"Kepulauan Riau\",\"Kepulauan Riau\",\"Kepulauan Riau\",\"Kepulauan Riau\",\"Kepulauan Riau\",\"Kepulauan Riau\",\"Kepulauan Riau\",\"Kepulauan Riau\",\"Kepulauan Riau\",\"Kepulauan Riau\",\"Kepulauan Riau\",\"Kepulauan Riau\",\"Kepulauan Riau\",\"Kepulauan Riau\",\"Kepulauan Riau\",\"Kepulauan Riau\",\"Kepulauan Riau\",\"Kepulauan Riau\",\"Kepulauan Riau\",\"Kepulauan Riau\",\"Kepulauan Riau\",\"Kepulauan Riau\",\"Kepulauan Riau\",\"Kepulauan Riau\",\"Kepulauan Riau\",\"Kepulauan Riau\",\"Bangka Belitung\",\"Bangka Belitung\",\"Bangka Belitung\",\"Bangka Belitung\",\"Bangka Belitung\",\"Bangka Belitung\",\"Bangka Belitung\",\"Bangka Belitung\",\"Bangka Belitung\",\"Bangka Belitung\",\"Bangka Belitung\",\"Bangka Belitung\",\"Bangka Belitung\",\"Bangka Belitung\",\"Bangka Belitung\",\"Bangka Belitung\",\"Bangka Belitung\",\"Bangka Belitung\",\"Bangka Belitung\",\"Bangka Belitung\",\"Bangka Belitung\",\"Bangka Belitung\",\"Bangka Belitung\",\"Bangka Belitung\",\"Bangka Belitung\",\"Bangka Belitung\",\"Bangka Belitung\",\"Bangka Belitung\"],\"legendgroup\":\"\",\"name\":\"\",\"showlegend\":true,\"values\":[1329536.0,1299699.0,1382905.0,1419128.0,1368074.0,1404580.0,1478712.0,1486909.0,1547499.0,1314165.0,1246614.0,1350748.0,1411650.0,1552078.0,1556858.0,1402287.0,1533369.0,1788738.0,1772962.0,1582393.0,2331046.0,1820062.0,1956940.0,2180754.0,2478922.0,1751996.94,1714437.6,1861567.1,2918152.0,3079960.0,3134533.0,3136760.0,3212208.0,3321049.0,3451430.0,3514253.0,3291515.0,3153305.0,3403075.0,3418782.0,3447394.0,3007636.0,3265834.0,3340794.0,3527899.0,3582302.0,3607403.0,3715514.0,3727249.0,3631039.0,4044829.0,4387035.9,4669777.5,2108284.72,2078901.59,2076280.01,1806424.0,1747543.0,1829192.0,1971180.0,1787719.0,1807622.0,1897678.0,1759059.0,1668955.0,1875834.0,1823739.0,1875188.0,1907390.0,1889489.0,1938120.0,1965634.0,2105790.0,2211248.0,2279602.0,2368390.0,2430384.0,2519020.0,2550609.0,2487929.0,2810425.0,1483076.48,1482996.01,1450839.74,436297.0,445361.0,458756.0,461905.0,416135.0,370124.0,461630.0,431351.0,413391.0,396644.0,414237.0,454186.0,424095.0,42938.0,490087.0,494260.0,531429.0,574864.0,535788.0,512152.0,434144.0,385475.0,393917.0,325826.0,337421.0,266375.53,230873.97,269344.05,607529.0,564722.0,593502.0,657650.0,572269.0,550277.0,553641.0,536779.0,556564.0,561007.0,578346.0,579404.0,579635.0,544597.0,58663.0,581704.0,644947.0,628828.0,646641.0,625164.0,664535.0,664720.0,541486.0,642095.0,678127.0,383045.74,309932.68,374376.27,1409559.0,1347611.0,1557944.0,1666591.0,1577398.0,1931505.0,1789961.0,1863643.0,1723433.0,1899849.0,1977345.0,2260794.0,2320110.0,2456251.0,2753044.0,2971286.0,3125236.0,3272451.0,3384670.0,3295247.0,3676723.0,3670435.0,4247922.0,4881089.0,4807430.0,2994191.84,2603396.24,2696877.46,356709.0,334232.0,377337.0,396977.0,382123.0,375533.0,381577.0,362979.0,376973.0,379818.0,413375.0,414741.0,441276.0,378377.0,470469.0,484900.0,510160.0,516869.0,502552.0,581910.0,622832.0,593194.0,578654.0,629224.0,714017.0,288810.52,296472.07,296925.16,1646900.0,1615751.0,1943709.0,1971740.0,1753656.0,1975700.0,1801422.0,1946406.0,1992726.0,1951109.0,1966293.0,2091996.0,2124144.0,2129914.0,2308404.0,2341075.0,2673844.0,2807676.0,2940795.0,3101455.0,3207002.0,3320064.0,3641895.0,3831923.0,4090654.0,2488641.91,2164089.33,2604913.29,852.0,1150.0,1097.0,963.38,792.16,715.49,931.09,911.49,831.21,953.05,869.45,770.99,813.21,987.1,977.84,983.09,972.53,905.9,841.2,766.51,750.32,950.98,770.7,721.29,997.0,804.34,849.8,886.3,39600.5,39435.05,32949.91,27389.84,32316.17,39941.85,24299.68,22549.36,26653.1,30508.13,25497.83,41543.69,27896.1,25419.29,40353.3,41598.9,33638.42,26489.71,22148.62,35672.93,38883.64,18995.13,26998.15,20199.46,28974.54,18951.0,57324.0,48806.0],\"type\":\"pie\"}],                        {\"template\":{\"data\":{\"barpolar\":[{\"marker\":{\"line\":{\"color\":\"rgb(17,17,17)\",\"width\":0.5},\"pattern\":{\"fillmode\":\"overlay\",\"size\":10,\"solidity\":0.2}},\"type\":\"barpolar\"}],\"bar\":[{\"error_x\":{\"color\":\"#f2f5fa\"},\"error_y\":{\"color\":\"#f2f5fa\"},\"marker\":{\"line\":{\"color\":\"rgb(17,17,17)\",\"width\":0.5},\"pattern\":{\"fillmode\":\"overlay\",\"size\":10,\"solidity\":0.2}},\"type\":\"bar\"}],\"carpet\":[{\"aaxis\":{\"endlinecolor\":\"#A2B1C6\",\"gridcolor\":\"#506784\",\"linecolor\":\"#506784\",\"minorgridcolor\":\"#506784\",\"startlinecolor\":\"#A2B1C6\"},\"baxis\":{\"endlinecolor\":\"#A2B1C6\",\"gridcolor\":\"#506784\",\"linecolor\":\"#506784\",\"minorgridcolor\":\"#506784\",\"startlinecolor\":\"#A2B1C6\"},\"type\":\"carpet\"}],\"choropleth\":[{\"colorbar\":{\"outlinewidth\":0,\"ticks\":\"\"},\"type\":\"choropleth\"}],\"contourcarpet\":[{\"colorbar\":{\"outlinewidth\":0,\"ticks\":\"\"},\"type\":\"contourcarpet\"}],\"contour\":[{\"colorbar\":{\"outlinewidth\":0,\"ticks\":\"\"},\"colorscale\":[[0.0,\"#0d0887\"],[0.1111111111111111,\"#46039f\"],[0.2222222222222222,\"#7201a8\"],[0.3333333333333333,\"#9c179e\"],[0.4444444444444444,\"#bd3786\"],[0.5555555555555556,\"#d8576b\"],[0.6666666666666666,\"#ed7953\"],[0.7777777777777778,\"#fb9f3a\"],[0.8888888888888888,\"#fdca26\"],[1.0,\"#f0f921\"]],\"type\":\"contour\"}],\"heatmapgl\":[{\"colorbar\":{\"outlinewidth\":0,\"ticks\":\"\"},\"colorscale\":[[0.0,\"#0d0887\"],[0.1111111111111111,\"#46039f\"],[0.2222222222222222,\"#7201a8\"],[0.3333333333333333,\"#9c179e\"],[0.4444444444444444,\"#bd3786\"],[0.5555555555555556,\"#d8576b\"],[0.6666666666666666,\"#ed7953\"],[0.7777777777777778,\"#fb9f3a\"],[0.8888888888888888,\"#fdca26\"],[1.0,\"#f0f921\"]],\"type\":\"heatmapgl\"}],\"heatmap\":[{\"colorbar\":{\"outlinewidth\":0,\"ticks\":\"\"},\"colorscale\":[[0.0,\"#0d0887\"],[0.1111111111111111,\"#46039f\"],[0.2222222222222222,\"#7201a8\"],[0.3333333333333333,\"#9c179e\"],[0.4444444444444444,\"#bd3786\"],[0.5555555555555556,\"#d8576b\"],[0.6666666666666666,\"#ed7953\"],[0.7777777777777778,\"#fb9f3a\"],[0.8888888888888888,\"#fdca26\"],[1.0,\"#f0f921\"]],\"type\":\"heatmap\"}],\"histogram2dcontour\":[{\"colorbar\":{\"outlinewidth\":0,\"ticks\":\"\"},\"colorscale\":[[0.0,\"#0d0887\"],[0.1111111111111111,\"#46039f\"],[0.2222222222222222,\"#7201a8\"],[0.3333333333333333,\"#9c179e\"],[0.4444444444444444,\"#bd3786\"],[0.5555555555555556,\"#d8576b\"],[0.6666666666666666,\"#ed7953\"],[0.7777777777777778,\"#fb9f3a\"],[0.8888888888888888,\"#fdca26\"],[1.0,\"#f0f921\"]],\"type\":\"histogram2dcontour\"}],\"histogram2d\":[{\"colorbar\":{\"outlinewidth\":0,\"ticks\":\"\"},\"colorscale\":[[0.0,\"#0d0887\"],[0.1111111111111111,\"#46039f\"],[0.2222222222222222,\"#7201a8\"],[0.3333333333333333,\"#9c179e\"],[0.4444444444444444,\"#bd3786\"],[0.5555555555555556,\"#d8576b\"],[0.6666666666666666,\"#ed7953\"],[0.7777777777777778,\"#fb9f3a\"],[0.8888888888888888,\"#fdca26\"],[1.0,\"#f0f921\"]],\"type\":\"histogram2d\"}],\"histogram\":[{\"marker\":{\"pattern\":{\"fillmode\":\"overlay\",\"size\":10,\"solidity\":0.2}},\"type\":\"histogram\"}],\"mesh3d\":[{\"colorbar\":{\"outlinewidth\":0,\"ticks\":\"\"},\"type\":\"mesh3d\"}],\"parcoords\":[{\"line\":{\"colorbar\":{\"outlinewidth\":0,\"ticks\":\"\"}},\"type\":\"parcoords\"}],\"pie\":[{\"automargin\":true,\"type\":\"pie\"}],\"scatter3d\":[{\"line\":{\"colorbar\":{\"outlinewidth\":0,\"ticks\":\"\"}},\"marker\":{\"colorbar\":{\"outlinewidth\":0,\"ticks\":\"\"}},\"type\":\"scatter3d\"}],\"scattercarpet\":[{\"marker\":{\"colorbar\":{\"outlinewidth\":0,\"ticks\":\"\"}},\"type\":\"scattercarpet\"}],\"scattergeo\":[{\"marker\":{\"colorbar\":{\"outlinewidth\":0,\"ticks\":\"\"}},\"type\":\"scattergeo\"}],\"scattergl\":[{\"marker\":{\"line\":{\"color\":\"#283442\"}},\"type\":\"scattergl\"}],\"scattermapbox\":[{\"marker\":{\"colorbar\":{\"outlinewidth\":0,\"ticks\":\"\"}},\"type\":\"scattermapbox\"}],\"scatterpolargl\":[{\"marker\":{\"colorbar\":{\"outlinewidth\":0,\"ticks\":\"\"}},\"type\":\"scatterpolargl\"}],\"scatterpolar\":[{\"marker\":{\"colorbar\":{\"outlinewidth\":0,\"ticks\":\"\"}},\"type\":\"scatterpolar\"}],\"scatter\":[{\"marker\":{\"line\":{\"color\":\"#283442\"}},\"type\":\"scatter\"}],\"scatterternary\":[{\"marker\":{\"colorbar\":{\"outlinewidth\":0,\"ticks\":\"\"}},\"type\":\"scatterternary\"}],\"surface\":[{\"colorbar\":{\"outlinewidth\":0,\"ticks\":\"\"},\"colorscale\":[[0.0,\"#0d0887\"],[0.1111111111111111,\"#46039f\"],[0.2222222222222222,\"#7201a8\"],[0.3333333333333333,\"#9c179e\"],[0.4444444444444444,\"#bd3786\"],[0.5555555555555556,\"#d8576b\"],[0.6666666666666666,\"#ed7953\"],[0.7777777777777778,\"#fb9f3a\"],[0.8888888888888888,\"#fdca26\"],[1.0,\"#f0f921\"]],\"type\":\"surface\"}],\"table\":[{\"cells\":{\"fill\":{\"color\":\"#506784\"},\"line\":{\"color\":\"rgb(17,17,17)\"}},\"header\":{\"fill\":{\"color\":\"#2a3f5f\"},\"line\":{\"color\":\"rgb(17,17,17)\"}},\"type\":\"table\"}]},\"layout\":{\"annotationdefaults\":{\"arrowcolor\":\"#f2f5fa\",\"arrowhead\":0,\"arrowwidth\":1},\"autotypenumbers\":\"strict\",\"coloraxis\":{\"colorbar\":{\"outlinewidth\":0,\"ticks\":\"\"}},\"colorscale\":{\"diverging\":[[0,\"#8e0152\"],[0.1,\"#c51b7d\"],[0.2,\"#de77ae\"],[0.3,\"#f1b6da\"],[0.4,\"#fde0ef\"],[0.5,\"#f7f7f7\"],[0.6,\"#e6f5d0\"],[0.7,\"#b8e186\"],[0.8,\"#7fbc41\"],[0.9,\"#4d9221\"],[1,\"#276419\"]],\"sequential\":[[0.0,\"#0d0887\"],[0.1111111111111111,\"#46039f\"],[0.2222222222222222,\"#7201a8\"],[0.3333333333333333,\"#9c179e\"],[0.4444444444444444,\"#bd3786\"],[0.5555555555555556,\"#d8576b\"],[0.6666666666666666,\"#ed7953\"],[0.7777777777777778,\"#fb9f3a\"],[0.8888888888888888,\"#fdca26\"],[1.0,\"#f0f921\"]],\"sequentialminus\":[[0.0,\"#0d0887\"],[0.1111111111111111,\"#46039f\"],[0.2222222222222222,\"#7201a8\"],[0.3333333333333333,\"#9c179e\"],[0.4444444444444444,\"#bd3786\"],[0.5555555555555556,\"#d8576b\"],[0.6666666666666666,\"#ed7953\"],[0.7777777777777778,\"#fb9f3a\"],[0.8888888888888888,\"#fdca26\"],[1.0,\"#f0f921\"]]},\"colorway\":[\"#636efa\",\"#EF553B\",\"#00cc96\",\"#ab63fa\",\"#FFA15A\",\"#19d3f3\",\"#FF6692\",\"#B6E880\",\"#FF97FF\",\"#FECB52\"],\"font\":{\"color\":\"#f2f5fa\"},\"geo\":{\"bgcolor\":\"rgb(17,17,17)\",\"lakecolor\":\"rgb(17,17,17)\",\"landcolor\":\"rgb(17,17,17)\",\"showlakes\":true,\"showland\":true,\"subunitcolor\":\"#506784\"},\"hoverlabel\":{\"align\":\"left\"},\"hovermode\":\"closest\",\"mapbox\":{\"style\":\"dark\"},\"paper_bgcolor\":\"rgb(17,17,17)\",\"plot_bgcolor\":\"rgb(17,17,17)\",\"polar\":{\"angularaxis\":{\"gridcolor\":\"#506784\",\"linecolor\":\"#506784\",\"ticks\":\"\"},\"bgcolor\":\"rgb(17,17,17)\",\"radialaxis\":{\"gridcolor\":\"#506784\",\"linecolor\":\"#506784\",\"ticks\":\"\"}},\"scene\":{\"xaxis\":{\"backgroundcolor\":\"rgb(17,17,17)\",\"gridcolor\":\"#506784\",\"gridwidth\":2,\"linecolor\":\"#506784\",\"showbackground\":true,\"ticks\":\"\",\"zerolinecolor\":\"#C8D4E3\"},\"yaxis\":{\"backgroundcolor\":\"rgb(17,17,17)\",\"gridcolor\":\"#506784\",\"gridwidth\":2,\"linecolor\":\"#506784\",\"showbackground\":true,\"ticks\":\"\",\"zerolinecolor\":\"#C8D4E3\"},\"zaxis\":{\"backgroundcolor\":\"rgb(17,17,17)\",\"gridcolor\":\"#506784\",\"gridwidth\":2,\"linecolor\":\"#506784\",\"showbackground\":true,\"ticks\":\"\",\"zerolinecolor\":\"#C8D4E3\"}},\"shapedefaults\":{\"line\":{\"color\":\"#f2f5fa\"}},\"sliderdefaults\":{\"bgcolor\":\"#C8D4E3\",\"bordercolor\":\"rgb(17,17,17)\",\"borderwidth\":1,\"tickwidth\":0},\"ternary\":{\"aaxis\":{\"gridcolor\":\"#506784\",\"linecolor\":\"#506784\",\"ticks\":\"\"},\"baxis\":{\"gridcolor\":\"#506784\",\"linecolor\":\"#506784\",\"ticks\":\"\"},\"bgcolor\":\"rgb(17,17,17)\",\"caxis\":{\"gridcolor\":\"#506784\",\"linecolor\":\"#506784\",\"ticks\":\"\"}},\"title\":{\"x\":0.05},\"updatemenudefaults\":{\"bgcolor\":\"#506784\",\"borderwidth\":0},\"xaxis\":{\"automargin\":true,\"gridcolor\":\"#283442\",\"linecolor\":\"#506784\",\"ticks\":\"\",\"title\":{\"standoff\":15},\"zerolinecolor\":\"#283442\",\"zerolinewidth\":2},\"yaxis\":{\"automargin\":true,\"gridcolor\":\"#283442\",\"linecolor\":\"#506784\",\"ticks\":\"\",\"title\":{\"standoff\":15},\"zerolinecolor\":\"#283442\",\"zerolinewidth\":2}}},\"legend\":{\"tracegroupgap\":0},\"margin\":{\"t\":60}},                        {\"responsive\": true}                    ).then(function(){\n",
       "                            \n",
       "var gd = document.getElementById('6e259129-87f7-4815-bb8c-e92f2092c710');\n",
       "var x = new MutationObserver(function (mutations, observer) {{\n",
       "        var display = window.getComputedStyle(gd).display;\n",
       "        if (!display || display === 'none') {{\n",
       "            console.log([gd, 'removed!']);\n",
       "            Plotly.purge(gd);\n",
       "            observer.disconnect();\n",
       "        }}\n",
       "}});\n",
       "\n",
       "// Listen for the removal of the full notebook cells\n",
       "var notebookContainer = gd.closest('#notebook-container');\n",
       "if (notebookContainer) {{\n",
       "    x.observe(notebookContainer, {childList: true});\n",
       "}}\n",
       "\n",
       "// Listen for the clearing of the current output cell\n",
       "var outputEl = gd.closest('.output');\n",
       "if (outputEl) {{\n",
       "    x.observe(outputEl, {childList: true});\n",
       "}}\n",
       "\n",
       "                        })                };                });            </script>        </div>"
      ]
     },
     "metadata": {},
     "output_type": "display_data"
    }
   ],
   "source": [
    "# Buat pie plot\n",
    "pie = px.pie(df, names=\"Provinsi\", values=\"Produksi\",template='plotly_dark')\n",
    "\n",
    "# Tampilkan pie plot\n",
    "pie.show()"
   ]
  },
  {
   "cell_type": "code",
   "execution_count": 50,
   "id": "1730a310-55ae-437c-8efa-2916083f8fba",
   "metadata": {},
   "outputs": [],
   "source": [
    "import pandas as pd\n",
    "import numpy as np\n",
    "\n",
    "X = df[[\"Luas Panen\",\"Suhu rata-rata\",\"Kelembapan\",\"Curah hujan\"]].values\n",
    "y =  df[\"Produksi\"].values\n",
    "X_norm =  X/np.amax(X,axis=0)\n",
    "y_norm =  y/np.max(y)"
   ]
  },
  {
   "cell_type": "code",
   "execution_count": 51,
   "id": "0e3e6e3e-f12c-4540-91bd-ae6b7a3f8184",
   "metadata": {},
   "outputs": [],
   "source": [
    "data_norm = pd.DataFrame(X_norm,columns=[\"X1\",\"X2\",\"X3\",\"X4\"])"
   ]
  },
  {
   "cell_type": "code",
   "execution_count": 41,
   "id": "95d8d3ca-687f-4133-8dd0-fda5a10e7618",
   "metadata": {},
   "outputs": [],
   "source": [
    "y_norm = df['Produksi'].values/max(df['Produksi'].values)"
   ]
  },
  {
   "cell_type": "code",
   "execution_count": 46,
   "id": "7831eae6-8668-4855-b0d4-f15d5e23c801",
   "metadata": {},
   "outputs": [
    {
     "data": {
      "text/plain": [
       "1329536.0"
      ]
     },
     "execution_count": 46,
     "metadata": {},
     "output_type": "execute_result"
    }
   ],
   "source": [
    "y_norm[0]*max(df[\"Produksi\"])"
   ]
  },
  {
   "cell_type": "code",
   "execution_count": 52,
   "id": "ef021b3b-9461-417d-b95f-1ed5ef8b8b23",
   "metadata": {},
   "outputs": [],
   "source": [
    "data_norm[\"y\"] =  y_norm"
   ]
  },
  {
   "cell_type": "code",
   "execution_count": 53,
   "id": "ad1e7076-e7e8-41a4-9ab0-59bb27e7a722",
   "metadata": {},
   "outputs": [
    {
     "data": {
      "text/html": [
       "<div>\n",
       "<style scoped>\n",
       "    .dataframe tbody tr th:only-of-type {\n",
       "        vertical-align: middle;\n",
       "    }\n",
       "\n",
       "    .dataframe tbody tr th {\n",
       "        vertical-align: top;\n",
       "    }\n",
       "\n",
       "    .dataframe thead th {\n",
       "        text-align: right;\n",
       "    }\n",
       "</style>\n",
       "<table border=\"1\" class=\"dataframe\">\n",
       "  <thead>\n",
       "    <tr style=\"text-align: right;\">\n",
       "      <th></th>\n",
       "      <th>X1</th>\n",
       "      <th>X2</th>\n",
       "      <th>X3</th>\n",
       "      <th>X4</th>\n",
       "      <th>y</th>\n",
       "    </tr>\n",
       "  </thead>\n",
       "  <tbody>\n",
       "    <tr>\n",
       "      <th>0</th>\n",
       "      <td>0.370775</td>\n",
       "      <td>0.873032</td>\n",
       "      <td>0.905077</td>\n",
       "      <td>0.294640</td>\n",
       "      <td>0.272385</td>\n",
       "    </tr>\n",
       "    <tr>\n",
       "      <th>1</th>\n",
       "      <td>0.377022</td>\n",
       "      <td>0.901843</td>\n",
       "      <td>0.906402</td>\n",
       "      <td>0.275444</td>\n",
       "      <td>0.266272</td>\n",
       "    </tr>\n",
       "    <tr>\n",
       "      <th>2</th>\n",
       "      <td>0.388723</td>\n",
       "      <td>0.880067</td>\n",
       "      <td>0.913024</td>\n",
       "      <td>0.267294</td>\n",
       "      <td>0.283319</td>\n",
       "    </tr>\n",
       "    <tr>\n",
       "      <th>3</th>\n",
       "      <td>0.399001</td>\n",
       "      <td>0.873702</td>\n",
       "      <td>0.916115</td>\n",
       "      <td>0.281963</td>\n",
       "      <td>0.290740</td>\n",
       "    </tr>\n",
       "    <tr>\n",
       "      <th>4</th>\n",
       "      <td>0.386784</td>\n",
       "      <td>0.881407</td>\n",
       "      <td>0.910155</td>\n",
       "      <td>0.242485</td>\n",
       "      <td>0.280280</td>\n",
       "    </tr>\n",
       "    <tr>\n",
       "      <th>...</th>\n",
       "      <td>...</td>\n",
       "      <td>...</td>\n",
       "      <td>...</td>\n",
       "      <td>...</td>\n",
       "      <td>...</td>\n",
       "    </tr>\n",
       "    <tr>\n",
       "      <th>275</th>\n",
       "      <td>0.013436</td>\n",
       "      <td>0.929313</td>\n",
       "      <td>0.844371</td>\n",
       "      <td>0.350724</td>\n",
       "      <td>0.004138</td>\n",
       "    </tr>\n",
       "    <tr>\n",
       "      <th>276</th>\n",
       "      <td>0.017503</td>\n",
       "      <td>0.921273</td>\n",
       "      <td>0.829139</td>\n",
       "      <td>0.374520</td>\n",
       "      <td>0.005936</td>\n",
       "    </tr>\n",
       "    <tr>\n",
       "      <th>277</th>\n",
       "      <td>0.009875</td>\n",
       "      <td>0.937018</td>\n",
       "      <td>0.797351</td>\n",
       "      <td>0.342231</td>\n",
       "      <td>0.003883</td>\n",
       "    </tr>\n",
       "    <tr>\n",
       "      <th>278</th>\n",
       "      <td>0.020443</td>\n",
       "      <td>0.872027</td>\n",
       "      <td>0.895364</td>\n",
       "      <td>0.395237</td>\n",
       "      <td>0.011744</td>\n",
       "    </tr>\n",
       "    <tr>\n",
       "      <th>279</th>\n",
       "      <td>0.019579</td>\n",
       "      <td>0.861642</td>\n",
       "      <td>0.898124</td>\n",
       "      <td>0.325118</td>\n",
       "      <td>0.009999</td>\n",
       "    </tr>\n",
       "  </tbody>\n",
       "</table>\n",
       "<p>280 rows × 5 columns</p>\n",
       "</div>"
      ],
      "text/plain": [
       "           X1        X2        X3        X4         y\n",
       "0    0.370775  0.873032  0.905077  0.294640  0.272385\n",
       "1    0.377022  0.901843  0.906402  0.275444  0.266272\n",
       "2    0.388723  0.880067  0.913024  0.267294  0.283319\n",
       "3    0.399001  0.873702  0.916115  0.281963  0.290740\n",
       "4    0.386784  0.881407  0.910155  0.242485  0.280280\n",
       "..        ...       ...       ...       ...       ...\n",
       "275  0.013436  0.929313  0.844371  0.350724  0.004138\n",
       "276  0.017503  0.921273  0.829139  0.374520  0.005936\n",
       "277  0.009875  0.937018  0.797351  0.342231  0.003883\n",
       "278  0.020443  0.872027  0.895364  0.395237  0.011744\n",
       "279  0.019579  0.861642  0.898124  0.325118  0.009999\n",
       "\n",
       "[280 rows x 5 columns]"
      ]
     },
     "execution_count": 53,
     "metadata": {},
     "output_type": "execute_result"
    }
   ],
   "source": [
    "data_norm"
   ]
  },
  {
   "cell_type": "code",
   "execution_count": 59,
   "id": "0294e75d-1596-4ea2-bec6-b4b035a927c5",
   "metadata": {},
   "outputs": [],
   "source": [
    "from sklearn.model_selection import train_test_split\n",
    "X_train,X_test,y_train,y_test = train_test_split(data_norm[[\"X1\",\"X2\",\"X3\",\"X4\"]],data_norm[\"y\"],test_size=0.2)"
   ]
  },
  {
   "cell_type": "code",
   "execution_count": 62,
   "id": "2e6aa4bb-893e-4f3d-8b61-c54378bfce3d",
   "metadata": {},
   "outputs": [
    {
     "data": {
      "text/html": [
       "<div>\n",
       "<style scoped>\n",
       "    .dataframe tbody tr th:only-of-type {\n",
       "        vertical-align: middle;\n",
       "    }\n",
       "\n",
       "    .dataframe tbody tr th {\n",
       "        vertical-align: top;\n",
       "    }\n",
       "\n",
       "    .dataframe thead th {\n",
       "        text-align: right;\n",
       "    }\n",
       "</style>\n",
       "<table border=\"1\" class=\"dataframe\">\n",
       "  <thead>\n",
       "    <tr style=\"text-align: right;\">\n",
       "      <th></th>\n",
       "      <th>X1</th>\n",
       "      <th>X2</th>\n",
       "      <th>X3</th>\n",
       "      <th>X4</th>\n",
       "    </tr>\n",
       "  </thead>\n",
       "  <tbody>\n",
       "    <tr>\n",
       "      <th>0</th>\n",
       "      <td>0.574192</td>\n",
       "      <td>0.894807</td>\n",
       "      <td>0.859051</td>\n",
       "      <td>0.364560</td>\n",
       "    </tr>\n",
       "    <tr>\n",
       "      <th>1</th>\n",
       "      <td>0.000263</td>\n",
       "      <td>0.880737</td>\n",
       "      <td>0.870530</td>\n",
       "      <td>0.305505</td>\n",
       "    </tr>\n",
       "    <tr>\n",
       "      <th>2</th>\n",
       "      <td>0.876737</td>\n",
       "      <td>0.953099</td>\n",
       "      <td>0.798124</td>\n",
       "      <td>0.352209</td>\n",
       "    </tr>\n",
       "    <tr>\n",
       "      <th>3</th>\n",
       "      <td>0.617960</td>\n",
       "      <td>0.924623</td>\n",
       "      <td>0.939625</td>\n",
       "      <td>0.299801</td>\n",
       "    </tr>\n",
       "    <tr>\n",
       "      <th>4</th>\n",
       "      <td>0.735475</td>\n",
       "      <td>0.897822</td>\n",
       "      <td>0.874172</td>\n",
       "      <td>0.305143</td>\n",
       "    </tr>\n",
       "    <tr>\n",
       "      <th>...</th>\n",
       "      <td>...</td>\n",
       "      <td>...</td>\n",
       "      <td>...</td>\n",
       "      <td>...</td>\n",
       "    </tr>\n",
       "    <tr>\n",
       "      <th>219</th>\n",
       "      <td>0.564257</td>\n",
       "      <td>0.889112</td>\n",
       "      <td>0.912914</td>\n",
       "      <td>0.507063</td>\n",
       "    </tr>\n",
       "    <tr>\n",
       "      <th>220</th>\n",
       "      <td>0.167442</td>\n",
       "      <td>0.871022</td>\n",
       "      <td>0.953311</td>\n",
       "      <td>0.495907</td>\n",
       "    </tr>\n",
       "    <tr>\n",
       "      <th>221</th>\n",
       "      <td>0.020443</td>\n",
       "      <td>0.872027</td>\n",
       "      <td>0.895364</td>\n",
       "      <td>0.395237</td>\n",
       "    </tr>\n",
       "    <tr>\n",
       "      <th>222</th>\n",
       "      <td>0.653596</td>\n",
       "      <td>0.894472</td>\n",
       "      <td>0.873068</td>\n",
       "      <td>0.323977</td>\n",
       "    </tr>\n",
       "    <tr>\n",
       "      <th>223</th>\n",
       "      <td>0.120554</td>\n",
       "      <td>0.897822</td>\n",
       "      <td>0.774283</td>\n",
       "      <td>0.545092</td>\n",
       "    </tr>\n",
       "  </tbody>\n",
       "</table>\n",
       "<p>224 rows × 4 columns</p>\n",
       "</div>"
      ],
      "text/plain": [
       "           X1        X2        X3        X4\n",
       "0    0.574192  0.894807  0.859051  0.364560\n",
       "1    0.000263  0.880737  0.870530  0.305505\n",
       "2    0.876737  0.953099  0.798124  0.352209\n",
       "3    0.617960  0.924623  0.939625  0.299801\n",
       "4    0.735475  0.897822  0.874172  0.305143\n",
       "..        ...       ...       ...       ...\n",
       "219  0.564257  0.889112  0.912914  0.507063\n",
       "220  0.167442  0.871022  0.953311  0.495907\n",
       "221  0.020443  0.872027  0.895364  0.395237\n",
       "222  0.653596  0.894472  0.873068  0.323977\n",
       "223  0.120554  0.897822  0.774283  0.545092\n",
       "\n",
       "[224 rows x 4 columns]"
      ]
     },
     "execution_count": 62,
     "metadata": {},
     "output_type": "execute_result"
    }
   ],
   "source": [
    "X_train.reset_index(drop=True)"
   ]
  },
  {
   "cell_type": "code",
   "execution_count": null,
   "id": "1f4f02de-fb98-4786-8ccd-ce84801c895e",
   "metadata": {},
   "outputs": [],
   "source": [
    "y_train"
   ]
  }
 ],
 "metadata": {
  "kernelspec": {
   "display_name": "Python 3 (ipykernel)",
   "language": "python",
   "name": "python3"
  },
  "language_info": {
   "codemirror_mode": {
    "name": "ipython",
    "version": 3
   },
   "file_extension": ".py",
   "mimetype": "text/x-python",
   "name": "python",
   "nbconvert_exporter": "python",
   "pygments_lexer": "ipython3",
   "version": "3.9.7"
  }
 },
 "nbformat": 4,
 "nbformat_minor": 5
}
