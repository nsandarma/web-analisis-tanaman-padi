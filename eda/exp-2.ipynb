{
 "cells": [
  {
   "cell_type": "code",
   "execution_count": 2,
   "id": "cc274b39",
   "metadata": {},
   "outputs": [],
   "source": [
    "import pandas as pd\n",
    "import numpy as np\n",
    "import matplotlib.pyplot as plt\n",
    "import seaborn as sns\n",
    "import plotly.express as px\n",
    "from sklearn.model_selection import train_test_split\n",
    "from sklearn.metrics import mean_absolute_percentage_error,mean_squared_error\n",
    "from sklearn.preprocessing import MinMaxScaler"
   ]
  },
  {
   "cell_type": "code",
   "execution_count": 3,
   "id": "f40e7ed0",
   "metadata": {},
   "outputs": [],
   "source": [
    "df = pd.read_csv('data-tanaman-padi-lengkap.csv')"
   ]
  },
  {
   "cell_type": "code",
   "execution_count": 4,
   "id": "f1c12544-847c-4852-8e59-70133f8c794c",
   "metadata": {},
   "outputs": [
    {
     "data": {
      "text/html": [
       "<div>\n",
       "<style scoped>\n",
       "    .dataframe tbody tr th:only-of-type {\n",
       "        vertical-align: middle;\n",
       "    }\n",
       "\n",
       "    .dataframe tbody tr th {\n",
       "        vertical-align: top;\n",
       "    }\n",
       "\n",
       "    .dataframe thead th {\n",
       "        text-align: right;\n",
       "    }\n",
       "</style>\n",
       "<table border=\"1\" class=\"dataframe\">\n",
       "  <thead>\n",
       "    <tr style=\"text-align: right;\">\n",
       "      <th></th>\n",
       "      <th>Provinsi</th>\n",
       "      <th>Tahun</th>\n",
       "      <th>Produksi</th>\n",
       "      <th>Luas Panen</th>\n",
       "      <th>Curah hujan</th>\n",
       "      <th>Kelembapan</th>\n",
       "      <th>Suhu rata-rata</th>\n",
       "    </tr>\n",
       "  </thead>\n",
       "  <tbody>\n",
       "    <tr>\n",
       "      <th>0</th>\n",
       "      <td>Aceh</td>\n",
       "      <td>1993</td>\n",
       "      <td>1329536.00</td>\n",
       "      <td>323589.00</td>\n",
       "      <td>1627.0</td>\n",
       "      <td>82.00</td>\n",
       "      <td>26.06</td>\n",
       "    </tr>\n",
       "    <tr>\n",
       "      <th>1</th>\n",
       "      <td>Aceh</td>\n",
       "      <td>1994</td>\n",
       "      <td>1299699.00</td>\n",
       "      <td>329041.00</td>\n",
       "      <td>1521.0</td>\n",
       "      <td>82.12</td>\n",
       "      <td>26.92</td>\n",
       "    </tr>\n",
       "    <tr>\n",
       "      <th>2</th>\n",
       "      <td>Aceh</td>\n",
       "      <td>1995</td>\n",
       "      <td>1382905.00</td>\n",
       "      <td>339253.00</td>\n",
       "      <td>1476.0</td>\n",
       "      <td>82.72</td>\n",
       "      <td>26.27</td>\n",
       "    </tr>\n",
       "    <tr>\n",
       "      <th>3</th>\n",
       "      <td>Aceh</td>\n",
       "      <td>1996</td>\n",
       "      <td>1419128.00</td>\n",
       "      <td>348223.00</td>\n",
       "      <td>1557.0</td>\n",
       "      <td>83.00</td>\n",
       "      <td>26.08</td>\n",
       "    </tr>\n",
       "    <tr>\n",
       "      <th>4</th>\n",
       "      <td>Aceh</td>\n",
       "      <td>1997</td>\n",
       "      <td>1368074.00</td>\n",
       "      <td>337561.00</td>\n",
       "      <td>1339.0</td>\n",
       "      <td>82.46</td>\n",
       "      <td>26.31</td>\n",
       "    </tr>\n",
       "    <tr>\n",
       "      <th>...</th>\n",
       "      <td>...</td>\n",
       "      <td>...</td>\n",
       "      <td>...</td>\n",
       "      <td>...</td>\n",
       "      <td>...</td>\n",
       "      <td>...</td>\n",
       "      <td>...</td>\n",
       "    </tr>\n",
       "    <tr>\n",
       "      <th>275</th>\n",
       "      <td>Bangka Belitung</td>\n",
       "      <td>2016</td>\n",
       "      <td>20199.46</td>\n",
       "      <td>11726.10</td>\n",
       "      <td>1936.7</td>\n",
       "      <td>76.50</td>\n",
       "      <td>27.74</td>\n",
       "    </tr>\n",
       "    <tr>\n",
       "      <th>276</th>\n",
       "      <td>Bangka Belitung</td>\n",
       "      <td>2017</td>\n",
       "      <td>28974.54</td>\n",
       "      <td>15275.46</td>\n",
       "      <td>2068.1</td>\n",
       "      <td>75.12</td>\n",
       "      <td>27.50</td>\n",
       "    </tr>\n",
       "    <tr>\n",
       "      <th>277</th>\n",
       "      <td>Bangka Belitung</td>\n",
       "      <td>2018</td>\n",
       "      <td>18951.00</td>\n",
       "      <td>8618.00</td>\n",
       "      <td>1889.8</td>\n",
       "      <td>72.24</td>\n",
       "      <td>27.97</td>\n",
       "    </tr>\n",
       "    <tr>\n",
       "      <th>278</th>\n",
       "      <td>Bangka Belitung</td>\n",
       "      <td>2019</td>\n",
       "      <td>57324.00</td>\n",
       "      <td>17841.00</td>\n",
       "      <td>2182.5</td>\n",
       "      <td>81.12</td>\n",
       "      <td>26.03</td>\n",
       "    </tr>\n",
       "    <tr>\n",
       "      <th>279</th>\n",
       "      <td>Bangka Belitung</td>\n",
       "      <td>2020</td>\n",
       "      <td>48806.00</td>\n",
       "      <td>17087.00</td>\n",
       "      <td>1795.3</td>\n",
       "      <td>81.37</td>\n",
       "      <td>25.72</td>\n",
       "    </tr>\n",
       "  </tbody>\n",
       "</table>\n",
       "<p>280 rows × 7 columns</p>\n",
       "</div>"
      ],
      "text/plain": [
       "            Provinsi  Tahun    Produksi  Luas Panen  Curah hujan  Kelembapan   \n",
       "0               Aceh   1993  1329536.00   323589.00       1627.0       82.00  \\\n",
       "1               Aceh   1994  1299699.00   329041.00       1521.0       82.12   \n",
       "2               Aceh   1995  1382905.00   339253.00       1476.0       82.72   \n",
       "3               Aceh   1996  1419128.00   348223.00       1557.0       83.00   \n",
       "4               Aceh   1997  1368074.00   337561.00       1339.0       82.46   \n",
       "..               ...    ...         ...         ...          ...         ...   \n",
       "275  Bangka Belitung   2016    20199.46    11726.10       1936.7       76.50   \n",
       "276  Bangka Belitung   2017    28974.54    15275.46       2068.1       75.12   \n",
       "277  Bangka Belitung   2018    18951.00     8618.00       1889.8       72.24   \n",
       "278  Bangka Belitung   2019    57324.00    17841.00       2182.5       81.12   \n",
       "279  Bangka Belitung   2020    48806.00    17087.00       1795.3       81.37   \n",
       "\n",
       "     Suhu rata-rata  \n",
       "0             26.06  \n",
       "1             26.92  \n",
       "2             26.27  \n",
       "3             26.08  \n",
       "4             26.31  \n",
       "..              ...  \n",
       "275           27.74  \n",
       "276           27.50  \n",
       "277           27.97  \n",
       "278           26.03  \n",
       "279           25.72  \n",
       "\n",
       "[280 rows x 7 columns]"
      ]
     },
     "execution_count": 4,
     "metadata": {},
     "output_type": "execute_result"
    }
   ],
   "source": [
    "df"
   ]
  },
  {
   "cell_type": "code",
   "execution_count": 5,
   "id": "266d127c",
   "metadata": {},
   "outputs": [],
   "source": [
    "class NeuralNetwork:\n",
    "    def __init__(self, input_size=4, hidden_size1=4, hidden_size2=4, output_size=1):\n",
    "        self.input_size = input_size\n",
    "        self.hidden_size1 = hidden_size1\n",
    "        self.hidden_size2 = hidden_size2\n",
    "        self.output_size = output_size\n",
    "        \n",
    "        # Inisialisasi bobot dan bias secara acak\n",
    "        np.random.seed(42)\n",
    "        self.weights_input_hidden1 = np.random.rand(self.input_size, self.hidden_size1)\n",
    "        self.bias_hidden1 = np.random.rand(self.hidden_size1)\n",
    "\n",
    "        self.weights_hidden1_hidden2 = np.random.rand(self.hidden_size1, self.hidden_size2)\n",
    "        self.bias_hidden2 = np.random.rand(self.hidden_size2)\n",
    "\n",
    "        self.weights_hidden2_output = np.random.rand(self.hidden_size2, self.output_size)\n",
    "        self.bias_output = np.random.rand(self.output_size)\n",
    "    \n",
    "    def sigmoid(self, x):\n",
    "        return 1 / (1 + np.exp(-x))\n",
    "    \n",
    "    def forward(self, input_data):\n",
    "        self.hidden_layer1_input = np.dot(input_data, self.weights_input_hidden1) + self.bias_hidden1\n",
    "        self.hidden_layer1_output = self.sigmoid(self.hidden_layer1_input)\n",
    "\n",
    "        self.hidden_layer2_input = np.dot(self.hidden_layer1_output, self.weights_hidden1_hidden2) + self.bias_hidden2\n",
    "        self.hidden_layer2_output = self.sigmoid(self.hidden_layer2_input)\n",
    "\n",
    "        self.output_layer_input = np.dot(self.hidden_layer2_output, self.weights_hidden2_output) + self.bias_output\n",
    "        self.predicted_output = self.sigmoid(self.output_layer_input)\n",
    "    \n",
    "    def sigmoid_derivative(self, x):\n",
    "        return x * (1 - x)\n",
    "    \n",
    "    def backward(self, input_data, output_data, learning_rate):\n",
    "        error = output_data - self.predicted_output\n",
    "\n",
    "        d_predicted_output = error * self.sigmoid_derivative(self.predicted_output)\n",
    "\n",
    "        error_hidden_layer2 = d_predicted_output.dot(self.weights_hidden2_output.T)\n",
    "        d_hidden_layer2 = error_hidden_layer2 * self.sigmoid_derivative(self.hidden_layer2_output)\n",
    "\n",
    "        error_hidden_layer1 = d_hidden_layer2.dot(self.weights_hidden1_hidden2.T)\n",
    "        d_hidden_layer1 = error_hidden_layer1 * self.sigmoid_derivative(self.hidden_layer1_output)\n",
    "\n",
    "        self.weights_hidden2_output += self.hidden_layer2_output.T.dot(d_predicted_output) * learning_rate\n",
    "        self.bias_output += np.sum(d_predicted_output) * learning_rate\n",
    "\n",
    "        self.weights_hidden1_hidden2 += self.hidden_layer1_output.T.dot(d_hidden_layer2) * learning_rate\n",
    "        self.bias_hidden2 += np.sum(d_hidden_layer2) * learning_rate\n",
    "\n",
    "        self.weights_input_hidden1 += input_data.T.dot(d_hidden_layer1) * learning_rate\n",
    "        self.bias_hidden1 += np.sum(d_hidden_layer1) * learning_rate\n",
    "    \n",
    "    def train(self, input_data, output_data, epochs=10000, learning_rate=0.001):\n",
    "        loss = []\n",
    "        for epoch in range(epochs):\n",
    "            self.forward(input_data)\n",
    "            self.backward(input_data, output_data, learning_rate)\n",
    "            mse = mean_squared_error(y_pred=self.predicted_output,y_true=output_data)\n",
    "            loss.append(mse)\n",
    "            # print(f\"iteration - {epoch}\\nMSE : {mse}\\nNilai Bobot : {self.weights_input_hidden1}\\nNilai Bias :{self.bias_hidden1}\\n\")\n",
    "\n",
    "        return loss\n",
    "            \n",
    "    \n",
    "    def predict(self, input_data):\n",
    "        self.forward(input_data)\n",
    "        return self.predicted_output\n"
   ]
  },
  {
   "cell_type": "code",
   "execution_count": 6,
   "id": "593dfec5",
   "metadata": {},
   "outputs": [],
   "source": [
    "def normalisasi(data):\n",
    "    mm = MinMaxScaler()\n",
    "    mm.fit(data)\n",
    "    return mm"
   ]
  },
  {
   "cell_type": "code",
   "execution_count": 7,
   "id": "da412122",
   "metadata": {},
   "outputs": [],
   "source": [
    "def getXandY(provinsi):\n",
    "    data = df.loc[df['Provinsi'] == provinsi]\n",
    "    X = data[['Luas Panen','Curah hujan','Suhu rata-rata']]\n",
    "    y = data[['Produksi']]\n",
    "    return X,y"
   ]
  },
  {
   "cell_type": "code",
   "execution_count": 8,
   "id": "8d0543c9",
   "metadata": {},
   "outputs": [],
   "source": [
    "# print(\"====== Hasil Backward Propagation ======\")\n",
    "# X_all = df[['Luas Panen','Curah hujan','Suhu rata-rata']]\n",
    "# y_all = df[['Produksi']]\n",
    "# scalerX =  normalisasi(X_all)\n",
    "# scalerY = normalisasi(y_all)\n",
    "# X_scaler = scalerX.transform(X_all)\n",
    "# y_scaler = scalerY.transform(y_all)\n",
    "# X_train,X_test,y_train,y_test = train_test_split(X_scaler,y_scaler,random_state=42,test_size=0.2)\n",
    "\n",
    "# NN = NeuralNetwork(input_size=3,hidden_size1=4,hidden_size2=4,output_size=1)\n",
    "# hist = NN.train(X_train,y_train,epochs=1000,learning_rate=0.1)"
   ]
  },
  {
   "cell_type": "code",
   "execution_count": 9,
   "id": "1710cbdc",
   "metadata": {},
   "outputs": [],
   "source": [
    "# plt.figure(figsize=(10,5))\n",
    "# plt.plot(hist,label='Proses Bacward Propagation')\n",
    "# plt.title(\"NIlai Loss MSE Selama Proses Backward\")\n",
    "# plt.xlabel(\"Iterasi\")\n",
    "# plt.ylabel(\"Nilai MSE\")\n",
    "# plt.legend();\n",
    "# plt.savefig(\"proses-backward\")"
   ]
  },
  {
   "cell_type": "code",
   "execution_count": 10,
   "id": "02ead1a4",
   "metadata": {},
   "outputs": [
    {
     "name": "stdout",
     "output_type": "stream",
     "text": [
      "Mohon Menunggu ...\n",
      "Data Aceh sudah siap [ MSE : 0.006931697767034872 ]\n",
      "Data Sumatera Utara sudah siap [ MSE : 0.02514904132838155 ]\n",
      "Data Sumatera Barat sudah siap [ MSE : 0.0009194554058076797 ]\n",
      "Data Riau sudah siap [ MSE : 0.003628628426234701 ]\n",
      "Data Jambi sudah siap [ MSE : 0.01066317794929384 ]\n",
      "Data Sumatera Selatan sudah siap [ MSE : 0.011130602849494282 ]\n",
      "Data Bengkulu sudah siap [ MSE : 0.18189682320976036 ]\n",
      "Data Lampung sudah siap [ MSE : 0.0075790017632088634 ]\n",
      "Data Kepulauan Riau sudah siap [ MSE : 0.030699620012384795 ]\n",
      "Data Bangka Belitung sudah siap [ MSE : 0.07689012162670356 ]\n",
      "training data sudah selesai ...\n",
      "\n"
     ]
    }
   ],
   "source": [
    "prov_ = df['Provinsi'].unique()\n",
    "loss = {}\n",
    "mape = {}\n",
    "mse = {}\n",
    "print(\"Mohon Menunggu ...\")\n",
    "hasil =  {}\n",
    "for i in prov_:\n",
    "    X,y = getXandY(i)\n",
    "    scalerX = normalisasi(X)\n",
    "    scalerY = normalisasi(y)\n",
    "    X_scaler = scalerX.transform(X)\n",
    "    y_scaler = scalerY.transform(y)\n",
    "    X_train,X_test,y_train,y_test = train_test_split(X_scaler,y_scaler,random_state=42,test_size=0.12)\n",
    "    NN = NeuralNetwork(input_size=3,hidden_size1=4,hidden_size2=4,output_size=1)\n",
    "    hist = NN.train(X_train,y_train,epochs=10000,learning_rate=0.1)\n",
    "    p = NN.predict(X_test)\n",
    "    pred = scalerY.inverse_transform(p)\n",
    "    y_true = scalerY.inverse_transform(y_test)\n",
    "    mape[i] = mean_absolute_percentage_error(y_pred=pred,y_true=y_true)*100\n",
    "    mse[i] =  mean_squared_error(y_pred=p,y_true=y_test)\n",
    "    loss[i] = hist\n",
    "    hasil[i] =  np.round(pred,2)\n",
    "    print(f\"Data {i} sudah siap [ MSE : {mse[i]} ]\")\n",
    "    \n",
    "print(\"training data sudah selesai ...\")\n",
    "print()"
   ]
  },
  {
   "cell_type": "code",
   "execution_count": 19,
   "id": "17292669",
   "metadata": {},
   "outputs": [
    {
     "name": "stdout",
     "output_type": "stream",
     "text": [
      "Proses Training Data :\n"
     ]
    },
    {
     "data": {
      "image/png": "[encoded data removed]",
      "text/plain": [
       "<Figure size 1080x1440 with 10 Axes>"
      ]
     },
     "metadata": {
      "needs_background": "light"
     },
     "output_type": "display_data"
    }
   ],
   "source": [
    "fig,axes = plt.subplots(5,2,figsize=(15,20),sharex=True)\n",
    "axes = axes.flatten()\n",
    "# cols = list(data_.keys())\n",
    "# colors = ['b','g','r','c','m','y','k','g']\n",
    "print(\"Proses Training Data :\")\n",
    "for i,ax in enumerate(axes):\n",
    "    \n",
    "    ax.plot(loss[prov_[i]],color='b',label='MSE')\n",
    "    \n",
    "    ax.set_title(label=prov_[i],fontsize=15)\n",
    "    ax.set_xlabel(\"Epochs\")\n",
    "    ax.set_ylabel(\"Loss\")\n",
    "\n",
    "    ax.legend();\n",
    "plt.savefig(\"grafik/proses.training.png\")"
   ]
  },
  {
   "cell_type": "code",
   "execution_count": 28,
   "id": "163e7571-2e16-49cc-b661-16a9d3b9b7d1",
   "metadata": {},
   "outputs": [
    {
     "data": {
      "text/plain": [
       "0.03554881703383045"
      ]
     },
     "execution_count": 28,
     "metadata": {},
     "output_type": "execute_result"
    }
   ],
   "source": [
    "np.mean(list(mse.values()))"
   ]
  },
  {
   "cell_type": "markdown",
   "id": "ed0ea727",
   "metadata": {},
   "source": [
    "# Mape"
   ]
  },
  {
   "cell_type": "code",
   "execution_count": 136,
   "id": "909b2b7c",
   "metadata": {},
   "outputs": [
    {
     "data": {
      "image/png": "[encoded data removed]",
      "text/plain": [
       "<Figure size 1080x360 with 1 Axes>"
      ]
     },
     "metadata": {
      "needs_background": "light"
     },
     "output_type": "display_data"
    }
   ],
   "source": [
    "plt.figure(figsize=(15,5))\n",
    "sns.barplot(x=prov_,y=list(mape.values()))\n",
    "plt.ylabel('Mean')\n",
    "plt.title(\"Mean Absolute Percentage Error (MAPE)\")\n",
    "plt.xlabel(\"Provinsi\")\n",
    "plt.ylim((1,50));"
   ]
  },
  {
   "cell_type": "code",
   "execution_count": 137,
   "id": "0da6a640",
   "metadata": {},
   "outputs": [
    {
     "data": {
      "text/plain": [
       "{'Aceh': 5.533176771502232,\n",
       " 'Sumatera Utara': 11.255887352005383,\n",
       " 'Sumatera Barat': 2.036745274233147,\n",
       " 'Riau': 6.110542429379462,\n",
       " 'Jambi': 11.075463670469626,\n",
       " 'Sumatera Selatan': 10.4585561622934,\n",
       " 'Bengkulu': 44.950283588370546,\n",
       " 'Lampung': 9.376741295034835,\n",
       " 'Kepulauan Riau': 7.6501443109968505,\n",
       " 'Bangka Belitung': 45.08201228898503}"
      ]
     },
     "execution_count": 137,
     "metadata": {},
     "output_type": "execute_result"
    }
   ],
   "source": [
    "mape"
   ]
  },
  {
   "cell_type": "markdown",
   "id": "0d78370c",
   "metadata": {},
   "source": [
    "# MSE"
   ]
  },
  {
   "cell_type": "code",
   "execution_count": 22,
   "id": "6eeed0d5",
   "metadata": {},
   "outputs": [
    {
     "data": {
      "text/plain": [
       "Text(0.5, 0, 'Provinsi')"
      ]
     },
     "execution_count": 22,
     "metadata": {},
     "output_type": "execute_result"
    },
    {
     "data": {
      "image/png": "[encoded data removed]",
      "text/plain": [
       "<Figure size 1080x360 with 1 Axes>"
      ]
     },
     "metadata": {
      "needs_background": "light"
     },
     "output_type": "display_data"
    }
   ],
   "source": [
    "plt.figure(figsize=(15,5))\n",
    "sns.barplot(x=prov_,y=list(mse.values()))\n",
    "plt.ylabel('Mean')\n",
    "plt.title(\"Mean MSE\")\n",
    "plt.xlabel(\"Provinsi\")\n",
    "# plt.ylim((0,0.10));"
   ]
  },
  {
   "cell_type": "code",
   "execution_count": 139,
   "id": "be43d9ce",
   "metadata": {},
   "outputs": [],
   "source": [
    "hasil = {'Provinsi':prov_,'MSE':list(mse.values()),\"MAPE\":list(mape.values())}"
   ]
  },
  {
   "cell_type": "code",
   "execution_count": 140,
   "id": "f5e25989",
   "metadata": {},
   "outputs": [
    {
     "data": {
      "text/html": [
       "<div>\n",
       "<style scoped>\n",
       "    .dataframe tbody tr th:only-of-type {\n",
       "        vertical-align: middle;\n",
       "    }\n",
       "\n",
       "    .dataframe tbody tr th {\n",
       "        vertical-align: top;\n",
       "    }\n",
       "\n",
       "    .dataframe thead th {\n",
       "        text-align: right;\n",
       "    }\n",
       "</style>\n",
       "<table border=\"1\" class=\"dataframe\">\n",
       "  <thead>\n",
       "    <tr style=\"text-align: right;\">\n",
       "      <th></th>\n",
       "      <th>Provinsi</th>\n",
       "      <th>MSE</th>\n",
       "      <th>MAPE</th>\n",
       "    </tr>\n",
       "  </thead>\n",
       "  <tbody>\n",
       "    <tr>\n",
       "      <th>0</th>\n",
       "      <td>Aceh</td>\n",
       "      <td>0.006932</td>\n",
       "      <td>5.533177</td>\n",
       "    </tr>\n",
       "    <tr>\n",
       "      <th>1</th>\n",
       "      <td>Sumatera Utara</td>\n",
       "      <td>0.025149</td>\n",
       "      <td>11.255887</td>\n",
       "    </tr>\n",
       "    <tr>\n",
       "      <th>2</th>\n",
       "      <td>Sumatera Barat</td>\n",
       "      <td>0.000919</td>\n",
       "      <td>2.036745</td>\n",
       "    </tr>\n",
       "    <tr>\n",
       "      <th>3</th>\n",
       "      <td>Riau</td>\n",
       "      <td>0.003629</td>\n",
       "      <td>6.110542</td>\n",
       "    </tr>\n",
       "    <tr>\n",
       "      <th>4</th>\n",
       "      <td>Jambi</td>\n",
       "      <td>0.010663</td>\n",
       "      <td>11.075464</td>\n",
       "    </tr>\n",
       "    <tr>\n",
       "      <th>5</th>\n",
       "      <td>Sumatera Selatan</td>\n",
       "      <td>0.011131</td>\n",
       "      <td>10.458556</td>\n",
       "    </tr>\n",
       "    <tr>\n",
       "      <th>6</th>\n",
       "      <td>Bengkulu</td>\n",
       "      <td>0.181897</td>\n",
       "      <td>44.950284</td>\n",
       "    </tr>\n",
       "    <tr>\n",
       "      <th>7</th>\n",
       "      <td>Lampung</td>\n",
       "      <td>0.007579</td>\n",
       "      <td>9.376741</td>\n",
       "    </tr>\n",
       "    <tr>\n",
       "      <th>8</th>\n",
       "      <td>Kepulauan Riau</td>\n",
       "      <td>0.030700</td>\n",
       "      <td>7.650144</td>\n",
       "    </tr>\n",
       "    <tr>\n",
       "      <th>9</th>\n",
       "      <td>Bangka Belitung</td>\n",
       "      <td>0.076890</td>\n",
       "      <td>45.082012</td>\n",
       "    </tr>\n",
       "  </tbody>\n",
       "</table>\n",
       "</div>"
      ],
      "text/plain": [
       "           Provinsi       MSE       MAPE\n",
       "0              Aceh  0.006932   5.533177\n",
       "1    Sumatera Utara  0.025149  11.255887\n",
       "2    Sumatera Barat  0.000919   2.036745\n",
       "3              Riau  0.003629   6.110542\n",
       "4             Jambi  0.010663  11.075464\n",
       "5  Sumatera Selatan  0.011131  10.458556\n",
       "6          Bengkulu  0.181897  44.950284\n",
       "7           Lampung  0.007579   9.376741\n",
       "8    Kepulauan Riau  0.030700   7.650144\n",
       "9   Bangka Belitung  0.076890  45.082012"
      ]
     },
     "execution_count": 140,
     "metadata": {},
     "output_type": "execute_result"
    }
   ],
   "source": [
    "hasil = pd.DataFrame(hasil)\n",
    "hasil"
   ]
  },
  {
   "cell_type": "code",
   "execution_count": 141,
   "id": "0ed226c8",
   "metadata": {},
   "outputs": [
    {
     "name": "stdout",
     "output_type": "stream",
     "text": [
      "Rata-rata MAPE : 15.35%\n",
      "Rata-rata MSE : 0.04\n"
     ]
    }
   ],
   "source": [
    "print(f\"Rata-rata MAPE : {round(np.mean(hasil['MAPE']),2)}%\")\n",
    "print(f\"Rata-rata MSE : {round(np.mean(hasil['MSE']),2)}\")"
   ]
  },
  {
   "cell_type": "markdown",
   "id": "aedc261c",
   "metadata": {},
   "source": [
    "# Prediksi 4 Tahun Kedepan"
   ]
  },
  {
   "cell_type": "code",
   "execution_count": 14,
   "id": "9ff783a1",
   "metadata": {},
   "outputs": [
    {
     "data": {
      "text/plain": [
       "{'Aceh': array([[1454813.28],\n",
       "        [1608489.23],\n",
       "        [1507747.86],\n",
       "        [1807860.36]]),\n",
       " 'Sumatera Utara': array([[3884021.43],\n",
       "        [2332711.07],\n",
       "        [3404764.44],\n",
       "        [3912985.34]]),\n",
       " 'Sumatera Barat': array([[1927395.3 ],\n",
       "        [1544321.46],\n",
       "        [1678814.34],\n",
       "        [2501942.84]]),\n",
       " 'Riau': array([[452960.04],\n",
       "        [263571.08],\n",
       "        [442764.7 ],\n",
       "        [393514.73]]),\n",
       " 'Jambi': array([[588768.42],\n",
       "        [461037.74],\n",
       "        [583863.77],\n",
       "        [571078.98]]),\n",
       " 'Sumatera Selatan': array([[2050865.32],\n",
       "        [2286820.42],\n",
       "        [1832557.01],\n",
       "        [3526231.01]]),\n",
       " 'Bengkulu': array([[476558.29],\n",
       "        [595862.8 ],\n",
       "        [542169.02],\n",
       "        [618067.13]]),\n",
       " 'Lampung': array([[2216840.72],\n",
       "        [2330421.4 ],\n",
       "        [2258958.88],\n",
       "        [3458494.18]]),\n",
       " 'Kepulauan Riau': array([[851.25],\n",
       "        [853.71],\n",
       "        [860.44],\n",
       "        [853.36]]),\n",
       " 'Bangka Belitung': array([[26143.99],\n",
       "        [31845.85],\n",
       "        [40459.04],\n",
       "        [27767.36]])}"
      ]
     },
     "execution_count": 14,
     "metadata": {},
     "output_type": "execute_result"
    }
   ],
   "source": [
    "hasil"
   ]
  },
  {
   "cell_type": "code",
   "execution_count": 40,
   "id": "0c701925",
   "metadata": {},
   "outputs": [
    {
     "data": {
      "application/vnd.plotly.v1+json": {
       "config": {
        "plotlyServerURL": "https://plot.ly"
       },
       "data": [
        {
         "hovertemplate": "x=%{x}<br>y=%{y}<extra></extra>",
         "legendgroup": "",
         "line": {
          "color": "#636efa",
          "dash": "solid"
         },
         "marker": {
          "symbol": "circle"
         },
         "mode": "markers+lines",
         "name": "",
         "orientation": "v",
         "showlegend": false,
         "type": "scatter",
         "x": [
          "2021",
          "2022",
          "2023",
          "2024"
         ],
         "xaxis": "x",
         "y": [
          3884021.43,
          2332711.07,
          3404764.44,
          3912985.34
         ],
         "yaxis": "y"
        }
       ],
       "layout": {
        "autosize": true,
        "legend": {
         "tracegroupgap": 0
        },
        "margin": {
         "t": 60
        },
        "template": {
         "data": {
          "bar": [
           {
            "error_x": {
             "color": "#f2f5fa"
            },
            "error_y": {
             "color": "#f2f5fa"
            },
            "marker": {
             "line": {
              "color": "rgb(17,17,17)",
              "width": 0.5
             },
             "pattern": {
              "fillmode": "overlay",
              "size": 10,
              "solidity": 0.2
             }
            },
            "type": "bar"
           }
          ],
          "barpolar": [
           {
            "marker": {
             "line": {
              "color": "rgb(17,17,17)",
              "width": 0.5
             },
             "pattern": {
              "fillmode": "overlay",
              "size": 10,
              "solidity": 0.2
             }
            },
            "type": "barpolar"
           }
          ],
          "carpet": [
           {
            "aaxis": {
             "endlinecolor": "#A2B1C6",
             "gridcolor": "#506784",
             "linecolor": "#506784",
             "minorgridcolor": "#506784",
             "startlinecolor": "#A2B1C6"
            },
            "baxis": {
             "endlinecolor": "#A2B1C6",
             "gridcolor": "#506784",
             "linecolor": "#506784",
             "minorgridcolor": "#506784",
             "startlinecolor": "#A2B1C6"
            },
            "type": "carpet"
           }
          ],
          "choropleth": [
           {
            "colorbar": {
             "outlinewidth": 0,
             "ticks": ""
            },
            "type": "choropleth"
           }
          ],
          "contour": [
           {
            "colorbar": {
             "outlinewidth": 0,
             "ticks": ""
            },
            "colorscale": [
             [
              0,
              "#0d0887"
             ],
             [
              0.1111111111111111,
              "#46039f"
             ],
             [
              0.2222222222222222,
              "#7201a8"
             ],
             [
              0.3333333333333333,
              "#9c179e"
             ],
             [
              0.4444444444444444,
              "#bd3786"
             ],
             [
              0.5555555555555556,
              "#d8576b"
             ],
             [
              0.6666666666666666,
              "#ed7953"
             ],
             [
              0.7777777777777778,
              "#fb9f3a"
             ],
             [
              0.8888888888888888,
              "#fdca26"
             ],
             [
              1,
              "#f0f921"
             ]
            ],
            "type": "contour"
           }
          ],
          "contourcarpet": [
           {
            "colorbar": {
             "outlinewidth": 0,
             "ticks": ""
            },
            "type": "contourcarpet"
           }
          ],
          "heatmap": [
           {
            "colorbar": {
             "outlinewidth": 0,
             "ticks": ""
            },
            "colorscale": [
             [
              0,
              "#0d0887"
             ],
             [
              0.1111111111111111,
              "#46039f"
             ],
             [
              0.2222222222222222,
              "#7201a8"
             ],
             [
              0.3333333333333333,
              "#9c179e"
             ],
             [
              0.4444444444444444,
              "#bd3786"
             ],
             [
              0.5555555555555556,
              "#d8576b"
             ],
             [
              0.6666666666666666,
              "#ed7953"
             ],
             [
              0.7777777777777778,
              "#fb9f3a"
             ],
             [
              0.8888888888888888,
              "#fdca26"
             ],
             [
              1,
              "#f0f921"
             ]
            ],
            "type": "heatmap"
           }
          ],
          "heatmapgl": [
           {
            "colorbar": {
             "outlinewidth": 0,
             "ticks": ""
            },
            "colorscale": [
             [
              0,
              "#0d0887"
             ],
             [
              0.1111111111111111,
              "#46039f"
             ],
             [
              0.2222222222222222,
              "#7201a8"
             ],
             [
              0.3333333333333333,
              "#9c179e"
             ],
             [
              0.4444444444444444,
              "#bd3786"
             ],
             [
              0.5555555555555556,
              "#d8576b"
             ],
             [
              0.6666666666666666,
              "#ed7953"
             ],
             [
              0.7777777777777778,
              "#fb9f3a"
             ],
             [
              0.8888888888888888,
              "#fdca26"
             ],
             [
              1,
              "#f0f921"
             ]
            ],
            "type": "heatmapgl"
           }
          ],
          "histogram": [
           {
            "marker": {
             "pattern": {
              "fillmode": "overlay",
              "size": 10,
              "solidity": 0.2
             }
            },
            "type": "histogram"
           }
          ],
          "histogram2d": [
           {
            "colorbar": {
             "outlinewidth": 0,
             "ticks": ""
            },
            "colorscale": [
             [
              0,
              "#0d0887"
             ],
             [
              0.1111111111111111,
              "#46039f"
             ],
             [
              0.2222222222222222,
              "#7201a8"
             ],
             [
              0.3333333333333333,
              "#9c179e"
             ],
             [
              0.4444444444444444,
              "#bd3786"
             ],
             [
              0.5555555555555556,
              "#d8576b"
             ],
             [
              0.6666666666666666,
              "#ed7953"
             ],
             [
              0.7777777777777778,
              "#fb9f3a"
             ],
             [
              0.8888888888888888,
              "#fdca26"
             ],
             [
              1,
              "#f0f921"
             ]
            ],
            "type": "histogram2d"
           }
          ],
          "histogram2dcontour": [
           {
            "colorbar": {
             "outlinewidth": 0,
             "ticks": ""
            },
            "colorscale": [
             [
              0,
              "#0d0887"
             ],
             [
              0.1111111111111111,
              "#46039f"
             ],
             [
              0.2222222222222222,
              "#7201a8"
             ],
             [
              0.3333333333333333,
              "#9c179e"
             ],
             [
              0.4444444444444444,
              "#bd3786"
             ],
             [
              0.5555555555555556,
              "#d8576b"
             ],
             [
              0.6666666666666666,
              "#ed7953"
             ],
             [
              0.7777777777777778,
              "#fb9f3a"
             ],
             [
              0.8888888888888888,
              "#fdca26"
             ],
             [
              1,
              "#f0f921"
             ]
            ],
            "type": "histogram2dcontour"
           }
          ],
          "mesh3d": [
           {
            "colorbar": {
             "outlinewidth": 0,
             "ticks": ""
            },
            "type": "mesh3d"
           }
          ],
          "parcoords": [
           {
            "line": {
             "colorbar": {
              "outlinewidth": 0,
              "ticks": ""
             }
            },
            "type": "parcoords"
           }
          ],
          "pie": [
           {
            "automargin": true,
            "type": "pie"
           }
          ],
          "scatter": [
           {
            "marker": {
             "line": {
              "color": "#283442"
             }
            },
            "type": "scatter"
           }
          ],
          "scatter3d": [
           {
            "line": {
             "colorbar": {
              "outlinewidth": 0,
              "ticks": ""
             }
            },
            "marker": {
             "colorbar": {
              "outlinewidth": 0,
              "ticks": ""
             }
            },
            "type": "scatter3d"
           }
          ],
          "scattercarpet": [
           {
            "marker": {
             "colorbar": {
              "outlinewidth": 0,
              "ticks": ""
             }
            },
            "type": "scattercarpet"
           }
          ],
          "scattergeo": [
           {
            "marker": {
             "colorbar": {
              "outlinewidth": 0,
              "ticks": ""
             }
            },
            "type": "scattergeo"
           }
          ],
          "scattergl": [
           {
            "marker": {
             "line": {
              "color": "#283442"
             }
            },
            "type": "scattergl"
           }
          ],
          "scattermapbox": [
           {
            "marker": {
             "colorbar": {
              "outlinewidth": 0,
              "ticks": ""
             }
            },
            "type": "scattermapbox"
           }
          ],
          "scatterpolar": [
           {
            "marker": {
             "colorbar": {
              "outlinewidth": 0,
              "ticks": ""
             }
            },
            "type": "scatterpolar"
           }
          ],
          "scatterpolargl": [
           {
            "marker": {
             "colorbar": {
              "outlinewidth": 0,
              "ticks": ""
             }
            },
            "type": "scatterpolargl"
           }
          ],
          "scatterternary": [
           {
            "marker": {
             "colorbar": {
              "outlinewidth": 0,
              "ticks": ""
             }
            },
            "type": "scatterternary"
           }
          ],
          "surface": [
           {
            "colorbar": {
             "outlinewidth": 0,
             "ticks": ""
            },
            "colorscale": [
             [
              0,
              "#0d0887"
             ],
             [
              0.1111111111111111,
              "#46039f"
             ],
             [
              0.2222222222222222,
              "#7201a8"
             ],
             [
              0.3333333333333333,
              "#9c179e"
             ],
             [
              0.4444444444444444,
              "#bd3786"
             ],
             [
              0.5555555555555556,
              "#d8576b"
             ],
             [
              0.6666666666666666,
              "#ed7953"
             ],
             [
              0.7777777777777778,
              "#fb9f3a"
             ],
             [
              0.8888888888888888,
              "#fdca26"
             ],
             [
              1,
              "#f0f921"
             ]
            ],
            "type": "surface"
           }
          ],
          "table": [
           {
            "cells": {
             "fill": {
              "color": "#506784"
             },
             "line": {
              "color": "rgb(17,17,17)"
             }
            },
            "header": {
             "fill": {
              "color": "#2a3f5f"
             },
             "line": {
              "color": "rgb(17,17,17)"
             }
            },
            "type": "table"
           }
          ]
         },
         "layout": {
          "annotationdefaults": {
           "arrowcolor": "#f2f5fa",
           "arrowhead": 0,
           "arrowwidth": 1
          },
          "autotypenumbers": "strict",
          "coloraxis": {
           "colorbar": {
            "outlinewidth": 0,
            "ticks": ""
           }
          },
          "colorscale": {
           "diverging": [
            [
             0,
             "#8e0152"
            ],
            [
             0.1,
             "#c51b7d"
            ],
            [
             0.2,
             "#de77ae"
            ],
            [
             0.3,
             "#f1b6da"
            ],
            [
             0.4,
             "#fde0ef"
            ],
            [
             0.5,
             "#f7f7f7"
            ],
            [
             0.6,
             "#e6f5d0"
            ],
            [
             0.7,
             "#b8e186"
            ],
            [
             0.8,
             "#7fbc41"
            ],
            [
             0.9,
             "#4d9221"
            ],
            [
             1,
             "#276419"
            ]
           ],
           "sequential": [
            [
             0,
             "#0d0887"
            ],
            [
             0.1111111111111111,
             "#46039f"
            ],
            [
             0.2222222222222222,
             "#7201a8"
            ],
            [
             0.3333333333333333,
             "#9c179e"
            ],
            [
             0.4444444444444444,
             "#bd3786"
            ],
            [
             0.5555555555555556,
             "#d8576b"
            ],
            [
             0.6666666666666666,
             "#ed7953"
            ],
            [
             0.7777777777777778,
             "#fb9f3a"
            ],
            [
             0.8888888888888888,
             "#fdca26"
            ],
            [
             1,
             "#f0f921"
            ]
           ],
           "sequentialminus": [
            [
             0,
             "#0d0887"
            ],
            [
             0.1111111111111111,
             "#46039f"
            ],
            [
             0.2222222222222222,
             "#7201a8"
            ],
            [
             0.3333333333333333,
             "#9c179e"
            ],
            [
             0.4444444444444444,
             "#bd3786"
            ],
            [
             0.5555555555555556,
             "#d8576b"
            ],
            [
             0.6666666666666666,
             "#ed7953"
            ],
            [
             0.7777777777777778,
             "#fb9f3a"
            ],
            [
             0.8888888888888888,
             "#fdca26"
            ],
            [
             1,
             "#f0f921"
            ]
           ]
          },
          "colorway": [
           "#636efa",
           "#EF553B",
           "#00cc96",
           "#ab63fa",
           "#FFA15A",
           "#19d3f3",
           "#FF6692",
           "#B6E880",
           "#FF97FF",
           "#FECB52"
          ],
          "font": {
           "color": "#f2f5fa"
          },
          "geo": {
           "bgcolor": "rgb(17,17,17)",
           "lakecolor": "rgb(17,17,17)",
           "landcolor": "rgb(17,17,17)",
           "showlakes": true,
           "showland": true,
           "subunitcolor": "#506784"
          },
          "hoverlabel": {
           "align": "left"
          },
          "hovermode": "closest",
          "mapbox": {
           "style": "dark"
          },
          "paper_bgcolor": "rgb(17,17,17)",
          "plot_bgcolor": "rgb(17,17,17)",
          "polar": {
           "angularaxis": {
            "gridcolor": "#506784",
            "linecolor": "#506784",
            "ticks": ""
           },
           "bgcolor": "rgb(17,17,17)",
           "radialaxis": {
            "gridcolor": "#506784",
            "linecolor": "#506784",
            "ticks": ""
           }
          },
          "scene": {
           "xaxis": {
            "backgroundcolor": "rgb(17,17,17)",
            "gridcolor": "#506784",
            "gridwidth": 2,
            "linecolor": "#506784",
            "showbackground": true,
            "ticks": "",
            "zerolinecolor": "#C8D4E3"
           },
           "yaxis": {
            "backgroundcolor": "rgb(17,17,17)",
            "gridcolor": "#506784",
            "gridwidth": 2,
            "linecolor": "#506784",
            "showbackground": true,
            "ticks": "",
            "zerolinecolor": "#C8D4E3"
           },
           "zaxis": {
            "backgroundcolor": "rgb(17,17,17)",
            "gridcolor": "#506784",
            "gridwidth": 2,
            "linecolor": "#506784",
            "showbackground": true,
            "ticks": "",
            "zerolinecolor": "#C8D4E3"
           }
          },
          "shapedefaults": {
           "line": {
            "color": "#f2f5fa"
           }
          },
          "sliderdefaults": {
           "bgcolor": "#C8D4E3",
           "bordercolor": "rgb(17,17,17)",
           "borderwidth": 1,
           "tickwidth": 0
          },
          "ternary": {
           "aaxis": {
            "gridcolor": "#506784",
            "linecolor": "#506784",
            "ticks": ""
           },
           "baxis": {
            "gridcolor": "#506784",
            "linecolor": "#506784",
            "ticks": ""
           },
           "bgcolor": "rgb(17,17,17)",
           "caxis": {
            "gridcolor": "#506784",
            "linecolor": "#506784",
            "ticks": ""
           }
          },
          "title": {
           "x": 0.05
          },
          "updatemenudefaults": {
           "bgcolor": "#506784",
           "borderwidth": 0
          },
          "xaxis": {
           "automargin": true,
           "gridcolor": "#283442",
           "linecolor": "#506784",
           "ticks": "",
           "title": {
            "standoff": 15
           },
           "zerolinecolor": "#283442",
           "zerolinewidth": 2
          },
          "yaxis": {
           "automargin": true,
           "gridcolor": "#283442",
           "linecolor": "#506784",
           "ticks": "",
           "title": {
            "standoff": 15
           },
           "zerolinecolor": "#283442",
           "zerolinewidth": 2
          }
         }
        },
        "title": {
         "text": "Prediksi Produksi di Provinsi Sumatera Utara Dari Tahun 2021-2024"
        },
        "xaxis": {
         "anchor": "y",
         "autorange": true,
         "domain": [
          0,
          1
         ],
         "range": [
          -0.18416631667366654,
          3.1841663166736667
         ],
         "title": {
          "text": "Tahun"
         },
         "type": "category"
        },
        "yaxis": {
         "anchor": "x",
         "autorange": true,
         "domain": [
          0,
          1
         ],
         "range": [
          2220665.840911602,
          4025030.5690883975
         ],
         "title": {
          "text": "Jumlah Produksi"
         },
         "type": "linear"
        }
       }
      },
      "text/html": [
       "<div>                            <div id=\"2206dfab-5d78-499a-b483-3ae9e4f8763e\" class=\"plotly-graph-div\" style=\"height:525px; width:100%;\"></div>            <script type=\"text/javascript\">                require([\"plotly\"], function(Plotly) {                    window.PLOTLYENV=window.PLOTLYENV || {};                                    if (document.getElementById(\"2206dfab-5d78-499a-b483-3ae9e4f8763e\")) {                    Plotly.newPlot(                        \"2206dfab-5d78-499a-b483-3ae9e4f8763e\",                        [{\"hovertemplate\":\"x=%{x}<br>y=%{y}<extra></extra>\",\"legendgroup\":\"\",\"line\":{\"color\":\"#636efa\",\"dash\":\"solid\"},\"marker\":{\"symbol\":\"circle\"},\"mode\":\"markers+lines\",\"name\":\"\",\"orientation\":\"v\",\"showlegend\":false,\"x\":[\"2021\",\"2022\",\"2023\",\"2024\"],\"xaxis\":\"x\",\"y\":[3884021.43,2332711.07,3404764.44,3912985.34],\"yaxis\":\"y\",\"type\":\"scatter\"}],                        {\"template\":{\"data\":{\"barpolar\":[{\"marker\":{\"line\":{\"color\":\"rgb(17,17,17)\",\"width\":0.5},\"pattern\":{\"fillmode\":\"overlay\",\"size\":10,\"solidity\":0.2}},\"type\":\"barpolar\"}],\"bar\":[{\"error_x\":{\"color\":\"#f2f5fa\"},\"error_y\":{\"color\":\"#f2f5fa\"},\"marker\":{\"line\":{\"color\":\"rgb(17,17,17)\",\"width\":0.5},\"pattern\":{\"fillmode\":\"overlay\",\"size\":10,\"solidity\":0.2}},\"type\":\"bar\"}],\"carpet\":[{\"aaxis\":{\"endlinecolor\":\"#A2B1C6\",\"gridcolor\":\"#506784\",\"linecolor\":\"#506784\",\"minorgridcolor\":\"#506784\",\"startlinecolor\":\"#A2B1C6\"},\"baxis\":{\"endlinecolor\":\"#A2B1C6\",\"gridcolor\":\"#506784\",\"linecolor\":\"#506784\",\"minorgridcolor\":\"#506784\",\"startlinecolor\":\"#A2B1C6\"},\"type\":\"carpet\"}],\"choropleth\":[{\"colorbar\":{\"outlinewidth\":0,\"ticks\":\"\"},\"type\":\"choropleth\"}],\"contourcarpet\":[{\"colorbar\":{\"outlinewidth\":0,\"ticks\":\"\"},\"type\":\"contourcarpet\"}],\"contour\":[{\"colorbar\":{\"outlinewidth\":0,\"ticks\":\"\"},\"colorscale\":[[0.0,\"#0d0887\"],[0.1111111111111111,\"#46039f\"],[0.2222222222222222,\"#7201a8\"],[0.3333333333333333,\"#9c179e\"],[0.4444444444444444,\"#bd3786\"],[0.5555555555555556,\"#d8576b\"],[0.6666666666666666,\"#ed7953\"],[0.7777777777777778,\"#fb9f3a\"],[0.8888888888888888,\"#fdca26\"],[1.0,\"#f0f921\"]],\"type\":\"contour\"}],\"heatmapgl\":[{\"colorbar\":{\"outlinewidth\":0,\"ticks\":\"\"},\"colorscale\":[[0.0,\"#0d0887\"],[0.1111111111111111,\"#46039f\"],[0.2222222222222222,\"#7201a8\"],[0.3333333333333333,\"#9c179e\"],[0.4444444444444444,\"#bd3786\"],[0.5555555555555556,\"#d8576b\"],[0.6666666666666666,\"#ed7953\"],[0.7777777777777778,\"#fb9f3a\"],[0.8888888888888888,\"#fdca26\"],[1.0,\"#f0f921\"]],\"type\":\"heatmapgl\"}],\"heatmap\":[{\"colorbar\":{\"outlinewidth\":0,\"ticks\":\"\"},\"colorscale\":[[0.0,\"#0d0887\"],[0.1111111111111111,\"#46039f\"],[0.2222222222222222,\"#7201a8\"],[0.3333333333333333,\"#9c179e\"],[0.4444444444444444,\"#bd3786\"],[0.5555555555555556,\"#d8576b\"],[0.6666666666666666,\"#ed7953\"],[0.7777777777777778,\"#fb9f3a\"],[0.8888888888888888,\"#fdca26\"],[1.0,\"#f0f921\"]],\"type\":\"heatmap\"}],\"histogram2dcontour\":[{\"colorbar\":{\"outlinewidth\":0,\"ticks\":\"\"},\"colorscale\":[[0.0,\"#0d0887\"],[0.1111111111111111,\"#46039f\"],[0.2222222222222222,\"#7201a8\"],[0.3333333333333333,\"#9c179e\"],[0.4444444444444444,\"#bd3786\"],[0.5555555555555556,\"#d8576b\"],[0.6666666666666666,\"#ed7953\"],[0.7777777777777778,\"#fb9f3a\"],[0.8888888888888888,\"#fdca26\"],[1.0,\"#f0f921\"]],\"type\":\"histogram2dcontour\"}],\"histogram2d\":[{\"colorbar\":{\"outlinewidth\":0,\"ticks\":\"\"},\"colorscale\":[[0.0,\"#0d0887\"],[0.1111111111111111,\"#46039f\"],[0.2222222222222222,\"#7201a8\"],[0.3333333333333333,\"#9c179e\"],[0.4444444444444444,\"#bd3786\"],[0.5555555555555556,\"#d8576b\"],[0.6666666666666666,\"#ed7953\"],[0.7777777777777778,\"#fb9f3a\"],[0.8888888888888888,\"#fdca26\"],[1.0,\"#f0f921\"]],\"type\":\"histogram2d\"}],\"histogram\":[{\"marker\":{\"pattern\":{\"fillmode\":\"overlay\",\"size\":10,\"solidity\":0.2}},\"type\":\"histogram\"}],\"mesh3d\":[{\"colorbar\":{\"outlinewidth\":0,\"ticks\":\"\"},\"type\":\"mesh3d\"}],\"parcoords\":[{\"line\":{\"colorbar\":{\"outlinewidth\":0,\"ticks\":\"\"}},\"type\":\"parcoords\"}],\"pie\":[{\"automargin\":true,\"type\":\"pie\"}],\"scatter3d\":[{\"line\":{\"colorbar\":{\"outlinewidth\":0,\"ticks\":\"\"}},\"marker\":{\"colorbar\":{\"outlinewidth\":0,\"ticks\":\"\"}},\"type\":\"scatter3d\"}],\"scattercarpet\":[{\"marker\":{\"colorbar\":{\"outlinewidth\":0,\"ticks\":\"\"}},\"type\":\"scattercarpet\"}],\"scattergeo\":[{\"marker\":{\"colorbar\":{\"outlinewidth\":0,\"ticks\":\"\"}},\"type\":\"scattergeo\"}],\"scattergl\":[{\"marker\":{\"line\":{\"color\":\"#283442\"}},\"type\":\"scattergl\"}],\"scattermapbox\":[{\"marker\":{\"colorbar\":{\"outlinewidth\":0,\"ticks\":\"\"}},\"type\":\"scattermapbox\"}],\"scatterpolargl\":[{\"marker\":{\"colorbar\":{\"outlinewidth\":0,\"ticks\":\"\"}},\"type\":\"scatterpolargl\"}],\"scatterpolar\":[{\"marker\":{\"colorbar\":{\"outlinewidth\":0,\"ticks\":\"\"}},\"type\":\"scatterpolar\"}],\"scatter\":[{\"marker\":{\"line\":{\"color\":\"#283442\"}},\"type\":\"scatter\"}],\"scatterternary\":[{\"marker\":{\"colorbar\":{\"outlinewidth\":0,\"ticks\":\"\"}},\"type\":\"scatterternary\"}],\"surface\":[{\"colorbar\":{\"outlinewidth\":0,\"ticks\":\"\"},\"colorscale\":[[0.0,\"#0d0887\"],[0.1111111111111111,\"#46039f\"],[0.2222222222222222,\"#7201a8\"],[0.3333333333333333,\"#9c179e\"],[0.4444444444444444,\"#bd3786\"],[0.5555555555555556,\"#d8576b\"],[0.6666666666666666,\"#ed7953\"],[0.7777777777777778,\"#fb9f3a\"],[0.8888888888888888,\"#fdca26\"],[1.0,\"#f0f921\"]],\"type\":\"surface\"}],\"table\":[{\"cells\":{\"fill\":{\"color\":\"#506784\"},\"line\":{\"color\":\"rgb(17,17,17)\"}},\"header\":{\"fill\":{\"color\":\"#2a3f5f\"},\"line\":{\"color\":\"rgb(17,17,17)\"}},\"type\":\"table\"}]},\"layout\":{\"annotationdefaults\":{\"arrowcolor\":\"#f2f5fa\",\"arrowhead\":0,\"arrowwidth\":1},\"autotypenumbers\":\"strict\",\"coloraxis\":{\"colorbar\":{\"outlinewidth\":0,\"ticks\":\"\"}},\"colorscale\":{\"diverging\":[[0,\"#8e0152\"],[0.1,\"#c51b7d\"],[0.2,\"#de77ae\"],[0.3,\"#f1b6da\"],[0.4,\"#fde0ef\"],[0.5,\"#f7f7f7\"],[0.6,\"#e6f5d0\"],[0.7,\"#b8e186\"],[0.8,\"#7fbc41\"],[0.9,\"#4d9221\"],[1,\"#276419\"]],\"sequential\":[[0.0,\"#0d0887\"],[0.1111111111111111,\"#46039f\"],[0.2222222222222222,\"#7201a8\"],[0.3333333333333333,\"#9c179e\"],[0.4444444444444444,\"#bd3786\"],[0.5555555555555556,\"#d8576b\"],[0.6666666666666666,\"#ed7953\"],[0.7777777777777778,\"#fb9f3a\"],[0.8888888888888888,\"#fdca26\"],[1.0,\"#f0f921\"]],\"sequentialminus\":[[0.0,\"#0d0887\"],[0.1111111111111111,\"#46039f\"],[0.2222222222222222,\"#7201a8\"],[0.3333333333333333,\"#9c179e\"],[0.4444444444444444,\"#bd3786\"],[0.5555555555555556,\"#d8576b\"],[0.6666666666666666,\"#ed7953\"],[0.7777777777777778,\"#fb9f3a\"],[0.8888888888888888,\"#fdca26\"],[1.0,\"#f0f921\"]]},\"colorway\":[\"#636efa\",\"#EF553B\",\"#00cc96\",\"#ab63fa\",\"#FFA15A\",\"#19d3f3\",\"#FF6692\",\"#B6E880\",\"#FF97FF\",\"#FECB52\"],\"font\":{\"color\":\"#f2f5fa\"},\"geo\":{\"bgcolor\":\"rgb(17,17,17)\",\"lakecolor\":\"rgb(17,17,17)\",\"landcolor\":\"rgb(17,17,17)\",\"showlakes\":true,\"showland\":true,\"subunitcolor\":\"#506784\"},\"hoverlabel\":{\"align\":\"left\"},\"hovermode\":\"closest\",\"mapbox\":{\"style\":\"dark\"},\"paper_bgcolor\":\"rgb(17,17,17)\",\"plot_bgcolor\":\"rgb(17,17,17)\",\"polar\":{\"angularaxis\":{\"gridcolor\":\"#506784\",\"linecolor\":\"#506784\",\"ticks\":\"\"},\"bgcolor\":\"rgb(17,17,17)\",\"radialaxis\":{\"gridcolor\":\"#506784\",\"linecolor\":\"#506784\",\"ticks\":\"\"}},\"scene\":{\"xaxis\":{\"backgroundcolor\":\"rgb(17,17,17)\",\"gridcolor\":\"#506784\",\"gridwidth\":2,\"linecolor\":\"#506784\",\"showbackground\":true,\"ticks\":\"\",\"zerolinecolor\":\"#C8D4E3\"},\"yaxis\":{\"backgroundcolor\":\"rgb(17,17,17)\",\"gridcolor\":\"#506784\",\"gridwidth\":2,\"linecolor\":\"#506784\",\"showbackground\":true,\"ticks\":\"\",\"zerolinecolor\":\"#C8D4E3\"},\"zaxis\":{\"backgroundcolor\":\"rgb(17,17,17)\",\"gridcolor\":\"#506784\",\"gridwidth\":2,\"linecolor\":\"#506784\",\"showbackground\":true,\"ticks\":\"\",\"zerolinecolor\":\"#C8D4E3\"}},\"shapedefaults\":{\"line\":{\"color\":\"#f2f5fa\"}},\"sliderdefaults\":{\"bgcolor\":\"#C8D4E3\",\"bordercolor\":\"rgb(17,17,17)\",\"borderwidth\":1,\"tickwidth\":0},\"ternary\":{\"aaxis\":{\"gridcolor\":\"#506784\",\"linecolor\":\"#506784\",\"ticks\":\"\"},\"baxis\":{\"gridcolor\":\"#506784\",\"linecolor\":\"#506784\",\"ticks\":\"\"},\"bgcolor\":\"rgb(17,17,17)\",\"caxis\":{\"gridcolor\":\"#506784\",\"linecolor\":\"#506784\",\"ticks\":\"\"}},\"title\":{\"x\":0.05},\"updatemenudefaults\":{\"bgcolor\":\"#506784\",\"borderwidth\":0},\"xaxis\":{\"automargin\":true,\"gridcolor\":\"#283442\",\"linecolor\":\"#506784\",\"ticks\":\"\",\"title\":{\"standoff\":15},\"zerolinecolor\":\"#283442\",\"zerolinewidth\":2},\"yaxis\":{\"automargin\":true,\"gridcolor\":\"#283442\",\"linecolor\":\"#506784\",\"ticks\":\"\",\"title\":{\"standoff\":15},\"zerolinecolor\":\"#283442\",\"zerolinewidth\":2}}},\"xaxis\":{\"anchor\":\"y\",\"domain\":[0.0,1.0],\"title\":{\"text\":\"Tahun\"}},\"yaxis\":{\"anchor\":\"x\",\"domain\":[0.0,1.0],\"title\":{\"text\":\"Jumlah Produksi\"}},\"legend\":{\"tracegroupgap\":0},\"margin\":{\"t\":60},\"title\":{\"text\":\"Prediksi Produksi di Provinsi Sumatera Utara Dari Tahun 2021-2024\"}},                        {\"responsive\": true}                    ).then(function(){\n",
       "                            \n",
       "var gd = document.getElementById('2206dfab-5d78-499a-b483-3ae9e4f8763e');\n",
       "var x = new MutationObserver(function (mutations, observer) {{\n",
       "        var display = window.getComputedStyle(gd).display;\n",
       "        if (!display || display === 'none') {{\n",
       "            console.log([gd, 'removed!']);\n",
       "            Plotly.purge(gd);\n",
       "            observer.disconnect();\n",
       "        }}\n",
       "}});\n",
       "\n",
       "// Listen for the removal of the full notebook cells\n",
       "var notebookContainer = gd.closest('#notebook-container');\n",
       "if (notebookContainer) {{\n",
       "    x.observe(notebookContainer, {childList: true});\n",
       "}}\n",
       "\n",
       "// Listen for the clearing of the current output cell\n",
       "var outputEl = gd.closest('.output');\n",
       "if (outputEl) {{\n",
       "    x.observe(outputEl, {childList: true});\n",
       "}}\n",
       "\n",
       "                        })                };                });            </script>        </div>"
      ]
     },
     "metadata": {},
     "output_type": "display_data"
    }
   ],
   "source": [
    "fig = px.line(x=['2021','2022','2023','2024'], y = hasil['Sumatera Utara'].T[0], template='plotly_dark', markers=True)\n",
    "fig.update_layout(title=f'Prediksi Produksi di Provinsi Sumatera Utara Dari Tahun 2021-2024',\n",
    "           xaxis_title='Tahun',\n",
    "           yaxis_title='Jumlah Produksi')\n"
   ]
  },
  {
   "cell_type": "code",
   "execution_count": 79,
   "id": "e74643b9-05b9-4af8-9bb3-9b6ace8994cc",
   "metadata": {},
   "outputs": [],
   "source": [
    "tahun = ['2021','2022','2023','2024']\n",
    "\n",
    "tahun_2021= []\n",
    "tahun_2022 = []\n",
    "tahun_2023 = []\n",
    "tahun_2024 = []\n",
    "for i in hasil:\n",
    "    tahun_2021.append(hasil[i][0])\n",
    "    tahun_2022.append(hasil[i][1])\n",
    "    tahun_2023.append(hasil[i][2])\n",
    "    tahun_2024.append(hasil[i][3])\n",
    "    \n",
    "    "
   ]
  },
  {
   "cell_type": "code",
   "execution_count": 91,
   "id": "9763dc27",
   "metadata": {},
   "outputs": [],
   "source": [
    "total_prediksi = {'2020':[tahun_2020],'2021':[np.sum(tahun_2021).round(2)],'2022':[np.sum(tahun_2022).round(2)],'2023':[np.sum(tahun_2023).round(2)],'2024':[np.sum(tahun_2024)]}"
   ]
  },
  {
   "cell_type": "code",
   "execution_count": 92,
   "id": "98ca6aad",
   "metadata": {},
   "outputs": [
    {
     "data": {
      "text/html": [
       "<div>\n",
       "<style scoped>\n",
       "    .dataframe tbody tr th:only-of-type {\n",
       "        vertical-align: middle;\n",
       "    }\n",
       "\n",
       "    .dataframe tbody tr th {\n",
       "        vertical-align: top;\n",
       "    }\n",
       "\n",
       "    .dataframe thead th {\n",
       "        text-align: right;\n",
       "    }\n",
       "</style>\n",
       "<table border=\"1\" class=\"dataframe\">\n",
       "  <thead>\n",
       "    <tr style=\"text-align: right;\">\n",
       "      <th></th>\n",
       "      <th>2020</th>\n",
       "      <th>2021</th>\n",
       "      <th>2022</th>\n",
       "      <th>2023</th>\n",
       "      <th>2024</th>\n",
       "    </tr>\n",
       "  </thead>\n",
       "  <tbody>\n",
       "    <tr>\n",
       "      <th>0</th>\n",
       "      <td>11680781.08</td>\n",
       "      <td>13079218.04</td>\n",
       "      <td>11455934.76</td>\n",
       "      <td>12292959.5</td>\n",
       "      <td>16818795.29</td>\n",
       "    </tr>\n",
       "  </tbody>\n",
       "</table>\n",
       "</div>"
      ],
      "text/plain": [
       "          2020         2021         2022        2023         2024\n",
       "0  11680781.08  13079218.04  11455934.76  12292959.5  16818795.29"
      ]
     },
     "execution_count": 92,
     "metadata": {},
     "output_type": "execute_result"
    }
   ],
   "source": [
    "total_produksi= pd.DataFrame(total_prediksi)\n",
    "total_produksi"
   ]
  },
  {
   "cell_type": "code",
   "execution_count": 133,
   "id": "e810bb2e-6a84-4820-9a6a-6c5fa3867cf6",
   "metadata": {},
   "outputs": [
    {
     "data": {
      "image/png": "[encoded data removed]",
      "text/plain": [
       "<Figure size 720x360 with 1 Axes>"
      ]
     },
     "metadata": {
      "needs_background": "light"
     },
     "output_type": "display_data"
    }
   ],
   "source": [
    "plt.figure(figsize=(10,5))\n",
    "plt.plot(['2020','2021','2022','2023','2024'],total_produksi.values[0],label='Total Produksi')\n",
    "plt.xlabel(\"Tahun\")\n",
    "plt.ylabel(\"Produksi (Ton)\")\n",
    "plt.title(\"Prediksi Tanaman Padi Di Pulau Sumatera\")\n",
    "persentase = (total_produksi.values[0][-1] -total_produksi.values[0][0]) / total_produksi.values[0][0]  * 100\n",
    "plt.annotate(f\"{persentase:.2f}%\", (3.8, total_produksi.values[0][0]+1500000), xycoords='data',\n",
    "              arrowprops=dict(facecolor='black', shrink=0.05))\n",
    "plt.ylim()\n",
    "plt.legend();\n",
    "plt.savefig(\"grafik_prediksi_tanaman_padi.png\")"
   ]
  },
  {
   "cell_type": "code",
   "execution_count": 47,
   "id": "539fdfcc-5801-490d-9408-18d69b254933",
   "metadata": {},
   "outputs": [
    {
     "data": {
      "text/plain": [
       "{'Aceh': array([[1454813.28],\n",
       "        [1608489.23],\n",
       "        [1507747.86],\n",
       "        [1807860.36]]),\n",
       " 'Sumatera Utara': array([[3884021.43],\n",
       "        [2332711.07],\n",
       "        [3404764.44],\n",
       "        [3912985.34]]),\n",
       " 'Sumatera Barat': array([[1927395.3 ],\n",
       "        [1544321.46],\n",
       "        [1678814.34],\n",
       "        [2501942.84]]),\n",
       " 'Riau': array([[452960.04],\n",
       "        [263571.08],\n",
       "        [442764.7 ],\n",
       "        [393514.73]]),\n",
       " 'Jambi': array([[588768.42],\n",
       "        [461037.74],\n",
       "        [583863.77],\n",
       "        [571078.98]]),\n",
       " 'Sumatera Selatan': array([[2050865.32],\n",
       "        [2286820.42],\n",
       "        [1832557.01],\n",
       "        [3526231.01]]),\n",
       " 'Bengkulu': array([[476558.29],\n",
       "        [595862.8 ],\n",
       "        [542169.02],\n",
       "        [618067.13]]),\n",
       " 'Lampung': array([[2216840.72],\n",
       "        [2330421.4 ],\n",
       "        [2258958.88],\n",
       "        [3458494.18]]),\n",
       " 'Kepulauan Riau': array([[851.25],\n",
       "        [853.71],\n",
       "        [860.44],\n",
       "        [853.36]]),\n",
       " 'Bangka Belitung': array([[26143.99],\n",
       "        [31845.85],\n",
       "        [40459.04],\n",
       "        [27767.36]])}"
      ]
     },
     "execution_count": 47,
     "metadata": {},
     "output_type": "execute_result"
    }
   ],
   "source": [
    "hasil"
   ]
  },
  {
   "cell_type": "code",
   "execution_count": 63,
   "id": "814b0713-c8cd-4184-92d9-65c90eb8155c",
   "metadata": {},
   "outputs": [],
   "source": [
    "def cek_kenaikan_penurunan(arr):\n",
    "    arr = np.array(arr)\n",
    "    if np.all(np.diff(arr) > 0):\n",
    "        return \"Kenaikan\"\n",
    "    elif np.all(np.diff(arr) < 0):\n",
    "        return \"Penurunan\"\n",
    "    else:\n",
    "        return \"Tidak ada perubahan\""
   ]
  },
  {
   "cell_type": "code",
   "execution_count": 72,
   "id": "d182361e-4b14-4391-af5e-2a5aad3b47fd",
   "metadata": {},
   "outputs": [
    {
     "data": {
      "text/plain": [
       "dict_keys(['Aceh', 'Sumatera Utara', 'Sumatera Barat', 'Riau', 'Jambi', 'Sumatera Selatan', 'Bengkulu', 'Lampung', 'Kepulauan Riau', 'Bangka Belitung'])"
      ]
     },
     "execution_count": 72,
     "metadata": {},
     "output_type": "execute_result"
    }
   ],
   "source": [
    "hasil.keys()"
   ]
  },
  {
   "cell_type": "code",
   "execution_count": 67,
   "id": "ac0e1cfb-6641-420f-bfed-2845d9fbc95c",
   "metadata": {},
   "outputs": [],
   "source": [
    "def cek_perubahan_dengan_persentase(arr, persentase):\n",
    "    arr = np.array(arr)\n",
    "    diff = np.diff(arr)\n",
    "    perubahan_persentase = (diff / arr[:-1]) * 100\n",
    "    if np.all(perubahan_persentase >= persentase):\n",
    "        return f\"Kenaikan lebih dari {persentase}%\"\n",
    "    elif np.all(perubahan_persentase <= -persentase):\n",
    "        return f\"Penurunan lebih dari {persentase}%\"\n",
    "    else:\n",
    "        return \"Tidak ada perubahan signifikan\""
   ]
  },
  {
   "cell_type": "code",
   "execution_count": 134,
   "id": "22cbcefd-5a61-43bf-8177-7aca49dd6a42",
   "metadata": {},
   "outputs": [],
   "source": [
    "s1 = 2076280\n",
    "s2 = 3912985.34"
   ]
  },
  {
   "cell_type": "code",
   "execution_count": 135,
   "id": "18682f0c",
   "metadata": {},
   "outputs": [
    {
     "data": {
      "text/plain": [
       "array([1836705.34])"
      ]
     },
     "execution_count": 135,
     "metadata": {},
     "output_type": "execute_result"
    }
   ],
   "source": [
    "np.diff([s1,s2])"
   ]
  },
  {
   "cell_type": "code",
   "execution_count": 86,
   "id": "130c1fd5",
   "metadata": {},
   "outputs": [],
   "source": [
    "tahun_2020 = np.sum(df.loc[df['Tahun'] == 2020]['Produksi'])"
   ]
  },
  {
   "cell_type": "code",
   "execution_count": 87,
   "id": "8a602095",
   "metadata": {},
   "outputs": [
    {
     "data": {
      "text/plain": [
       "11680781.08"
      ]
     },
     "execution_count": 87,
     "metadata": {},
     "output_type": "execute_result"
    }
   ],
   "source": [
    "tahun_2020"
   ]
  },
  {
   "cell_type": "code",
   "execution_count": null,
   "id": "d5bed142",
   "metadata": {},
   "outputs": [],
   "source": []
  }
 ],
 "metadata": {
  "kernelspec": {
   "display_name": "Python 3 (ipykernel)",
   "language": "python",
   "name": "python3"
  },
  "language_info": {
   "codemirror_mode": {
    "name": "ipython",
    "version": 3
   },
   "file_extension": ".py",
   "mimetype": "text/x-python",
   "name": "python",
   "nbconvert_exporter": "python",
   "pygments_lexer": "ipython3",
   "version": "3.9.7"
  }
 },
 "nbformat": 4,
 "nbformat_minor": 5
}
